{
 "cells": [
  {
   "cell_type": "code",
   "execution_count": 1,
   "metadata": {},
   "outputs": [],
   "source": [
    "# import pandas\n",
    "import numpy as np\n",
    "import cv2\n",
    "# import os"
   ]
  },
  {
   "cell_type": "markdown",
   "metadata": {},
   "source": [
    "# TRAIN GENERATOR"
   ]
  },
  {
   "cell_type": "code",
   "execution_count": 2,
   "metadata": {},
   "outputs": [],
   "source": [
    "from tensorflow.keras.preprocessing.image import ImageDataGenerator\n",
    "\n",
    "train_datagen = ImageDataGenerator(\n",
    "                    rescale = 1./255,\n",
    "                    rotation_range = 20,\n",
    "                    horizontal_flip = False,\n",
    "                    \n",
    "                    fill_mode = 'wrap',\n",
    "                    validation_split=0.2)\n"
   ]
  },
  {
   "cell_type": "code",
   "execution_count": 3,
   "metadata": {},
   "outputs": [
    {
     "name": "stdout",
     "output_type": "stream",
     "text": [
      "Found 8640 images belonging to 18 classes.\n",
      "Found 2160 images belonging to 18 classes.\n"
     ]
    }
   ],
   "source": [
    "fpath = \"D:\\\\data\"\n",
    "train_generator = train_datagen.flow_from_directory(\n",
    "                  fpath,\n",
    "                  #color_mode='grayscale',\n",
    "                  target_size = (64,64),\n",
    "                  subset='training')\n",
    "\n",
    "validation_generator = train_datagen.flow_from_directory(\n",
    "                  fpath,\n",
    "                  #color_mode='grayscale',\n",
    "                  target_size = (64,64),\n",
    "                  subset='validation'\n",
    ")"
   ]
  },
  {
   "cell_type": "code",
   "execution_count": 4,
   "metadata": {},
   "outputs": [],
   "source": [
    "# np.array(train_generator).shape"
   ]
  },
  {
   "cell_type": "markdown",
   "metadata": {},
   "source": [
    "# import tensorflow as tf\n",
    "\n",
    "from tensorflow.keras import datasets, layers, models\n",
    "import matplotlib.pyplot as plt"
   ]
  },
  {
   "cell_type": "code",
   "execution_count": 5,
   "metadata": {},
   "outputs": [],
   "source": [
    "from tensorflow.keras import datasets, layers, models\n",
    "import matplotlib.pyplot as plt"
   ]
  },
  {
   "cell_type": "code",
   "execution_count": 17,
   "metadata": {},
   "outputs": [],
   "source": [
    "model = models.Sequential()\n",
    "model.add(layers.Conv2D(64, (5, 5), activation='relu',padding='same', input_shape=(64,64,3)))\n",
    "model.add(layers.MaxPooling2D((2,2)))\n",
    "model.add(layers.Conv2D(64, (5, 5),padding='same', activation='relu'))\n",
    "model.add(layers.MaxPooling2D((2, 2)))\n",
    "model.add(layers.Conv2D(64, (5, 5),padding='same', activation='relu'))\n",
    "model.add(layers.MaxPooling2D((2, 2)))\n",
    "# model.add(layers.Conv2D(64, (5, 5),padding='same', activation='relu'))\n",
    "model.add(layers.Flatten())\n",
    "model.add(layers.Dense(64, activation='relu'))\n",
    "model.add(layers.Dropout(0.2))\n",
    "model.add(layers.Dense(18, activation='softmax'))"
   ]
  },
  {
   "cell_type": "code",
   "execution_count": 18,
   "metadata": {},
   "outputs": [
    {
     "name": "stdout",
     "output_type": "stream",
     "text": [
      "Model: \"sequential_3\"\n",
      "_________________________________________________________________\n",
      "Layer (type)                 Output Shape              Param #   \n",
      "=================================================================\n",
      "conv2d_6 (Conv2D)            (None, 64, 64, 64)        4864      \n",
      "_________________________________________________________________\n",
      "max_pooling2d_6 (MaxPooling2 (None, 32, 32, 64)        0         \n",
      "_________________________________________________________________\n",
      "conv2d_7 (Conv2D)            (None, 32, 32, 64)        102464    \n",
      "_________________________________________________________________\n",
      "max_pooling2d_7 (MaxPooling2 (None, 16, 16, 64)        0         \n",
      "_________________________________________________________________\n",
      "conv2d_8 (Conv2D)            (None, 16, 16, 64)        102464    \n",
      "_________________________________________________________________\n",
      "max_pooling2d_8 (MaxPooling2 (None, 8, 8, 64)          0         \n",
      "_________________________________________________________________\n",
      "flatten_3 (Flatten)          (None, 4096)              0         \n",
      "_________________________________________________________________\n",
      "dense_6 (Dense)              (None, 64)                262208    \n",
      "_________________________________________________________________\n",
      "dropout_3 (Dropout)          (None, 64)                0         \n",
      "_________________________________________________________________\n",
      "dense_7 (Dense)              (None, 18)                1170      \n",
      "=================================================================\n",
      "Total params: 473,170\n",
      "Trainable params: 473,170\n",
      "Non-trainable params: 0\n",
      "_________________________________________________________________\n"
     ]
    }
   ],
   "source": [
    "model.summary()"
   ]
  },
  {
   "cell_type": "code",
   "execution_count": 19,
   "metadata": {},
   "outputs": [
    {
     "name": "stdout",
     "output_type": "stream",
     "text": [
      "Train for 100 steps, validate for 68 steps\n",
      "Epoch 1/10\n",
      "100/100 [==============================] - 135s 1s/step - loss: 2.7142 - accuracy: 0.1325 - precision_3: 0.5000 - recall_3: 0.0037 - val_loss: 1.8456 - val_accuracy: 0.3921 - val_precision_3: 0.6697 - val_recall_3: 0.0338\n",
      "Epoch 2/10\n",
      "100/100 [==============================] - 216s 2s/step - loss: 1.4894 - accuracy: 0.5056 - precision_3: 0.7121 - recall_3: 0.3084 - val_loss: 0.6028 - val_accuracy: 0.8116 - val_precision_3: 0.9018 - val_recall_3: 0.7019\n",
      "Epoch 3/10\n",
      "100/100 [==============================] - 169s 2s/step - loss: 0.9057 - accuracy: 0.7019 - precision_3: 0.8182 - recall_3: 0.5991 - val_loss: 0.5347 - val_accuracy: 0.8347 - val_precision_3: 0.8945 - val_recall_3: 0.7495\n",
      "Epoch 4/10\n",
      "100/100 [==============================] - 98s 979ms/step - loss: 0.6511 - accuracy: 0.7816 - precision_3: 0.8597 - recall_3: 0.7144 - val_loss: 0.2625 - val_accuracy: 0.9218 - val_precision_3: 0.9421 - val_recall_3: 0.8963\n",
      "Epoch 5/10\n",
      "100/100 [==============================] - 99s 992ms/step - loss: 0.5482 - accuracy: 0.8191 - precision_3: 0.8791 - recall_3: 0.7638 - val_loss: 0.2334 - val_accuracy: 0.9292 - val_precision_3: 0.9451 - val_recall_3: 0.9162\n",
      "Epoch 6/10\n",
      "100/100 [==============================] - 105s 1s/step - loss: 0.3995 - accuracy: 0.8694 - precision_3: 0.9101 - recall_3: 0.8388 - val_loss: 0.2859 - val_accuracy: 0.9051 - val_precision_3: 0.9257 - val_recall_3: 0.8880\n",
      "Epoch 7/10\n",
      "100/100 [==============================] - 101s 1s/step - loss: 0.3680 - accuracy: 0.8878 - precision_3: 0.9199 - recall_3: 0.8572 - val_loss: 0.2504 - val_accuracy: 0.9278 - val_precision_3: 0.9404 - val_recall_3: 0.9199\n",
      "Epoch 8/10\n",
      "100/100 [==============================] - 104s 1s/step - loss: 0.3374 - accuracy: 0.8966 - precision_3: 0.9270 - recall_3: 0.8684 - val_loss: 0.2151 - val_accuracy: 0.9361 - val_precision_3: 0.9482 - val_recall_3: 0.9241\n",
      "Epoch 9/10\n",
      "100/100 [==============================] - 104s 1s/step - loss: 0.3057 - accuracy: 0.9072 - precision_3: 0.9313 - recall_3: 0.8806 - val_loss: 0.1722 - val_accuracy: 0.9440 - val_precision_3: 0.9520 - val_recall_3: 0.9370\n",
      "Epoch 10/10\n",
      "100/100 [==============================] - 111s 1s/step - loss: 0.2790 - accuracy: 0.9206 - precision_3: 0.9416 - recall_3: 0.9013 - val_loss: 0.2149 - val_accuracy: 0.9338 - val_precision_3: 0.9415 - val_recall_3: 0.9306\n",
      "waktu training adalah :  1261.315489768982  s\n"
     ]
    }
   ],
   "source": [
    "import tensorflow as tf\n",
    "from tensorflow import keras\n",
    "import time\n",
    "\n",
    "opt = keras.optimizers.Adam(learning_rate=0.1)\n",
    "model.compile(optimizer='adam',\n",
    "              loss='categorical_crossentropy',\n",
    "             metrics=['accuracy', tf.keras.metrics.Precision(),tf.keras.metrics.Recall()])\n",
    "mulai = time.time()\n",
    "history = model.fit(train_generator,\n",
    "    steps_per_epoch = 100,      \n",
    "    epochs = 10,\n",
    "    validation_data = validation_generator\n",
    "    )\n",
    "print(\"waktu training adalah : \", time.time()-mulai , \" s\")"
   ]
  },
  {
   "cell_type": "code",
   "execution_count": null,
   "metadata": {},
   "outputs": [],
   "source": [
    "# train_generator = train_datagen.flow_from_directory(\n",
    "#                   fpath,\n",
    "#                   color_mode='grayscale',\n",
    "#                   target_size = (96,96),\n",
    "#                   subset='training')"
   ]
  },
  {
   "cell_type": "code",
   "execution_count": null,
   "metadata": {},
   "outputs": [],
   "source": [
    "plt.plot(history.history['accuracy'], label='accuracy')\n",
    "plt.plot(history.history['val_accuracy'], label = 'val_accuracy')\n",
    "plt.plot(np.array(history.history['val_recall']), label = 'val_recall')\n",
    "plt.plot(np.array(history.history['val_precision']), label = 'val_precission')\n",
    "plt.xlabel('Epoch')\n",
    "plt.ylabel('Accuracy')\n",
    "plt.ylim([0.5, 1.1])\n",
    "plt.legend(loc='lower right')\n",
    "\n",
    "# test_loss, test_acc = model.evaluate(validation_generator,  validation_generator.label, verbose=2)"
   ]
  },
  {
   "cell_type": "markdown",
   "metadata": {},
   "source": [
    "# convert"
   ]
  },
  {
   "cell_type": "code",
   "execution_count": 20,
   "metadata": {},
   "outputs": [
    {
     "name": "stdout",
     "output_type": "stream",
     "text": [
      "2.0.0\n"
     ]
    }
   ],
   "source": [
    "import tensorflow as tf\n",
    "print(tf.version.VERSION)\n",
    "\n",
    "model_path = '../RGB/kernelfil.h5'\n",
    "model.save(model_path)"
   ]
  },
  {
   "cell_type": "code",
   "execution_count": null,
   "metadata": {},
   "outputs": [],
   "source": [
    "converter = tf.lite.TFLiteConverter.from_keras_model(model)\n",
    "tflite_model = converter.convert()\n",
    "open(\"../out/convert_rgb.tflite\", \"wb\").write(tflite_model)"
   ]
  },
  {
   "cell_type": "code",
   "execution_count": null,
   "metadata": {},
   "outputs": [],
   "source": [
    "# # yhat_classes = model.predict_classes(fttrain, verbose=0)\n",
    "# # yhat_classes\n",
    "import tensorflow as tf\n",
    "new_model = tf.keras.models.load_model('../out/modeltf.h5')\n",
    "new_model.summary()"
   ]
  },
  {
   "cell_type": "code",
   "execution_count": null,
   "metadata": {},
   "outputs": [],
   "source": [
    "# new_model.predict(train_generator)\n",
    "from keras.preprocessing import image\n",
    "import matplotlib.pyplot as plt\n",
    "import numpy as np\n",
    "\n",
    "img = image.load_img(\"D:\\\\data\\\\ya\\\\ya(1).png.png\", target_size=(64,64), grayscale=True);\n",
    "imgplot = plt.imshow(img, \"gray\")\n",
    "x = image.img_to_array(img)\n",
    "x = np.expand_dims(x, axis=0)\n",
    "#x.shape()\n",
    "\n",
    "classes = new_model.predict(x)\n",
    "print (classes)"
   ]
  },
  {
   "cell_type": "code",
   "execution_count": null,
   "metadata": {},
   "outputs": [],
   "source": [
    "def huruf (nilai) :\n",
    "    balik=0;\n",
    "    nilai = np.array(nilai)\n",
    "#     print (nilai.shape())\n",
    "    \n",
    "    for i in range (18):\n",
    "        if (nilai[0][i]==1): \n",
    "            balik=i;\n",
    "     \n",
    "    if (balik==0): \n",
    "            huruf= \"ba\"\n",
    "    if (balik==1): \n",
    "        huruf= \"ca\";\n",
    "    if (balik==2): \n",
    "        huruf= \"da\";\n",
    "    if (balik==3): \n",
    "        huruf= \"ga\";\n",
    "    if (balik==4): \n",
    "        huruf= \"ha\";\n",
    "    if (balik==5): \n",
    "        huruf= \"ja\";\n",
    "    if (balik==6): \n",
    "        huruf= \"ka\";\n",
    "    if (balik==7): \n",
    "        huruf= \"la\";\n",
    "    if (balik==8): \n",
    "        huruf= \"ma\";\n",
    "    if (balik==9): \n",
    "        huruf= \"na\";\n",
    "    if (balik==10): \n",
    "        huruf= \"nga\";\n",
    "    if (balik==11): \n",
    "        huruf= \"nya\";\n",
    "    if (balik==12): \n",
    "        huruf= \"pa\";\n",
    "    if (balik==13): \n",
    "        huruf= \"ra\";\n",
    "    if (balik==14): \n",
    "        huruf= \"sa\";\n",
    "    if (balik==15): \n",
    "        huruf= \"ta\";\n",
    "    if (balik==16): \n",
    "        huruf= \"wa\";\n",
    "    if (balik==17): \n",
    "        huruf= \"ya\";\n",
    "    return huruf;\n"
   ]
  },
  {
   "cell_type": "code",
   "execution_count": null,
   "metadata": {},
   "outputs": [],
   "source": [
    "img = image.load_img(\"D:\\\\android image\\\\Huruf92.png\", target_size=(64,64), grayscale=True);\n",
    "imgplot = plt.imshow(img, \"gray\")\n",
    "x = image.img_to_array(img)\n",
    "#x=x/255\n",
    "x = np.expand_dims(x, axis=0)\n",
    "\n",
    "classes = new_model.predict(x)\n",
    "classes =np.round(classes)\n",
    "print (classes)\n",
    "print (max(classes))"
   ]
  },
  {
   "cell_type": "code",
   "execution_count": null,
   "metadata": {},
   "outputs": [],
   "source": [
    "import os\n",
    "filepath=\"D:\\\\android image\\\\part1\\\\\"\n",
    "for a in os.listdir(filepath):\n",
    "    img = image.load_img(filepath+a, target_size=(64,64), grayscale=True);\n",
    "    imgplot = plt.imshow(img, \"gray\")\n",
    "    x = image.img_to_array(img)\n",
    "    #x=x/255\n",
    "    x = np.expand_dims(x, axis=0)\n",
    "\n",
    "    classes = new_model.predict(x)\n",
    "    classes =np.round(classes)\n",
    "#     print (classes)\n",
    "    print (huruf(classes))\n",
    "    "
   ]
  },
  {
   "cell_type": "code",
   "execution_count": null,
   "metadata": {
    "scrolled": true
   },
   "outputs": [],
   "source": [
    "img = image.load_img(\"D:\\\\android image\\\\Huruf17.png\", target_size=(64,64), grayscale=True);\n",
    "#img =  image.load_img(\"D:\\\\data\\\\ca\\\\ca(1).png.png\", target_size=(64,64), grayscale=True);\n",
    "img = image.img_to_array(img)\n",
    "imgplot = plt.imshow(img, \"gray\")\n",
    "img = np.expand_dims(img, axis=0)\n",
    "\n",
    "# img2 =  image.load_img(\"D:\\\\data\\\\na\\\\na(1).png.png\", target_size=(64,64), grayscale=True);\n",
    "# img2 = np.expand_dims(img2, axis=0)\n",
    "# img2 = np.expand_dims(img2, axis=0)\n",
    "\n",
    "hasil = new_model.predict(img)\n",
    "\n",
    "a= np.unique(img);\n",
    "# b= np.unique(img2);\n",
    "huruf(hasil)"
   ]
  },
  {
   "cell_type": "code",
   "execution_count": null,
   "metadata": {},
   "outputs": [],
   "source": [
    "img = image.load_img(\"D:\\\\android image\\\\Huruf17.png\", target_size=(64,64), grayscale=True);\n",
    "#img =  image.load_img(\"D:\\\\data\\\\ca\\\\ca(1).png.png\", target_size=(64,64), grayscale=True);\n",
    "img = image.img_to_array(img)\n",
    "print(img/225)"
   ]
  },
  {
   "cell_type": "code",
   "execution_count": null,
   "metadata": {},
   "outputs": [],
   "source": []
  }
 ],
 "metadata": {
  "kernelspec": {
   "display_name": "flow",
   "language": "python",
   "name": "flow"
  },
  "language_info": {
   "codemirror_mode": {
    "name": "ipython",
    "version": 3
   },
   "file_extension": ".py",
   "mimetype": "text/x-python",
   "name": "python",
   "nbconvert_exporter": "python",
   "pygments_lexer": "ipython3",
   "version": "3.6.10"
  }
 },
 "nbformat": 4,
 "nbformat_minor": 4
}
