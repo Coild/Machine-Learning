{
 "cells": [
  {
   "cell_type": "code",
   "execution_count": 1,
   "metadata": {},
   "outputs": [],
   "source": [
    "# import pandas\n",
    "import numpy as np\n",
    "import cv2\n",
    "# import os"
   ]
  },
  {
   "cell_type": "markdown",
   "metadata": {},
   "source": [
    "# TRAIN GENERATOR"
   ]
  },
  {
   "cell_type": "code",
   "execution_count": 2,
   "metadata": {},
   "outputs": [],
   "source": [
    "from tensorflow.keras.preprocessing.image import ImageDataGenerator\n",
    "\n",
    "train_datagen = ImageDataGenerator(\n",
    "                    rescale = 1./255,\n",
    "                    rotation_range = 20,\n",
    "                    horizontal_flip = False,\n",
    "                    \n",
    "                    fill_mode = 'wrap',\n",
    "                    validation_split=0.2)\n"
   ]
  },
  {
   "cell_type": "code",
   "execution_count": 3,
   "metadata": {},
   "outputs": [
    {
     "name": "stdout",
     "output_type": "stream",
     "text": [
      "Found 8640 images belonging to 18 classes.\n",
      "Found 2160 images belonging to 18 classes.\n"
     ]
    }
   ],
   "source": [
    "fpath = \"D:\\\\data\"\n",
    "train_generator = train_datagen.flow_from_directory(\n",
    "                  fpath,\n",
    "                  #color_mode='grayscale',\n",
    "                  target_size = (64,64),\n",
    "                  subset='training')\n",
    "\n",
    "validation_generator = train_datagen.flow_from_directory(\n",
    "                  fpath,\n",
    "                  #color_mode='grayscale',\n",
    "                  target_size = (64,64),\n",
    "                  subset='validation'\n",
    ")"
   ]
  },
  {
   "cell_type": "code",
   "execution_count": 4,
   "metadata": {},
   "outputs": [],
   "source": [
    "# np.array(train_generator).shape"
   ]
  },
  {
   "cell_type": "markdown",
   "metadata": {},
   "source": [
    "# import tensorflow as tf\n",
    "\n",
    "from tensorflow.keras import datasets, layers, models\n",
    "import matplotlib.pyplot as plt"
   ]
  },
  {
   "cell_type": "code",
   "execution_count": 5,
   "metadata": {},
   "outputs": [],
   "source": [
    "from tensorflow.keras import datasets, layers, models\n",
    "import matplotlib.pyplot as plt"
   ]
  },
  {
   "cell_type": "code",
   "execution_count": 6,
   "metadata": {},
   "outputs": [],
   "source": [
    "model = models.Sequential()\n",
    "model.add(layers.Conv2D(128, (5, 5), activation='relu',padding='same', input_shape=(64,64,3)))\n",
    "model.add(layers.MaxPooling2D((2,2)))\n",
    "model.add(layers.Conv2D(128, (5, 5),padding='same', activation='relu'))\n",
    "model.add(layers.MaxPooling2D((2, 2)))\n",
    "model.add(layers.Conv2D(128, (5, 5),padding='same', activation='relu'))\n",
    "model.add(layers.MaxPooling2D((2, 2)))\n",
    "# model.add(layers.Conv2D(64, (5, 5),padding='same', activation='relu'))\n",
    "model.add(layers.Flatten())\n",
    "model.add(layers.Dense(64, activation='relu'))\n",
    "model.add(layers.Dropout(0.2))\n",
    "model.add(layers.Dense(18, activation='softmax'))"
   ]
  },
  {
   "cell_type": "code",
   "execution_count": 7,
   "metadata": {},
   "outputs": [
    {
     "name": "stdout",
     "output_type": "stream",
     "text": [
      "Model: \"sequential\"\n",
      "_________________________________________________________________\n",
      "Layer (type)                 Output Shape              Param #   \n",
      "=================================================================\n",
      "conv2d (Conv2D)              (None, 64, 64, 128)       9728      \n",
      "_________________________________________________________________\n",
      "max_pooling2d (MaxPooling2D) (None, 32, 32, 128)       0         \n",
      "_________________________________________________________________\n",
      "conv2d_1 (Conv2D)            (None, 32, 32, 128)       409728    \n",
      "_________________________________________________________________\n",
      "max_pooling2d_1 (MaxPooling2 (None, 16, 16, 128)       0         \n",
      "_________________________________________________________________\n",
      "conv2d_2 (Conv2D)            (None, 16, 16, 128)       409728    \n",
      "_________________________________________________________________\n",
      "max_pooling2d_2 (MaxPooling2 (None, 8, 8, 128)         0         \n",
      "_________________________________________________________________\n",
      "flatten (Flatten)            (None, 8192)              0         \n",
      "_________________________________________________________________\n",
      "dense (Dense)                (None, 64)                524352    \n",
      "_________________________________________________________________\n",
      "dropout (Dropout)            (None, 64)                0         \n",
      "_________________________________________________________________\n",
      "dense_1 (Dense)              (None, 18)                1170      \n",
      "=================================================================\n",
      "Total params: 1,354,706\n",
      "Trainable params: 1,354,706\n",
      "Non-trainable params: 0\n",
      "_________________________________________________________________\n"
     ]
    }
   ],
   "source": [
    "model.summary()"
   ]
  },
  {
   "cell_type": "code",
   "execution_count": 8,
   "metadata": {},
   "outputs": [
    {
     "name": "stdout",
     "output_type": "stream",
     "text": [
      "Train for 100 steps, validate for 68 steps\n",
      "Epoch 1/10\n",
      "100/100 [==============================] - 375s 4s/step - loss: 2.7027 - accuracy: 0.1437 - precision: 0.6098 - recall: 0.0078 - val_loss: 1.9694 - val_accuracy: 0.4153 - val_precision: 0.7447 - val_recall: 0.0486\n",
      "Epoch 2/10\n",
      "100/100 [==============================] - 559s 6s/step - loss: 1.6347 - accuracy: 0.4678 - precision: 0.7312 - recall: 0.2559 - val_loss: 0.6744 - val_accuracy: 0.7667 - val_precision: 0.8566 - val_recall: 0.6861\n",
      "Epoch 3/10\n",
      "100/100 [==============================] - 468s 5s/step - loss: 0.9583 - accuracy: 0.6922 - precision: 0.8168 - recall: 0.5697 - val_loss: 0.4987 - val_accuracy: 0.8333 - val_precision: 0.8834 - val_recall: 0.7894\n",
      "Epoch 4/10\n",
      "100/100 [==============================] - 313s 3s/step - loss: 0.7212 - accuracy: 0.7663 - precision: 0.8552 - recall: 0.6831 - val_loss: 0.3468 - val_accuracy: 0.8921 - val_precision: 0.9180 - val_recall: 0.8657\n",
      "Epoch 5/10\n",
      "100/100 [==============================] - 308s 3s/step - loss: 0.5935 - accuracy: 0.8216 - precision: 0.8924 - recall: 0.7619 - val_loss: 0.2404 - val_accuracy: 0.9241 - val_precision: 0.9406 - val_recall: 0.9083\n",
      "Epoch 6/10\n",
      "100/100 [==============================] - 309s 3s/step - loss: 0.4891 - accuracy: 0.8472 - precision: 0.8997 - recall: 0.8019 - val_loss: 0.2448 - val_accuracy: 0.9194 - val_precision: 0.9390 - val_recall: 0.9046\n",
      "Epoch 7/10\n",
      "100/100 [==============================] - 310s 3s/step - loss: 0.4060 - accuracy: 0.8691 - precision: 0.9083 - recall: 0.8291 - val_loss: 0.2525 - val_accuracy: 0.9208 - val_precision: 0.9411 - val_recall: 0.9032\n",
      "Epoch 8/10\n",
      "100/100 [==============================] - 239s 2s/step - loss: 0.3805 - accuracy: 0.8834 - precision: 0.9194 - recall: 0.8519 - val_loss: 0.2251 - val_accuracy: 0.9194 - val_precision: 0.9336 - val_recall: 0.9120\n",
      "Epoch 9/10\n",
      "100/100 [==============================] - 225s 2s/step - loss: 0.3358 - accuracy: 0.8978 - precision: 0.9275 - recall: 0.8712 - val_loss: 0.2394 - val_accuracy: 0.9255 - val_precision: 0.9377 - val_recall: 0.9125\n",
      "Epoch 10/10\n",
      "100/100 [==============================] - 225s 2s/step - loss: 0.3105 - accuracy: 0.9031 - precision: 0.9349 - recall: 0.8791 - val_loss: 0.1893 - val_accuracy: 0.9412 - val_precision: 0.9493 - val_recall: 0.9356\n",
      "waktu training adalah :  3524.7245965003967  s\n"
     ]
    }
   ],
   "source": [
    "import tensorflow as tf\n",
    "from tensorflow import keras\n",
    "import time\n",
    "\n",
    "opt = keras.optimizers.Adam(learning_rate=0.1)\n",
    "model.compile(optimizer='adam',\n",
    "              loss='categorical_crossentropy',\n",
    "             metrics=['accuracy', tf.keras.metrics.Precision(),tf.keras.metrics.Recall()])\n",
    "mulai = time.time()\n",
    "history = model.fit(train_generator,\n",
    "    steps_per_epoch = 100,      \n",
    "    epochs = 10,\n",
    "    validation_data = validation_generator\n",
    "    )\n",
    "print(\"waktu training adalah : \", time.time()-mulai , \" s\")"
   ]
  },
  {
   "cell_type": "code",
   "execution_count": null,
   "metadata": {},
   "outputs": [],
   "source": [
    "# train_generator = train_datagen.flow_from_directory(\n",
    "#                   fpath,\n",
    "#                   color_mode='grayscale',\n",
    "#                   target_size = (96,96),\n",
    "#                   subset='training')"
   ]
  },
  {
   "cell_type": "code",
   "execution_count": null,
   "metadata": {},
   "outputs": [],
   "source": [
    "plt.plot(history.history['accuracy'], label='accuracy')\n",
    "plt.plot(history.history['val_accuracy'], label = 'val_accuracy')\n",
    "plt.plot(np.array(history.history['val_recall']), label = 'val_recall')\n",
    "plt.plot(np.array(history.history['val_precision']), label = 'val_precission')\n",
    "plt.xlabel('Epoch')\n",
    "plt.ylabel('Accuracy')\n",
    "plt.ylim([0.5, 1.1])\n",
    "plt.legend(loc='lower right')\n",
    "\n",
    "# test_loss, test_acc = model.evaluate(validation_generator,  validation_generator.label, verbose=2)"
   ]
  },
  {
   "cell_type": "markdown",
   "metadata": {},
   "source": [
    "# convert"
   ]
  },
  {
   "cell_type": "code",
   "execution_count": 9,
   "metadata": {},
   "outputs": [
    {
     "name": "stdout",
     "output_type": "stream",
     "text": [
      "2.0.0\n"
     ]
    }
   ],
   "source": [
    "import tensorflow as tf\n",
    "print(tf.version.VERSION)\n",
    "\n",
    "model_path = '../RGB/kernelfilter128.h5'\n",
    "model.save(model_path)"
   ]
  },
  {
   "cell_type": "code",
   "execution_count": null,
   "metadata": {},
   "outputs": [],
   "source": [
    "converter = tf.lite.TFLiteConverter.from_keras_model(model)\n",
    "tflite_model = converter.convert()\n",
    "open(\"../out/convert_rgb.tflite\", \"wb\").write(tflite_model)"
   ]
  },
  {
   "cell_type": "code",
   "execution_count": null,
   "metadata": {},
   "outputs": [],
   "source": [
    "# # yhat_classes = model.predict_classes(fttrain, verbose=0)\n",
    "# # yhat_classes\n",
    "import tensorflow as tf\n",
    "new_model = tf.keras.models.load_model('../out/modeltf.h5')\n",
    "new_model.summary()"
   ]
  },
  {
   "cell_type": "code",
   "execution_count": null,
   "metadata": {},
   "outputs": [],
   "source": [
    "# new_model.predict(train_generator)\n",
    "from keras.preprocessing import image\n",
    "import matplotlib.pyplot as plt\n",
    "import numpy as np\n",
    "\n",
    "img = image.load_img(\"D:\\\\data\\\\ya\\\\ya(1).png.png\", target_size=(64,64), grayscale=True);\n",
    "imgplot = plt.imshow(img, \"gray\")\n",
    "x = image.img_to_array(img)\n",
    "x = np.expand_dims(x, axis=0)\n",
    "#x.shape()\n",
    "\n",
    "classes = new_model.predict(x)\n",
    "print (classes)"
   ]
  },
  {
   "cell_type": "code",
   "execution_count": null,
   "metadata": {},
   "outputs": [],
   "source": [
    "def huruf (nilai) :\n",
    "    balik=0;\n",
    "    nilai = np.array(nilai)\n",
    "#     print (nilai.shape())\n",
    "    \n",
    "    for i in range (18):\n",
    "        if (nilai[0][i]==1): \n",
    "            balik=i;\n",
    "     \n",
    "    if (balik==0): \n",
    "            huruf= \"ba\"\n",
    "    if (balik==1): \n",
    "        huruf= \"ca\";\n",
    "    if (balik==2): \n",
    "        huruf= \"da\";\n",
    "    if (balik==3): \n",
    "        huruf= \"ga\";\n",
    "    if (balik==4): \n",
    "        huruf= \"ha\";\n",
    "    if (balik==5): \n",
    "        huruf= \"ja\";\n",
    "    if (balik==6): \n",
    "        huruf= \"ka\";\n",
    "    if (balik==7): \n",
    "        huruf= \"la\";\n",
    "    if (balik==8): \n",
    "        huruf= \"ma\";\n",
    "    if (balik==9): \n",
    "        huruf= \"na\";\n",
    "    if (balik==10): \n",
    "        huruf= \"nga\";\n",
    "    if (balik==11): \n",
    "        huruf= \"nya\";\n",
    "    if (balik==12): \n",
    "        huruf= \"pa\";\n",
    "    if (balik==13): \n",
    "        huruf= \"ra\";\n",
    "    if (balik==14): \n",
    "        huruf= \"sa\";\n",
    "    if (balik==15): \n",
    "        huruf= \"ta\";\n",
    "    if (balik==16): \n",
    "        huruf= \"wa\";\n",
    "    if (balik==17): \n",
    "        huruf= \"ya\";\n",
    "    return huruf;\n"
   ]
  },
  {
   "cell_type": "code",
   "execution_count": null,
   "metadata": {},
   "outputs": [],
   "source": [
    "img = image.load_img(\"D:\\\\android image\\\\Huruf92.png\", target_size=(64,64), grayscale=True);\n",
    "imgplot = plt.imshow(img, \"gray\")\n",
    "x = image.img_to_array(img)\n",
    "#x=x/255\n",
    "x = np.expand_dims(x, axis=0)\n",
    "\n",
    "classes = new_model.predict(x)\n",
    "classes =np.round(classes)\n",
    "print (classes)\n",
    "print (max(classes))"
   ]
  },
  {
   "cell_type": "code",
   "execution_count": null,
   "metadata": {},
   "outputs": [],
   "source": [
    "import os\n",
    "filepath=\"D:\\\\android image\\\\part1\\\\\"\n",
    "for a in os.listdir(filepath):\n",
    "    img = image.load_img(filepath+a, target_size=(64,64), grayscale=True);\n",
    "    imgplot = plt.imshow(img, \"gray\")\n",
    "    x = image.img_to_array(img)\n",
    "    #x=x/255\n",
    "    x = np.expand_dims(x, axis=0)\n",
    "\n",
    "    classes = new_model.predict(x)\n",
    "    classes =np.round(classes)\n",
    "#     print (classes)\n",
    "    print (huruf(classes))\n",
    "    "
   ]
  },
  {
   "cell_type": "code",
   "execution_count": null,
   "metadata": {
    "scrolled": true
   },
   "outputs": [],
   "source": [
    "img = image.load_img(\"D:\\\\android image\\\\Huruf17.png\", target_size=(64,64), grayscale=True);\n",
    "#img =  image.load_img(\"D:\\\\data\\\\ca\\\\ca(1).png.png\", target_size=(64,64), grayscale=True);\n",
    "img = image.img_to_array(img)\n",
    "imgplot = plt.imshow(img, \"gray\")\n",
    "img = np.expand_dims(img, axis=0)\n",
    "\n",
    "# img2 =  image.load_img(\"D:\\\\data\\\\na\\\\na(1).png.png\", target_size=(64,64), grayscale=True);\n",
    "# img2 = np.expand_dims(img2, axis=0)\n",
    "# img2 = np.expand_dims(img2, axis=0)\n",
    "\n",
    "hasil = new_model.predict(img)\n",
    "\n",
    "a= np.unique(img);\n",
    "# b= np.unique(img2);\n",
    "huruf(hasil)"
   ]
  },
  {
   "cell_type": "code",
   "execution_count": null,
   "metadata": {},
   "outputs": [],
   "source": [
    "img = image.load_img(\"D:\\\\android image\\\\Huruf17.png\", target_size=(64,64), grayscale=True);\n",
    "#img =  image.load_img(\"D:\\\\data\\\\ca\\\\ca(1).png.png\", target_size=(64,64), grayscale=True);\n",
    "img = image.img_to_array(img)\n",
    "print(img/225)"
   ]
  },
  {
   "cell_type": "code",
   "execution_count": null,
   "metadata": {},
   "outputs": [],
   "source": []
  }
 ],
 "metadata": {
  "kernelspec": {
   "display_name": "flow",
   "language": "python",
   "name": "flow"
  },
  "language_info": {
   "codemirror_mode": {
    "name": "ipython",
    "version": 3
   },
   "file_extension": ".py",
   "mimetype": "text/x-python",
   "name": "python",
   "nbconvert_exporter": "python",
   "pygments_lexer": "ipython3",
   "version": "3.6.10"
  }
 },
 "nbformat": 4,
 "nbformat_minor": 4
}
