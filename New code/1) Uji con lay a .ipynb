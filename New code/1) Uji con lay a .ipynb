{
 "cells": [
  {
   "cell_type": "code",
   "execution_count": 1,
   "metadata": {},
   "outputs": [],
   "source": [
    "# import pandas\n",
    "import numpy as np\n",
    "import cv2\n",
    "# import os"
   ]
  },
  {
   "cell_type": "markdown",
   "metadata": {},
   "source": [
    "# TRAIN GENERATOR"
   ]
  },
  {
   "cell_type": "code",
   "execution_count": 2,
   "metadata": {},
   "outputs": [],
   "source": [
    "from tensorflow.keras.preprocessing.image import ImageDataGenerator\n",
    "\n",
    "train_datagen = ImageDataGenerator(\n",
    "                    rescale = 1./255,\n",
    "                    rotation_range = 20,\n",
    "                    horizontal_flip = False,\n",
    "                    \n",
    "                    fill_mode = 'wrap',\n",
    "                    validation_split=0.2)\n"
   ]
  },
  {
   "cell_type": "code",
   "execution_count": 3,
   "metadata": {},
   "outputs": [
    {
     "name": "stdout",
     "output_type": "stream",
     "text": [
      "Found 8640 images belonging to 18 classes.\n",
      "Found 2160 images belonging to 18 classes.\n"
     ]
    }
   ],
   "source": [
    "fpath = \"D:\\\\data\"\n",
    "train_generator = train_datagen.flow_from_directory(\n",
    "                  fpath,\n",
    "                  #color_mode='grayscale',\n",
    "                  target_size = (64,64),\n",
    "                  subset='training')\n",
    "\n",
    "validation_generator = train_datagen.flow_from_directory(\n",
    "                  fpath,\n",
    "                  #color_mode='grayscale',\n",
    "                  target_size = (64,64),\n",
    "                  subset='validation'\n",
    ")"
   ]
  },
  {
   "cell_type": "code",
   "execution_count": 4,
   "metadata": {},
   "outputs": [],
   "source": [
    "# np.array(train_generator).shape"
   ]
  },
  {
   "cell_type": "markdown",
   "metadata": {},
   "source": [
    "# import tensorflow as tf\n",
    "\n",
    "from tensorflow.keras import datasets, layers, models\n",
    "import matplotlib.pyplot as plt"
   ]
  },
  {
   "cell_type": "code",
   "execution_count": 5,
   "metadata": {},
   "outputs": [],
   "source": [
    "from tensorflow.keras import datasets, layers, models\n",
    "import matplotlib.pyplot as plt"
   ]
  },
  {
   "cell_type": "code",
   "execution_count": 6,
   "metadata": {},
   "outputs": [],
   "source": [
    "model = models.Sequential()\n",
    "model.add(layers.Conv2D(64, (3, 3), activation='relu',padding='same', input_shape=(64,64,3)))\n",
    "model.add(layers.MaxPooling2D((2,2)))\n",
    "# model.add(layers.Conv2D(64, (5, 5),padding='same', activation='relu'))\n",
    "# model.add(layers.MaxPooling2D((2, 2)))\n",
    "# model.add(layers.Conv2D(64, (5, 5),padding='same', activation='relu'))\n",
    "model.add(layers.Flatten())\n",
    "model.add(layers.Dense(64, activation='relu'))\n",
    "model.add(layers.Dropout(0.2))\n",
    "model.add(layers.Dense(18, activation='softmax'))"
   ]
  },
  {
   "cell_type": "code",
   "execution_count": 7,
   "metadata": {},
   "outputs": [
    {
     "name": "stdout",
     "output_type": "stream",
     "text": [
      "Model: \"sequential\"\n",
      "_________________________________________________________________\n",
      "Layer (type)                 Output Shape              Param #   \n",
      "=================================================================\n",
      "conv2d (Conv2D)              (None, 64, 64, 64)        1792      \n",
      "_________________________________________________________________\n",
      "max_pooling2d (MaxPooling2D) (None, 32, 32, 64)        0         \n",
      "_________________________________________________________________\n",
      "flatten (Flatten)            (None, 65536)             0         \n",
      "_________________________________________________________________\n",
      "dense (Dense)                (None, 64)                4194368   \n",
      "_________________________________________________________________\n",
      "dropout (Dropout)            (None, 64)                0         \n",
      "_________________________________________________________________\n",
      "dense_1 (Dense)              (None, 18)                1170      \n",
      "=================================================================\n",
      "Total params: 4,197,330\n",
      "Trainable params: 4,197,330\n",
      "Non-trainable params: 0\n",
      "_________________________________________________________________\n"
     ]
    }
   ],
   "source": [
    "model.summary()"
   ]
  },
  {
   "cell_type": "code",
   "execution_count": 8,
   "metadata": {},
   "outputs": [
    {
     "name": "stdout",
     "output_type": "stream",
     "text": [
      "Train for 100 steps, validate for 68 steps\n",
      "Epoch 1/10\n",
      "100/100 [==============================] - 49s 486ms/step - loss: 3.0610 - accuracy: 0.0759 - precision: 0.0494 - recall: 0.0012 - val_loss: 2.7770 - val_accuracy: 0.1301 - val_precision: 0.0000e+00 - val_recall: 0.0000e+00\n",
      "Epoch 2/10\n",
      "100/100 [==============================] - 46s 456ms/step - loss: 2.6640 - accuracy: 0.1297 - precision: 1.0000 - recall: 3.1250e-04 - val_loss: 2.4073 - val_accuracy: 0.2231 - val_precision: 0.0000e+00 - val_recall: 0.0000e+00\n",
      "Epoch 3/10\n",
      "100/100 [==============================] - 43s 427ms/step - loss: 2.3324 - accuracy: 0.2197 - precision: 0.8125 - recall: 0.0162 - val_loss: 1.9239 - val_accuracy: 0.3972 - val_precision: 0.9796 - val_recall: 0.0444\n",
      "Epoch 4/10\n",
      "100/100 [==============================] - 45s 454ms/step - loss: 2.0814 - accuracy: 0.3053 - precision: 0.8348 - recall: 0.0600 - val_loss: 1.7450 - val_accuracy: 0.4458 - val_precision: 0.9110 - val_recall: 0.0616\n",
      "Epoch 5/10\n",
      "100/100 [==============================] - 45s 451ms/step - loss: 1.8360 - accuracy: 0.3991 - precision: 0.7800 - recall: 0.1319 - val_loss: 1.4253 - val_accuracy: 0.5208 - val_precision: 0.9208 - val_recall: 0.1722\n",
      "Epoch 6/10\n",
      "100/100 [==============================] - 44s 443ms/step - loss: 1.7452 - accuracy: 0.4038 - precision: 0.7717 - recall: 0.1669 - val_loss: 1.2858 - val_accuracy: 0.5574 - val_precision: 0.9023 - val_recall: 0.2222\n",
      "Epoch 7/10\n",
      "100/100 [==============================] - 45s 447ms/step - loss: 1.6687 - accuracy: 0.4313 - precision: 0.7954 - recall: 0.2066 - val_loss: 1.1977 - val_accuracy: 0.6069 - val_precision: 0.9463 - val_recall: 0.2611\n",
      "Epoch 8/10\n",
      "100/100 [==============================] - 52s 519ms/step - loss: 1.6217 - accuracy: 0.4422 - precision: 0.7998 - recall: 0.2172 - val_loss: 1.1221 - val_accuracy: 0.6338 - val_precision: 0.9023 - val_recall: 0.3079\n",
      "Epoch 9/10\n",
      "100/100 [==============================] - 47s 474ms/step - loss: 1.5041 - accuracy: 0.4791 - precision: 0.8028 - recall: 0.2900 - val_loss: 1.0585 - val_accuracy: 0.6398 - val_precision: 0.8796 - val_recall: 0.3889\n",
      "Epoch 10/10\n",
      "100/100 [==============================] - 48s 480ms/step - loss: 1.4604 - accuracy: 0.5028 - precision: 0.7887 - recall: 0.3103 - val_loss: 0.9917 - val_accuracy: 0.6926 - val_precision: 0.8749 - val_recall: 0.4208\n",
      "waktu training adalah :  481.45022201538086  s\n"
     ]
    }
   ],
   "source": [
    "import tensorflow as tf\n",
    "from tensorflow import keras\n",
    "import time\n",
    "\n",
    "opt = keras.optimizers.Adam(learning_rate=0.1)\n",
    "model.compile(optimizer='adam',\n",
    "              loss='categorical_crossentropy',\n",
    "             metrics=['accuracy', tf.keras.metrics.Precision(),tf.keras.metrics.Recall()])\n",
    "mulai = time.time()\n",
    "history = model.fit(train_generator,\n",
    "    steps_per_epoch = 100,      \n",
    "    epochs = 10,\n",
    "    validation_data = validation_generator\n",
    "    )\n",
    "print(\"waktu training adalah : \", time.time()-mulai , \" s\")"
   ]
  },
  {
   "cell_type": "code",
   "execution_count": null,
   "metadata": {},
   "outputs": [],
   "source": [
    "# train_generator = train_datagen.flow_from_directory(\n",
    "#                   fpath,\n",
    "#                   color_mode='grayscale',\n",
    "#                   target_size = (96,96),\n",
    "#                   subset='training')"
   ]
  },
  {
   "cell_type": "code",
   "execution_count": null,
   "metadata": {},
   "outputs": [],
   "source": [
    "plt.plot(history.history['accuracy'], label='accuracy')\n",
    "plt.plot(history.history['val_accuracy'], label = 'val_accuracy')\n",
    "plt.plot(np.array(history.history['val_recall']), label = 'val_recall')\n",
    "plt.plot(np.array(history.history['val_precision']), label = 'val_precission')\n",
    "plt.xlabel('Epoch')\n",
    "plt.ylabel('Accuracy')\n",
    "plt.ylim([0.5, 1.1])\n",
    "plt.legend(loc='lower right')\n",
    "\n",
    "# test_loss, test_acc = model.evaluate(validation_generator,  validation_generator.label, verbose=2)"
   ]
  },
  {
   "cell_type": "markdown",
   "metadata": {},
   "source": [
    "# convert"
   ]
  },
  {
   "cell_type": "code",
   "execution_count": null,
   "metadata": {},
   "outputs": [],
   "source": [
    "import tensorflow as tf\n",
    "print(tf.version.VERSION)\n",
    "\n",
    "model_path = '../RGB/kernel1.h5'\n",
    "model.save(model_path)"
   ]
  },
  {
   "cell_type": "code",
   "execution_count": null,
   "metadata": {},
   "outputs": [],
   "source": [
    "converter = tf.lite.TFLiteConverter.from_keras_model(model)\n",
    "tflite_model = converter.convert()\n",
    "open(\"../out/convert_rgb.tflite\", \"wb\").write(tflite_model)"
   ]
  },
  {
   "cell_type": "code",
   "execution_count": null,
   "metadata": {},
   "outputs": [],
   "source": [
    "# # yhat_classes = model.predict_classes(fttrain, verbose=0)\n",
    "# # yhat_classes\n",
    "import tensorflow as tf\n",
    "new_model = tf.keras.models.load_model('../out/modeltf.h5')\n",
    "new_model.summary()"
   ]
  },
  {
   "cell_type": "code",
   "execution_count": null,
   "metadata": {},
   "outputs": [],
   "source": [
    "# new_model.predict(train_generator)\n",
    "from keras.preprocessing import image\n",
    "import matplotlib.pyplot as plt\n",
    "import numpy as np\n",
    "\n",
    "img = image.load_img(\"D:\\\\data\\\\ya\\\\ya(1).png.png\", target_size=(64,64), grayscale=True);\n",
    "imgplot = plt.imshow(img, \"gray\")\n",
    "x = image.img_to_array(img)\n",
    "x = np.expand_dims(x, axis=0)\n",
    "#x.shape()\n",
    "\n",
    "classes = new_model.predict(x)\n",
    "print (classes)"
   ]
  },
  {
   "cell_type": "code",
   "execution_count": null,
   "metadata": {},
   "outputs": [],
   "source": [
    "def huruf (nilai) :\n",
    "    balik=0;\n",
    "    nilai = np.array(nilai)\n",
    "#     print (nilai.shape())\n",
    "    \n",
    "    for i in range (18):\n",
    "        if (nilai[0][i]==1): \n",
    "            balik=i;\n",
    "     \n",
    "    if (balik==0): \n",
    "            huruf= \"ba\"\n",
    "    if (balik==1): \n",
    "        huruf= \"ca\";\n",
    "    if (balik==2): \n",
    "        huruf= \"da\";\n",
    "    if (balik==3): \n",
    "        huruf= \"ga\";\n",
    "    if (balik==4): \n",
    "        huruf= \"ha\";\n",
    "    if (balik==5): \n",
    "        huruf= \"ja\";\n",
    "    if (balik==6): \n",
    "        huruf= \"ka\";\n",
    "    if (balik==7): \n",
    "        huruf= \"la\";\n",
    "    if (balik==8): \n",
    "        huruf= \"ma\";\n",
    "    if (balik==9): \n",
    "        huruf= \"na\";\n",
    "    if (balik==10): \n",
    "        huruf= \"nga\";\n",
    "    if (balik==11): \n",
    "        huruf= \"nya\";\n",
    "    if (balik==12): \n",
    "        huruf= \"pa\";\n",
    "    if (balik==13): \n",
    "        huruf= \"ra\";\n",
    "    if (balik==14): \n",
    "        huruf= \"sa\";\n",
    "    if (balik==15): \n",
    "        huruf= \"ta\";\n",
    "    if (balik==16): \n",
    "        huruf= \"wa\";\n",
    "    if (balik==17): \n",
    "        huruf= \"ya\";\n",
    "    return huruf;\n"
   ]
  },
  {
   "cell_type": "code",
   "execution_count": null,
   "metadata": {},
   "outputs": [],
   "source": [
    "img = image.load_img(\"D:\\\\android image\\\\Huruf92.png\", target_size=(64,64), grayscale=True);\n",
    "imgplot = plt.imshow(img, \"gray\")\n",
    "x = image.img_to_array(img)\n",
    "#x=x/255\n",
    "x = np.expand_dims(x, axis=0)\n",
    "\n",
    "classes = new_model.predict(x)\n",
    "classes =np.round(classes)\n",
    "print (classes)\n",
    "print (max(classes))"
   ]
  },
  {
   "cell_type": "code",
   "execution_count": null,
   "metadata": {},
   "outputs": [],
   "source": [
    "import os\n",
    "filepath=\"D:\\\\android image\\\\part1\\\\\"\n",
    "for a in os.listdir(filepath):\n",
    "    img = image.load_img(filepath+a, target_size=(64,64), grayscale=True);\n",
    "    imgplot = plt.imshow(img, \"gray\")\n",
    "    x = image.img_to_array(img)\n",
    "    #x=x/255\n",
    "    x = np.expand_dims(x, axis=0)\n",
    "\n",
    "    classes = new_model.predict(x)\n",
    "    classes =np.round(classes)\n",
    "#     print (classes)\n",
    "    print (huruf(classes))\n",
    "    "
   ]
  },
  {
   "cell_type": "code",
   "execution_count": null,
   "metadata": {
    "scrolled": true
   },
   "outputs": [],
   "source": [
    "img = image.load_img(\"D:\\\\android image\\\\Huruf17.png\", target_size=(64,64), grayscale=True);\n",
    "#img =  image.load_img(\"D:\\\\data\\\\ca\\\\ca(1).png.png\", target_size=(64,64), grayscale=True);\n",
    "img = image.img_to_array(img)\n",
    "imgplot = plt.imshow(img, \"gray\")\n",
    "img = np.expand_dims(img, axis=0)\n",
    "\n",
    "# img2 =  image.load_img(\"D:\\\\data\\\\na\\\\na(1).png.png\", target_size=(64,64), grayscale=True);\n",
    "# img2 = np.expand_dims(img2, axis=0)\n",
    "# img2 = np.expand_dims(img2, axis=0)\n",
    "\n",
    "hasil = new_model.predict(img)\n",
    "\n",
    "a= np.unique(img);\n",
    "# b= np.unique(img2);\n",
    "huruf(hasil)"
   ]
  },
  {
   "cell_type": "code",
   "execution_count": null,
   "metadata": {},
   "outputs": [],
   "source": [
    "img = image.load_img(\"D:\\\\android image\\\\Huruf17.png\", target_size=(64,64), grayscale=True);\n",
    "#img =  image.load_img(\"D:\\\\data\\\\ca\\\\ca(1).png.png\", target_size=(64,64), grayscale=True);\n",
    "img = image.img_to_array(img)\n",
    "print(img/225)"
   ]
  },
  {
   "cell_type": "code",
   "execution_count": null,
   "metadata": {},
   "outputs": [],
   "source": []
  }
 ],
 "metadata": {
  "kernelspec": {
   "display_name": "flow",
   "language": "python",
   "name": "flow"
  },
  "language_info": {
   "codemirror_mode": {
    "name": "ipython",
    "version": 3
   },
   "file_extension": ".py",
   "mimetype": "text/x-python",
   "name": "python",
   "nbconvert_exporter": "python",
   "pygments_lexer": "ipython3",
   "version": "3.6.10"
  }
 },
 "nbformat": 4,
 "nbformat_minor": 4
}
