{
 "cells": [
  {
   "cell_type": "code",
   "execution_count": 3,
   "metadata": {},
   "outputs": [],
   "source": [
    "# import pandas\n",
    "import numpy as np\n",
    "import cv2\n",
    "# import os"
   ]
  },
  {
   "cell_type": "markdown",
   "metadata": {},
   "source": [
    "# TRAIN GENERATOR"
   ]
  },
  {
   "cell_type": "code",
   "execution_count": 4,
   "metadata": {},
   "outputs": [],
   "source": [
    "from tensorflow.keras.preprocessing.image import ImageDataGenerator\n",
    "\n",
    "train_datagen = ImageDataGenerator(\n",
    "                    rescale = 1./255,\n",
    "                    rotation_range = 20,\n",
    "                    horizontal_flip = False,\n",
    "                    \n",
    "                    fill_mode = 'wrap',\n",
    "                    validation_split=0.2)\n"
   ]
  },
  {
   "cell_type": "code",
   "execution_count": 5,
   "metadata": {},
   "outputs": [
    {
     "name": "stdout",
     "output_type": "stream",
     "text": [
      "Found 8640 images belonging to 18 classes.\n",
      "Found 2160 images belonging to 18 classes.\n"
     ]
    }
   ],
   "source": [
    "fpath = \"D:\\\\data\"\n",
    "train_generator = train_datagen.flow_from_directory(\n",
    "                  fpath,\n",
    "                  #color_mode='grayscale',\n",
    "                  target_size = (64,64),\n",
    "                  subset='training')\n",
    "\n",
    "validation_generator = train_datagen.flow_from_directory(\n",
    "                  fpath,\n",
    "                  #color_mode='grayscale',\n",
    "                  target_size = (64,64),\n",
    "                  subset='validation'\n",
    ")"
   ]
  },
  {
   "cell_type": "code",
   "execution_count": 6,
   "metadata": {},
   "outputs": [],
   "source": [
    "# np.array(train_generator).shape"
   ]
  },
  {
   "cell_type": "markdown",
   "metadata": {},
   "source": [
    "# import tensorflow as tf\n",
    "\n",
    "from tensorflow.keras import datasets, layers, models\n",
    "import matplotlib.pyplot as plt"
   ]
  },
  {
   "cell_type": "code",
   "execution_count": 8,
   "metadata": {},
   "outputs": [],
   "source": [
    "from tensorflow.keras import datasets, layers, models\n",
    "import matplotlib.pyplot as plt"
   ]
  },
  {
   "cell_type": "code",
   "execution_count": 9,
   "metadata": {},
   "outputs": [],
   "source": [
    "model = models.Sequential()\n",
    "model.add(layers.Conv2D(64, (5, 5), activation='relu',padding='same', input_shape=(64,64,3)))\n",
    "model.add(layers.MaxPooling2D((2,2)))\n",
    "model.add(layers.Conv2D(64, (5, 5),padding='same', activation='relu'))\n",
    "model.add(layers.MaxPooling2D((2, 2)))\n",
    "model.add(layers.Conv2D(64, (5, 5),padding='same', activation='relu'))\n",
    "model.add(layers.MaxPooling2D((2, 2)))\n",
    "# model.add(layers.Conv2D(64, (5, 5),padding='same', activation='relu'))\n",
    "model.add(layers.Flatten())\n",
    "model.add(layers.Dense(128, activation='relu'))\n",
    "model.add(layers.Dense(128, activation='relu'))\n",
    "model.add(layers.Dense(128, activation='relu'))\n",
    "model.add(layers.Dropout(0.5))\n",
    "model.add(layers.Dense(18, activation='softmax'))"
   ]
  },
  {
   "cell_type": "code",
   "execution_count": 10,
   "metadata": {},
   "outputs": [
    {
     "name": "stdout",
     "output_type": "stream",
     "text": [
      "Model: \"sequential\"\n",
      "_________________________________________________________________\n",
      "Layer (type)                 Output Shape              Param #   \n",
      "=================================================================\n",
      "conv2d (Conv2D)              (None, 64, 64, 64)        4864      \n",
      "_________________________________________________________________\n",
      "max_pooling2d (MaxPooling2D) (None, 32, 32, 64)        0         \n",
      "_________________________________________________________________\n",
      "conv2d_1 (Conv2D)            (None, 32, 32, 64)        102464    \n",
      "_________________________________________________________________\n",
      "max_pooling2d_1 (MaxPooling2 (None, 16, 16, 64)        0         \n",
      "_________________________________________________________________\n",
      "conv2d_2 (Conv2D)            (None, 16, 16, 64)        102464    \n",
      "_________________________________________________________________\n",
      "max_pooling2d_2 (MaxPooling2 (None, 8, 8, 64)          0         \n",
      "_________________________________________________________________\n",
      "flatten (Flatten)            (None, 4096)              0         \n",
      "_________________________________________________________________\n",
      "dense (Dense)                (None, 128)               524416    \n",
      "_________________________________________________________________\n",
      "dense_1 (Dense)              (None, 128)               16512     \n",
      "_________________________________________________________________\n",
      "dense_2 (Dense)              (None, 128)               16512     \n",
      "_________________________________________________________________\n",
      "dropout (Dropout)            (None, 128)               0         \n",
      "_________________________________________________________________\n",
      "dense_3 (Dense)              (None, 18)                2322      \n",
      "=================================================================\n",
      "Total params: 769,554\n",
      "Trainable params: 769,554\n",
      "Non-trainable params: 0\n",
      "_________________________________________________________________\n"
     ]
    }
   ],
   "source": [
    "model.summary()"
   ]
  },
  {
   "cell_type": "code",
   "execution_count": 11,
   "metadata": {
    "scrolled": false
   },
   "outputs": [
    {
     "name": "stdout",
     "output_type": "stream",
     "text": [
      "Train for 100 steps, validate for 68 steps\n",
      "Epoch 1/100\n",
      "100/100 [==============================] - 232s 2s/step - loss: 2.8828 - accuracy: 0.0644 - precision: 0.0000e+00 - recall: 0.0000e+00 - val_loss: 2.5851 - val_accuracy: 0.1565 - val_precision: 0.0000e+00 - val_recall: 0.0000e+00\n",
      "Epoch 2/100\n",
      "100/100 [==============================] - 122s 1s/step - loss: 2.0644 - accuracy: 0.2962 - precision: 0.5727 - recall: 0.0984 - val_loss: 1.0261 - val_accuracy: 0.6463 - val_precision: 0.8277 - val_recall: 0.4315\n",
      "Epoch 3/100\n",
      "100/100 [==============================] - 109s 1s/step - loss: 1.1346 - accuracy: 0.6134 - precision: 0.7443 - recall: 0.4631 - val_loss: 0.5195 - val_accuracy: 0.8250 - val_precision: 0.8824 - val_recall: 0.7505\n",
      "Epoch 4/100\n",
      "100/100 [==============================] - 107s 1s/step - loss: 0.7717 - accuracy: 0.7581 - precision: 0.8350 - recall: 0.6597 - val_loss: 0.3214 - val_accuracy: 0.9000 - val_precision: 0.9215 - val_recall: 0.8806\n",
      "Epoch 5/100\n",
      "100/100 [==============================] - 108s 1s/step - loss: 0.5254 - accuracy: 0.8494 - precision: 0.8989 - recall: 0.7944 - val_loss: 0.2496 - val_accuracy: 0.9269 - val_precision: 0.9404 - val_recall: 0.9139\n",
      "Epoch 6/100\n",
      "100/100 [==============================] - 110s 1s/step - loss: 0.3827 - accuracy: 0.8881 - precision: 0.9222 - recall: 0.8525 - val_loss: 0.2707 - val_accuracy: 0.9134 - val_precision: 0.9292 - val_recall: 0.9056\n",
      "Epoch 7/100\n",
      "100/100 [==============================] - 110s 1s/step - loss: 0.3475 - accuracy: 0.9009 - precision: 0.9324 - recall: 0.8753 - val_loss: 0.1960 - val_accuracy: 0.9421 - val_precision: 0.9499 - val_recall: 0.9389\n",
      "Epoch 8/100\n",
      "100/100 [==============================] - 111s 1s/step - loss: 0.3236 - accuracy: 0.9078 - precision: 0.9319 - recall: 0.8809 - val_loss: 0.2167 - val_accuracy: 0.9375 - val_precision: 0.9418 - val_recall: 0.9292\n",
      "Epoch 9/100\n",
      "100/100 [==============================] - 112s 1s/step - loss: 0.2487 - accuracy: 0.9269 - precision: 0.9452 - recall: 0.9112 - val_loss: 0.1830 - val_accuracy: 0.9407 - val_precision: 0.9466 - val_recall: 0.9361\n",
      "Epoch 10/100\n",
      "100/100 [==============================] - 112s 1s/step - loss: 0.2275 - accuracy: 0.9362 - precision: 0.9523 - recall: 0.9225 - val_loss: 0.2873 - val_accuracy: 0.9315 - val_precision: 0.9383 - val_recall: 0.9296\n",
      "Epoch 11/100\n",
      "100/100 [==============================] - 112s 1s/step - loss: 0.2093 - accuracy: 0.9416 - precision: 0.9569 - recall: 0.9300 - val_loss: 0.1551 - val_accuracy: 0.9560 - val_precision: 0.9594 - val_recall: 0.9514\n",
      "Epoch 12/100\n",
      "100/100 [==============================] - 114s 1s/step - loss: 0.2052 - accuracy: 0.9397 - precision: 0.9514 - recall: 0.9300 - val_loss: 0.2116 - val_accuracy: 0.9449 - val_precision: 0.9500 - val_recall: 0.9412\n",
      "Epoch 13/100\n",
      "100/100 [==============================] - 115s 1s/step - loss: 0.1832 - accuracy: 0.9497 - precision: 0.9623 - recall: 0.9400 - val_loss: 0.2073 - val_accuracy: 0.9491 - val_precision: 0.9569 - val_recall: 0.9454\n",
      "Epoch 14/100\n",
      "100/100 [==============================] - 110s 1s/step - loss: 0.1777 - accuracy: 0.9544 - precision: 0.9655 - recall: 0.9431 - val_loss: 0.1787 - val_accuracy: 0.9546 - val_precision: 0.9594 - val_recall: 0.9528\n",
      "Epoch 15/100\n",
      "100/100 [==============================] - 110s 1s/step - loss: 0.1782 - accuracy: 0.9597 - precision: 0.9687 - recall: 0.9488 - val_loss: 0.1955 - val_accuracy: 0.9440 - val_precision: 0.9464 - val_recall: 0.9403\n",
      "Epoch 16/100\n",
      "100/100 [==============================] - 110s 1s/step - loss: 0.1394 - accuracy: 0.9613 - precision: 0.9717 - recall: 0.9559 - val_loss: 0.2132 - val_accuracy: 0.9477 - val_precision: 0.9497 - val_recall: 0.9449\n",
      "Epoch 17/100\n",
      "100/100 [==============================] - 112s 1s/step - loss: 0.1428 - accuracy: 0.9631 - precision: 0.9696 - recall: 0.9556 - val_loss: 0.1352 - val_accuracy: 0.9639 - val_precision: 0.9674 - val_recall: 0.9602\n",
      "Epoch 18/100\n",
      "100/100 [==============================] - 111s 1s/step - loss: 0.1382 - accuracy: 0.9675 - precision: 0.9732 - recall: 0.9638 - val_loss: 0.2085 - val_accuracy: 0.9546 - val_precision: 0.9573 - val_recall: 0.9542\n",
      "Epoch 19/100\n",
      "100/100 [==============================] - 111s 1s/step - loss: 0.1029 - accuracy: 0.9697 - precision: 0.9757 - recall: 0.9647 - val_loss: 0.1762 - val_accuracy: 0.9556 - val_precision: 0.9594 - val_recall: 0.9528\n",
      "Epoch 20/100\n",
      "100/100 [==============================] - 112s 1s/step - loss: 0.1223 - accuracy: 0.9681 - precision: 0.9716 - recall: 0.9619 - val_loss: 0.1823 - val_accuracy: 0.9620 - val_precision: 0.9634 - val_recall: 0.9616\n",
      "Epoch 21/100\n",
      "100/100 [==============================] - 111s 1s/step - loss: 0.1237 - accuracy: 0.9675 - precision: 0.9750 - recall: 0.9609 - val_loss: 0.2013 - val_accuracy: 0.9583 - val_precision: 0.9596 - val_recall: 0.9574\n",
      "Epoch 22/100\n",
      "100/100 [==============================] - 110s 1s/step - loss: 0.1397 - accuracy: 0.9609 - precision: 0.9689 - recall: 0.9534 - val_loss: 0.1900 - val_accuracy: 0.9611 - val_precision: 0.9624 - val_recall: 0.9597\n",
      "Epoch 23/100\n",
      "100/100 [==============================] - 112s 1s/step - loss: 0.1193 - accuracy: 0.9634 - precision: 0.9695 - recall: 0.9547 - val_loss: 0.1611 - val_accuracy: 0.9620 - val_precision: 0.9633 - val_recall: 0.9606\n",
      "Epoch 24/100\n",
      "100/100 [==============================] - 110s 1s/step - loss: 0.1161 - accuracy: 0.9672 - precision: 0.9725 - recall: 0.9613 - val_loss: 0.2151 - val_accuracy: 0.9537 - val_precision: 0.9554 - val_recall: 0.9528\n",
      "Epoch 25/100\n",
      "100/100 [==============================] - 110s 1s/step - loss: 0.0816 - accuracy: 0.9778 - precision: 0.9808 - recall: 0.9747 - val_loss: 0.1939 - val_accuracy: 0.9653 - val_precision: 0.9661 - val_recall: 0.9639\n",
      "Epoch 26/100\n",
      "100/100 [==============================] - 112s 1s/step - loss: 0.1037 - accuracy: 0.9734 - precision: 0.9773 - recall: 0.9684 - val_loss: 0.1661 - val_accuracy: 0.9588 - val_precision: 0.9601 - val_recall: 0.9574\n",
      "Epoch 27/100\n",
      "100/100 [==============================] - 188s 2s/step - loss: 0.0931 - accuracy: 0.9756 - precision: 0.9808 - recall: 0.9716 - val_loss: 0.1985 - val_accuracy: 0.9634 - val_precision: 0.9652 - val_recall: 0.9634\n",
      "Epoch 28/100\n",
      "100/100 [==============================] - 110s 1s/step - loss: 0.1364 - accuracy: 0.9653 - precision: 0.9722 - recall: 0.9600 - val_loss: 0.1747 - val_accuracy: 0.9537 - val_precision: 0.9567 - val_recall: 0.9514\n",
      "Epoch 29/100\n",
      "100/100 [==============================] - 110s 1s/step - loss: 0.0948 - accuracy: 0.9762 - precision: 0.9805 - recall: 0.9719 - val_loss: 0.1750 - val_accuracy: 0.9639 - val_precision: 0.9665 - val_recall: 0.9625\n",
      "Epoch 30/100\n",
      "100/100 [==============================] - 110s 1s/step - loss: 0.0840 - accuracy: 0.9803 - precision: 0.9836 - recall: 0.9769 - val_loss: 0.1948 - val_accuracy: 0.9634 - val_precision: 0.9660 - val_recall: 0.9606\n",
      "Epoch 31/100\n",
      "100/100 [==============================] - 110s 1s/step - loss: 0.0870 - accuracy: 0.9784 - precision: 0.9802 - recall: 0.9731 - val_loss: 0.2370 - val_accuracy: 0.9477 - val_precision: 0.9524 - val_recall: 0.9454\n",
      "Epoch 32/100\n",
      "100/100 [==============================] - 110s 1s/step - loss: 0.0667 - accuracy: 0.9803 - precision: 0.9849 - recall: 0.9775 - val_loss: 0.2440 - val_accuracy: 0.9588 - val_precision: 0.9609 - val_recall: 0.9569\n",
      "Epoch 33/100\n",
      "100/100 [==============================] - 102s 1s/step - loss: 0.0805 - accuracy: 0.9825 - precision: 0.9858 - recall: 0.9794 - val_loss: 0.2041 - val_accuracy: 0.9625 - val_precision: 0.9633 - val_recall: 0.9606\n",
      "Epoch 34/100\n",
      "100/100 [==============================] - 98s 984ms/step - loss: 0.0777 - accuracy: 0.9781 - precision: 0.9811 - recall: 0.9759 - val_loss: 0.1508 - val_accuracy: 0.9699 - val_precision: 0.9726 - val_recall: 0.9694\n",
      "Epoch 35/100\n",
      "100/100 [==============================] - 98s 981ms/step - loss: 0.0797 - accuracy: 0.9809 - precision: 0.9833 - recall: 0.9762 - val_loss: 0.1871 - val_accuracy: 0.9565 - val_precision: 0.9627 - val_recall: 0.9556\n",
      "Epoch 36/100\n",
      "100/100 [==============================] - 98s 977ms/step - loss: 0.0841 - accuracy: 0.9787 - precision: 0.9827 - recall: 0.9750 - val_loss: 0.2098 - val_accuracy: 0.9671 - val_precision: 0.9680 - val_recall: 0.9657\n"
     ]
    },
    {
     "name": "stdout",
     "output_type": "stream",
     "text": [
      "Epoch 37/100\n",
      "100/100 [==============================] - 97s 974ms/step - loss: 0.0724 - accuracy: 0.9803 - precision: 0.9830 - recall: 0.9756 - val_loss: 0.2307 - val_accuracy: 0.9625 - val_precision: 0.9637 - val_recall: 0.9597\n",
      "Epoch 38/100\n",
      "100/100 [==============================] - 97s 971ms/step - loss: 0.0770 - accuracy: 0.9812 - precision: 0.9843 - recall: 0.9797 - val_loss: 0.1977 - val_accuracy: 0.9565 - val_precision: 0.9595 - val_recall: 0.9551\n",
      "Epoch 39/100\n",
      "100/100 [==============================] - 98s 984ms/step - loss: 0.0742 - accuracy: 0.9794 - precision: 0.9815 - recall: 0.9772 - val_loss: 0.1675 - val_accuracy: 0.9588 - val_precision: 0.9627 - val_recall: 0.9565\n",
      "Epoch 40/100\n",
      "100/100 [==============================] - 98s 976ms/step - loss: 0.0659 - accuracy: 0.9831 - precision: 0.9843 - recall: 0.9797 - val_loss: 0.2477 - val_accuracy: 0.9597 - val_precision: 0.9601 - val_recall: 0.9588\n",
      "Epoch 41/100\n",
      "100/100 [==============================] - 97s 975ms/step - loss: 0.0946 - accuracy: 0.9737 - precision: 0.9764 - recall: 0.9703 - val_loss: 0.1143 - val_accuracy: 0.9736 - val_precision: 0.9754 - val_recall: 0.9713\n",
      "Epoch 42/100\n",
      "100/100 [==============================] - 98s 977ms/step - loss: 0.0596 - accuracy: 0.9847 - precision: 0.9865 - recall: 0.9837 - val_loss: 0.2436 - val_accuracy: 0.9593 - val_precision: 0.9605 - val_recall: 0.9579\n",
      "Epoch 43/100\n",
      "100/100 [==============================] - 102s 1s/step - loss: 0.0626 - accuracy: 0.9837 - precision: 0.9859 - recall: 0.9825 - val_loss: 0.1575 - val_accuracy: 0.9690 - val_precision: 0.9694 - val_recall: 0.9681\n",
      "Epoch 44/100\n",
      "100/100 [==============================] - 98s 977ms/step - loss: 0.0506 - accuracy: 0.9859 - precision: 0.9887 - recall: 0.9850 - val_loss: 0.2655 - val_accuracy: 0.9458 - val_precision: 0.9475 - val_recall: 0.9435\n",
      "Epoch 45/100\n",
      "100/100 [==============================] - 99s 987ms/step - loss: 0.0560 - accuracy: 0.9859 - precision: 0.9881 - recall: 0.9831 - val_loss: 0.2295 - val_accuracy: 0.9653 - val_precision: 0.9657 - val_recall: 0.9648\n",
      "Epoch 46/100\n",
      "100/100 [==============================] - 99s 988ms/step - loss: 0.0624 - accuracy: 0.9841 - precision: 0.9862 - recall: 0.9809 - val_loss: 0.1666 - val_accuracy: 0.9690 - val_precision: 0.9703 - val_recall: 0.9681\n",
      "Epoch 47/100\n",
      "100/100 [==============================] - 100s 1s/step - loss: 0.0713 - accuracy: 0.9803 - precision: 0.9830 - recall: 0.9775 - val_loss: 0.1791 - val_accuracy: 0.9639 - val_precision: 0.9656 - val_recall: 0.9625\n",
      "Epoch 48/100\n",
      "100/100 [==============================] - 121s 1s/step - loss: 0.0486 - accuracy: 0.9869 - precision: 0.9887 - recall: 0.9862 - val_loss: 0.3925 - val_accuracy: 0.9347 - val_precision: 0.9355 - val_recall: 0.9338\n",
      "Epoch 49/100\n",
      "100/100 [==============================] - 105s 1s/step - loss: 0.0802 - accuracy: 0.9778 - precision: 0.9817 - recall: 0.9747 - val_loss: 0.2416 - val_accuracy: 0.9569 - val_precision: 0.9600 - val_recall: 0.9551\n",
      "Epoch 50/100\n",
      "100/100 [==============================] - 109s 1s/step - loss: 0.0452 - accuracy: 0.9872 - precision: 0.9881 - recall: 0.9850 - val_loss: 0.1492 - val_accuracy: 0.9681 - val_precision: 0.9694 - val_recall: 0.9671\n",
      "Epoch 51/100\n",
      "100/100 [==============================] - 109s 1s/step - loss: 0.0442 - accuracy: 0.9866 - precision: 0.9890 - recall: 0.9847 - val_loss: 0.2435 - val_accuracy: 0.9644 - val_precision: 0.9652 - val_recall: 0.9630\n",
      "Epoch 52/100\n",
      "100/100 [==============================] - 109s 1s/step - loss: 0.0623 - accuracy: 0.9841 - precision: 0.9856 - recall: 0.9828 - val_loss: 0.2562 - val_accuracy: 0.9565 - val_precision: 0.9577 - val_recall: 0.9546\n",
      "Epoch 53/100\n",
      "100/100 [==============================] - 109s 1s/step - loss: 0.0631 - accuracy: 0.9816 - precision: 0.9834 - recall: 0.9791 - val_loss: 0.1992 - val_accuracy: 0.9620 - val_precision: 0.9647 - val_recall: 0.9616\n",
      "Epoch 54/100\n",
      "100/100 [==============================] - 108s 1s/step - loss: 0.0672 - accuracy: 0.9812 - precision: 0.9849 - recall: 0.9791 - val_loss: 0.2365 - val_accuracy: 0.9611 - val_precision: 0.9624 - val_recall: 0.9606\n",
      "Epoch 55/100\n",
      "100/100 [==============================] - 109s 1s/step - loss: 0.0633 - accuracy: 0.9828 - precision: 0.9862 - recall: 0.9812 - val_loss: 0.1921 - val_accuracy: 0.9676 - val_precision: 0.9689 - val_recall: 0.9671\n",
      "Epoch 56/100\n",
      "100/100 [==============================] - 111s 1s/step - loss: 0.0541 - accuracy: 0.9869 - precision: 0.9884 - recall: 0.9856 - val_loss: 0.2903 - val_accuracy: 0.9486 - val_precision: 0.9499 - val_recall: 0.9472\n",
      "Epoch 57/100\n",
      "100/100 [==============================] - 108s 1s/step - loss: 0.0661 - accuracy: 0.9800 - precision: 0.9827 - recall: 0.9787 - val_loss: 0.2068 - val_accuracy: 0.9653 - val_precision: 0.9661 - val_recall: 0.9630\n",
      "Epoch 58/100\n",
      "100/100 [==============================] - 109s 1s/step - loss: 0.0445 - accuracy: 0.9875 - precision: 0.9890 - recall: 0.9850 - val_loss: 0.1967 - val_accuracy: 0.9671 - val_precision: 0.9680 - val_recall: 0.9671\n",
      "Epoch 59/100\n",
      "100/100 [==============================] - 108s 1s/step - loss: 0.0441 - accuracy: 0.9869 - precision: 0.9890 - recall: 0.9853 - val_loss: 0.2582 - val_accuracy: 0.9593 - val_precision: 0.9623 - val_recall: 0.9583\n",
      "Epoch 60/100\n",
      "100/100 [==============================] - 104s 1s/step - loss: 0.0443 - accuracy: 0.9906 - precision: 0.9915 - recall: 0.9881 - val_loss: 0.1426 - val_accuracy: 0.9718 - val_precision: 0.9740 - val_recall: 0.9708\n",
      "Epoch 61/100\n",
      "100/100 [==============================] - 165s 2s/step - loss: 0.0445 - accuracy: 0.9894 - precision: 0.9912 - recall: 0.9878 - val_loss: 0.2410 - val_accuracy: 0.9625 - val_precision: 0.9643 - val_recall: 0.9616\n",
      "Epoch 62/100\n",
      "100/100 [==============================] - 222s 2s/step - loss: 0.0363 - accuracy: 0.9909 - precision: 0.9912 - recall: 0.9894 - val_loss: 0.2331 - val_accuracy: 0.9634 - val_precision: 0.9665 - val_recall: 0.9625\n",
      "Epoch 63/100\n",
      "100/100 [==============================] - 109s 1s/step - loss: 0.0342 - accuracy: 0.9919 - precision: 0.9931 - recall: 0.9894 - val_loss: 0.2098 - val_accuracy: 0.9657 - val_precision: 0.9666 - val_recall: 0.9657\n",
      "Epoch 64/100\n",
      "100/100 [==============================] - 106s 1s/step - loss: 0.0521 - accuracy: 0.9869 - precision: 0.9887 - recall: 0.9844 - val_loss: 0.3011 - val_accuracy: 0.9486 - val_precision: 0.9517 - val_recall: 0.9477\n",
      "Epoch 65/100\n",
      "100/100 [==============================] - 106s 1s/step - loss: 0.0511 - accuracy: 0.9831 - precision: 0.9865 - recall: 0.9828 - val_loss: 0.2962 - val_accuracy: 0.9602 - val_precision: 0.9619 - val_recall: 0.9588\n",
      "Epoch 66/100\n",
      "100/100 [==============================] - 108s 1s/step - loss: 0.0366 - accuracy: 0.9903 - precision: 0.9915 - recall: 0.9900 - val_loss: 0.3107 - val_accuracy: 0.9625 - val_precision: 0.9629 - val_recall: 0.9625\n",
      "Epoch 67/100\n",
      "100/100 [==============================] - 109s 1s/step - loss: 0.0982 - accuracy: 0.9775 - precision: 0.9805 - recall: 0.9744 - val_loss: 0.2522 - val_accuracy: 0.9431 - val_precision: 0.9478 - val_recall: 0.9417\n",
      "Epoch 68/100\n",
      "100/100 [==============================] - 110s 1s/step - loss: 0.0719 - accuracy: 0.9831 - precision: 0.9859 - recall: 0.9800 - val_loss: 0.2125 - val_accuracy: 0.9556 - val_precision: 0.9564 - val_recall: 0.9537\n",
      "Epoch 69/100\n",
      "100/100 [==============================] - 109s 1s/step - loss: 0.0415 - accuracy: 0.9884 - precision: 0.9903 - recall: 0.9862 - val_loss: 0.2420 - val_accuracy: 0.9699 - val_precision: 0.9699 - val_recall: 0.9694\n",
      "Epoch 70/100\n",
      "100/100 [==============================] - 109s 1s/step - loss: 0.0639 - accuracy: 0.9866 - precision: 0.9881 - recall: 0.9844 - val_loss: 0.1861 - val_accuracy: 0.9606 - val_precision: 0.9654 - val_recall: 0.9565\n",
      "Epoch 71/100\n",
      "100/100 [==============================] - 109s 1s/step - loss: 0.0670 - accuracy: 0.9816 - precision: 0.9855 - recall: 0.9787 - val_loss: 0.2348 - val_accuracy: 0.9639 - val_precision: 0.9652 - val_recall: 0.9634\n",
      "Epoch 72/100\n",
      "100/100 [==============================] - 108s 1s/step - loss: 0.0261 - accuracy: 0.9941 - precision: 0.9944 - recall: 0.9925 - val_loss: 0.2423 - val_accuracy: 0.9602 - val_precision: 0.9624 - val_recall: 0.9588\n",
      "Epoch 73/100\n"
     ]
    },
    {
     "name": "stdout",
     "output_type": "stream",
     "text": [
      "100/100 [==============================] - 108s 1s/step - loss: 0.0374 - accuracy: 0.9894 - precision: 0.9909 - recall: 0.9875 - val_loss: 0.2387 - val_accuracy: 0.9657 - val_precision: 0.9670 - val_recall: 0.9644\n",
      "Epoch 74/100\n",
      "100/100 [==============================] - 110s 1s/step - loss: 0.0380 - accuracy: 0.9900 - precision: 0.9906 - recall: 0.9894 - val_loss: 0.2180 - val_accuracy: 0.9648 - val_precision: 0.9652 - val_recall: 0.9644\n",
      "Epoch 75/100\n",
      "100/100 [==============================] - 112s 1s/step - loss: 0.0298 - accuracy: 0.9909 - precision: 0.9915 - recall: 0.9897 - val_loss: 0.2734 - val_accuracy: 0.9648 - val_precision: 0.9653 - val_recall: 0.9648\n",
      "Epoch 76/100\n",
      "100/100 [==============================] - 111s 1s/step - loss: 0.0242 - accuracy: 0.9919 - precision: 0.9922 - recall: 0.9906 - val_loss: 0.2912 - val_accuracy: 0.9611 - val_precision: 0.9629 - val_recall: 0.9606\n",
      "Epoch 77/100\n",
      "100/100 [==============================] - 110s 1s/step - loss: 0.0660 - accuracy: 0.9822 - precision: 0.9831 - recall: 0.9809 - val_loss: 0.2674 - val_accuracy: 0.9593 - val_precision: 0.9596 - val_recall: 0.9569\n",
      "Epoch 78/100\n",
      "100/100 [==============================] - 111s 1s/step - loss: 0.0614 - accuracy: 0.9850 - precision: 0.9878 - recall: 0.9834 - val_loss: 0.2051 - val_accuracy: 0.9625 - val_precision: 0.9638 - val_recall: 0.9620\n",
      "Epoch 79/100\n",
      "100/100 [==============================] - 111s 1s/step - loss: 0.0518 - accuracy: 0.9881 - precision: 0.9897 - recall: 0.9869 - val_loss: 0.2633 - val_accuracy: 0.9560 - val_precision: 0.9591 - val_recall: 0.9551\n",
      "Epoch 80/100\n",
      "100/100 [==============================] - 110s 1s/step - loss: 0.0338 - accuracy: 0.9916 - precision: 0.9928 - recall: 0.9903 - val_loss: 0.2764 - val_accuracy: 0.9532 - val_precision: 0.9540 - val_recall: 0.9509\n",
      "Epoch 81/100\n",
      "100/100 [==============================] - 110s 1s/step - loss: 0.0250 - accuracy: 0.9925 - precision: 0.9931 - recall: 0.9919 - val_loss: 0.2313 - val_accuracy: 0.9676 - val_precision: 0.9680 - val_recall: 0.9667\n",
      "Epoch 82/100\n",
      "100/100 [==============================] - 110s 1s/step - loss: 0.0216 - accuracy: 0.9931 - precision: 0.9944 - recall: 0.9925 - val_loss: 0.2179 - val_accuracy: 0.9704 - val_precision: 0.9717 - val_recall: 0.9699\n",
      "Epoch 83/100\n",
      "100/100 [==============================] - 110s 1s/step - loss: 0.0353 - accuracy: 0.9903 - precision: 0.9909 - recall: 0.9887 - val_loss: 0.2979 - val_accuracy: 0.9532 - val_precision: 0.9563 - val_recall: 0.9528\n",
      "Epoch 84/100\n",
      "100/100 [==============================] - 110s 1s/step - loss: 0.0399 - accuracy: 0.9894 - precision: 0.9906 - recall: 0.9875 - val_loss: 0.2397 - val_accuracy: 0.9644 - val_precision: 0.9656 - val_recall: 0.9625\n",
      "Epoch 85/100\n",
      "100/100 [==============================] - 111s 1s/step - loss: 0.0367 - accuracy: 0.9900 - precision: 0.9903 - recall: 0.9897 - val_loss: 0.2491 - val_accuracy: 0.9625 - val_precision: 0.9643 - val_recall: 0.9620\n",
      "Epoch 86/100\n",
      "100/100 [==============================] - 121s 1s/step - loss: 0.0380 - accuracy: 0.9919 - precision: 0.9934 - recall: 0.9903 - val_loss: 0.2249 - val_accuracy: 0.9597 - val_precision: 0.9606 - val_recall: 0.9597\n",
      "Epoch 87/100\n",
      "100/100 [==============================] - 109s 1s/step - loss: 0.0595 - accuracy: 0.9844 - precision: 0.9874 - recall: 0.9831 - val_loss: 0.2309 - val_accuracy: 0.9574 - val_precision: 0.9600 - val_recall: 0.9556\n",
      "Epoch 88/100\n",
      "100/100 [==============================] - 116s 1s/step - loss: 0.0305 - accuracy: 0.9919 - precision: 0.9928 - recall: 0.9909 - val_loss: 0.2011 - val_accuracy: 0.9690 - val_precision: 0.9699 - val_recall: 0.9681\n",
      "Epoch 89/100\n",
      "100/100 [==============================] - 111s 1s/step - loss: 0.0323 - accuracy: 0.9931 - precision: 0.9940 - recall: 0.9906 - val_loss: 0.2080 - val_accuracy: 0.9704 - val_precision: 0.9717 - val_recall: 0.9694\n",
      "Epoch 90/100\n",
      "100/100 [==============================] - 110s 1s/step - loss: 0.0250 - accuracy: 0.9931 - precision: 0.9937 - recall: 0.9931 - val_loss: 0.1999 - val_accuracy: 0.9718 - val_precision: 0.9731 - val_recall: 0.9699\n",
      "Epoch 91/100\n",
      "100/100 [==============================] - 110s 1s/step - loss: 0.0280 - accuracy: 0.9931 - precision: 0.9944 - recall: 0.9909 - val_loss: 0.1865 - val_accuracy: 0.9676 - val_precision: 0.9689 - val_recall: 0.9657\n",
      "Epoch 92/100\n",
      "100/100 [==============================] - 110s 1s/step - loss: 0.0302 - accuracy: 0.9897 - precision: 0.9915 - recall: 0.9891 - val_loss: 0.3003 - val_accuracy: 0.9593 - val_precision: 0.9605 - val_recall: 0.9579\n",
      "Epoch 93/100\n",
      "100/100 [==============================] - 144s 1s/step - loss: 0.0393 - accuracy: 0.9906 - precision: 0.9912 - recall: 0.9878 - val_loss: 0.2238 - val_accuracy: 0.9644 - val_precision: 0.9656 - val_recall: 0.9625\n",
      "Epoch 94/100\n",
      "100/100 [==============================] - 212s 2s/step - loss: 0.0228 - accuracy: 0.9937 - precision: 0.9944 - recall: 0.9928 - val_loss: 0.2782 - val_accuracy: 0.9611 - val_precision: 0.9624 - val_recall: 0.9606\n",
      "Epoch 95/100\n",
      "100/100 [==============================] - 119s 1s/step - loss: 0.0276 - accuracy: 0.9922 - precision: 0.9931 - recall: 0.9916 - val_loss: 0.2047 - val_accuracy: 0.9727 - val_precision: 0.9736 - val_recall: 0.9718\n",
      "Epoch 96/100\n",
      "100/100 [==============================] - 139s 1s/step - loss: 0.0386 - accuracy: 0.9887 - precision: 0.9897 - recall: 0.9884 - val_loss: 0.2043 - val_accuracy: 0.9653 - val_precision: 0.9661 - val_recall: 0.9634\n",
      "Epoch 97/100\n",
      "100/100 [==============================] - 139s 1s/step - loss: 0.0565 - accuracy: 0.9856 - precision: 0.9884 - recall: 0.9841 - val_loss: 0.2234 - val_accuracy: 0.9560 - val_precision: 0.9582 - val_recall: 0.9556\n",
      "Epoch 98/100\n",
      "100/100 [==============================] - 138s 1s/step - loss: 0.0444 - accuracy: 0.9872 - precision: 0.9887 - recall: 0.9866 - val_loss: 0.2988 - val_accuracy: 0.9667 - val_precision: 0.9667 - val_recall: 0.9667\n",
      "Epoch 99/100\n",
      "100/100 [==============================] - 138s 1s/step - loss: 0.0403 - accuracy: 0.9881 - precision: 0.9897 - recall: 0.9869 - val_loss: 0.2056 - val_accuracy: 0.9648 - val_precision: 0.9666 - val_recall: 0.9634\n",
      "Epoch 100/100\n",
      "100/100 [==============================] - 101s 1s/step - loss: 0.0277 - accuracy: 0.9931 - precision: 0.9937 - recall: 0.9925 - val_loss: 0.2277 - val_accuracy: 0.9681 - val_precision: 0.9689 - val_recall: 0.9676\n",
      "waktu training adalah :  11615.681899309158  s\n"
     ]
    }
   ],
   "source": [
    "import tensorflow as tf\n",
    "from tensorflow import keras\n",
    "import time\n",
    "\n",
    "opt = keras.optimizers.Adam(learning_rate=0.1)\n",
    "model.compile(optimizer='adam',\n",
    "              loss='categorical_crossentropy',\n",
    "             metrics=['accuracy', tf.keras.metrics.Precision(),tf.keras.metrics.Recall()])\n",
    "mulai = time.time()\n",
    "history = model.fit(train_generator,\n",
    "    steps_per_epoch = 100,      \n",
    "    epochs = 100,\n",
    "    validation_data = validation_generator\n",
    "    )\n",
    "print(\"waktu training adalah : \", time.time()-mulai , \" s\")"
   ]
  },
  {
   "cell_type": "code",
   "execution_count": null,
   "metadata": {
    "collapsed": true
   },
   "outputs": [],
   "source": [
    "# train_generator = train_datagen.flow_from_directory(\n",
    "#                   fpath,\n",
    "#                   color_mode='grayscale',\n",
    "#                   target_size = (96,96),\n",
    "#                   subset='training')"
   ]
  },
  {
   "cell_type": "code",
   "execution_count": null,
   "metadata": {},
   "outputs": [],
   "source": [
    "plt.plot(history.history['accuracy'], label='accuracy')\n",
    "plt.plot(history.history['val_accuracy'], label = 'val_accuracy')\n",
    "plt.plot(np.array(history.history['val_recall']), label = 'val_recall')\n",
    "plt.plot(np.array(history.history['val_precision']), label = 'val_precission')\n",
    "plt.xlabel('Epoch')\n",
    "plt.ylabel('Accuracy')\n",
    "plt.ylim([0.5, 1.1])\n",
    "plt.legend(loc='lower right')\n",
    "\n",
    "# test_loss, test_acc = model.evaluate(validation_generator,  validation_generator.label, verbose=2)"
   ]
  },
  {
   "cell_type": "markdown",
   "metadata": {},
   "source": [
    "# convert"
   ]
  },
  {
   "cell_type": "code",
   "execution_count": 12,
   "metadata": {},
   "outputs": [
    {
     "name": "stdout",
     "output_type": "stream",
     "text": [
      "2.0.0\n"
     ]
    }
   ],
   "source": [
    "import tensorflow as tf\n",
    "print(tf.version.VERSION)\n",
    "\n",
    "model_path = '../RGB/100epoch.h5'\n",
    "model.save(model_path)"
   ]
  },
  {
   "cell_type": "code",
   "execution_count": null,
   "metadata": {},
   "outputs": [],
   "source": [
    "converter = tf.lite.TFLiteConverter.from_keras_model(model)\n",
    "tflite_model = converter.convert()\n",
    "open(\"../out/convert_rgb.tflite\", \"wb\").write(tflite_model)"
   ]
  },
  {
   "cell_type": "code",
   "execution_count": null,
   "metadata": {},
   "outputs": [],
   "source": [
    "# # yhat_classes = model.predict_classes(fttrain, verbose=0)\n",
    "# # yhat_classes\n",
    "import tensorflow as tf\n",
    "new_model = tf.keras.models.load_model('../out/modeltf.h5')\n",
    "new_model.summary()"
   ]
  },
  {
   "cell_type": "code",
   "execution_count": null,
   "metadata": {},
   "outputs": [],
   "source": [
    "# new_model.predict(train_generator)\n",
    "from keras.preprocessing import image\n",
    "import matplotlib.pyplot as plt\n",
    "import numpy as np\n",
    "\n",
    "img = image.load_img(\"D:\\\\data\\\\ya\\\\ya(1).png.png\", target_size=(64,64), grayscale=True);\n",
    "imgplot = plt.imshow(img, \"gray\")\n",
    "x = image.img_to_array(img)\n",
    "x = np.expand_dims(x, axis=0)\n",
    "#x.shape()\n",
    "\n",
    "classes = new_model.predict(x)\n",
    "print (classes)"
   ]
  },
  {
   "cell_type": "code",
   "execution_count": null,
   "metadata": {},
   "outputs": [],
   "source": [
    "def huruf (nilai) :\n",
    "    balik=0;\n",
    "    nilai = np.array(nilai)\n",
    "#     print (nilai.shape())\n",
    "    \n",
    "    for i in range (18):\n",
    "        if (nilai[0][i]==1): \n",
    "            balik=i;\n",
    "     \n",
    "    if (balik==0): \n",
    "            huruf= \"ba\"\n",
    "    if (balik==1): \n",
    "        huruf= \"ca\";\n",
    "    if (balik==2): \n",
    "        huruf= \"da\";\n",
    "    if (balik==3): \n",
    "        huruf= \"ga\";\n",
    "    if (balik==4): \n",
    "        huruf= \"ha\";\n",
    "    if (balik==5): \n",
    "        huruf= \"ja\";\n",
    "    if (balik==6): \n",
    "        huruf= \"ka\";\n",
    "    if (balik==7): \n",
    "        huruf= \"la\";\n",
    "    if (balik==8): \n",
    "        huruf= \"ma\";\n",
    "    if (balik==9): \n",
    "        huruf= \"na\";\n",
    "    if (balik==10): \n",
    "        huruf= \"nga\";\n",
    "    if (balik==11): \n",
    "        huruf= \"nya\";\n",
    "    if (balik==12): \n",
    "        huruf= \"pa\";\n",
    "    if (balik==13): \n",
    "        huruf= \"ra\";\n",
    "    if (balik==14): \n",
    "        huruf= \"sa\";\n",
    "    if (balik==15): \n",
    "        huruf= \"ta\";\n",
    "    if (balik==16): \n",
    "        huruf= \"wa\";\n",
    "    if (balik==17): \n",
    "        huruf= \"ya\";\n",
    "    return huruf;\n"
   ]
  },
  {
   "cell_type": "code",
   "execution_count": null,
   "metadata": {},
   "outputs": [],
   "source": [
    "img = image.load_img(\"D:\\\\android image\\\\Huruf92.png\", target_size=(64,64), grayscale=True);\n",
    "imgplot = plt.imshow(img, \"gray\")\n",
    "x = image.img_to_array(img)\n",
    "#x=x/255\n",
    "x = np.expand_dims(x, axis=0)\n",
    "\n",
    "classes = new_model.predict(x)\n",
    "classes =np.round(classes)\n",
    "print (classes)\n",
    "print (max(classes))"
   ]
  },
  {
   "cell_type": "code",
   "execution_count": null,
   "metadata": {},
   "outputs": [],
   "source": [
    "import os\n",
    "filepath=\"D:\\\\android image\\\\part1\\\\\"\n",
    "for a in os.listdir(filepath):\n",
    "    img = image.load_img(filepath+a, target_size=(64,64), grayscale=True);\n",
    "    imgplot = plt.imshow(img, \"gray\")\n",
    "    x = image.img_to_array(img)\n",
    "    #x=x/255\n",
    "    x = np.expand_dims(x, axis=0)\n",
    "\n",
    "    classes = new_model.predict(x)\n",
    "    classes =np.round(classes)\n",
    "#     print (classes)\n",
    "    print (huruf(classes))\n",
    "    "
   ]
  },
  {
   "cell_type": "code",
   "execution_count": null,
   "metadata": {
    "scrolled": true
   },
   "outputs": [],
   "source": [
    "img = image.load_img(\"D:\\\\android image\\\\Huruf17.png\", target_size=(64,64), grayscale=True);\n",
    "#img =  image.load_img(\"D:\\\\data\\\\ca\\\\ca(1).png.png\", target_size=(64,64), grayscale=True);\n",
    "img = image.img_to_array(img)\n",
    "imgplot = plt.imshow(img, \"gray\")\n",
    "img = np.expand_dims(img, axis=0)\n",
    "\n",
    "# img2 =  image.load_img(\"D:\\\\data\\\\na\\\\na(1).png.png\", target_size=(64,64), grayscale=True);\n",
    "# img2 = np.expand_dims(img2, axis=0)\n",
    "# img2 = np.expand_dims(img2, axis=0)\n",
    "\n",
    "hasil = new_model.predict(img)\n",
    "\n",
    "a= np.unique(img);\n",
    "# b= np.unique(img2);\n",
    "huruf(hasil)"
   ]
  },
  {
   "cell_type": "code",
   "execution_count": null,
   "metadata": {},
   "outputs": [],
   "source": [
    "img = image.load_img(\"D:\\\\android image\\\\Huruf17.png\", target_size=(64,64), grayscale=True);\n",
    "#img =  image.load_img(\"D:\\\\data\\\\ca\\\\ca(1).png.png\", target_size=(64,64), grayscale=True);\n",
    "img = image.img_to_array(img)\n",
    "print(img/225)"
   ]
  },
  {
   "cell_type": "code",
   "execution_count": null,
   "metadata": {},
   "outputs": [],
   "source": []
  }
 ],
 "metadata": {
  "kernelspec": {
   "display_name": "flow",
   "language": "python",
   "name": "flow"
  },
  "language_info": {
   "codemirror_mode": {
    "name": "ipython",
    "version": 3
   },
   "file_extension": ".py",
   "mimetype": "text/x-python",
   "name": "python",
   "nbconvert_exporter": "python",
   "pygments_lexer": "ipython3",
   "version": "3.6.10"
  }
 },
 "nbformat": 4,
 "nbformat_minor": 4
}
