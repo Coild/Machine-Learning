{
 "cells": [
  {
   "cell_type": "code",
   "execution_count": 3,
   "metadata": {
    "colab": {
     "base_uri": "https://localhost:8080/",
     "height": 212
    },
    "id": "BPKmTrqy5dWT",
    "outputId": "9aa9d94a-1ef9-41b3-dd89-3d488864da80"
   },
   "outputs": [
    {
     "name": "stdout",
     "output_type": "stream",
     "text": [
      "--2020-10-08 05:47:40--  https://dicodingacademy.blob.core.windows.net/picodiploma/ml_pemula_academy/rockpaperscissors.zip\n",
      "Resolving dicodingacademy.blob.core.windows.net (dicodingacademy.blob.core.windows.net)... 52.239.197.36\n",
      "Connecting to dicodingacademy.blob.core.windows.net (dicodingacademy.blob.core.windows.net)|52.239.197.36|:443... connected.\n",
      "HTTP request sent, awaiting response... 200 OK\n",
      "Length: 322873683 (308M) [application/zip]\n",
      "Saving to: ‘/tmp/rockpaperscissors.zip’\n",
      "\n",
      "/tmp/rockpapersciss 100%[===================>] 307.92M  5.87MB/s    in 54s     \n",
      "\n",
      "2020-10-08 05:48:35 (5.73 MB/s) - ‘/tmp/rockpaperscissors.zip’ saved [322873683/322873683]\n",
      "\n"
     ]
    }
   ],
   "source": [
    "!wget --no-check-certificate \\\n",
    "    https://dicodingacademy.blob.core.windows.net/picodiploma/ml_pemula_academy/rockpaperscissors.zip \\\n",
    "    -O /tmp/rockpaperscissors.zip"
   ]
  },
  {
   "cell_type": "markdown",
   "metadata": {
    "id": "ugNxN7T6fj8y"
   },
   "source": [
    "#NAMA : Reza Rismawandi\n",
    "#HAL  : Submission Dicoding"
   ]
  },
  {
   "cell_type": "code",
   "execution_count": 4,
   "metadata": {
    "id": "Z2AwIubJ6EYp"
   },
   "outputs": [],
   "source": [
    "import zipfile\n",
    "\n",
    "local_zip = '/tmp/rockpaperscissors.zip'\n",
    "zip_ref = zipfile.ZipFile(local_zip, 'r')\n",
    "zip_ref.extractall('/tmp/')\n",
    "zip_ref.close()"
   ]
  },
  {
   "cell_type": "code",
   "execution_count": 56,
   "metadata": {
    "id": "MrXXQLu16ISg"
   },
   "outputs": [],
   "source": [
    "base_dir = '/tmp/rockpaperscissors/rps-cv-images'\n",
    "\n",
    "from tensorflow.keras.preprocessing.image import ImageDataGenerator\n",
    "\n",
    "train_datagen = ImageDataGenerator(\n",
    "                rescale = 1./255,\n",
    "                featurewise_center=True,\n",
    "                featurewise_std_normalization=True,\n",
    "                rotation_range=20,\n",
    "                width_shift_range=0.2,\n",
    "                height_shift_range=0.2,\n",
    "                horizontal_flip=True,\n",
    "                validation_split=0.4)"
   ]
  },
  {
   "cell_type": "code",
   "execution_count": 57,
   "metadata": {
    "colab": {
     "base_uri": "https://localhost:8080/",
     "height": 52
    },
    "id": "XGjbT7WC6ccO",
    "outputId": "b7fa39da-d1ad-49b1-ec85-43e72adfbd79"
   },
   "outputs": [
    {
     "name": "stdout",
     "output_type": "stream",
     "text": [
      "Found 1314 images belonging to 3 classes.\n",
      "Found 874 images belonging to 3 classes.\n"
     ]
    }
   ],
   "source": [
    "train_generator = train_datagen.flow_from_directory(\n",
    "                  base_dir,\n",
    "                  color_mode='grayscale',\n",
    "                  target_size = (150,150),\n",
    "                  subset='training')\n",
    "\n",
    "validation_generator = train_datagen.flow_from_directory(\n",
    "                  base_dir,\n",
    "                  color_mode='grayscale',\n",
    "                  target_size = (150,150),\n",
    "                  subset='validation'\n",
    ")"
   ]
  },
  {
   "cell_type": "code",
   "execution_count": 38,
   "metadata": {
    "id": "SI6jLW-G6mdX"
   },
   "outputs": [],
   "source": [
    "from tensorflow.keras import datasets, layers, models\n",
    "import matplotlib.pyplot as plt"
   ]
  },
  {
   "cell_type": "code",
   "execution_count": 73,
   "metadata": {
    "id": "UKuwHLCR6rEZ"
   },
   "outputs": [],
   "source": [
    "model = models.Sequential()\n",
    "model.add(layers.Conv2D(32, kernel_size = (3,3), activation='relu', padding='same', input_shape=(150,150,1)))\n",
    "model.add(layers.MaxPooling2D(pool_size=(2,2)))\n",
    "model.add(layers.Conv2D(64, (3,3), activation='relu', padding='same'))\n",
    "model.add(layers.MaxPooling2D(pool_size=(2,2)))\n",
    "model.add(layers.Conv2D(128, (3,3), activation='relu', padding='same'))\n",
    "model.add(layers.MaxPooling2D(pool_size=(2,2)))\n",
    "model.add(layers.Flatten())\n",
    "model.add(layers.Dense(512, activation='relu'))\n",
    "model.add(layers.Dropout(0.4))\n",
    "model.add(layers.Dense(256, activation='relu'))\n",
    "model.add(layers.Dropout(0.2))\n",
    "model.add(layers.Dense(3, activation='softmax'))"
   ]
  },
  {
   "cell_type": "code",
   "execution_count": 70,
   "metadata": {
    "colab": {
     "base_uri": "https://localhost:8080/",
     "height": 585
    },
    "id": "58pjkqOY6wbb",
    "outputId": "f0f4589c-7e5d-4863-9efb-1e233a034a24"
   },
   "outputs": [
    {
     "name": "stdout",
     "output_type": "stream",
     "text": [
      "Model: \"sequential_9\"\n",
      "_________________________________________________________________\n",
      "Layer (type)                 Output Shape              Param #   \n",
      "=================================================================\n",
      "conv2d_23 (Conv2D)           (None, 150, 150, 32)      320       \n",
      "_________________________________________________________________\n",
      "max_pooling2d_20 (MaxPooling (None, 75, 75, 32)        0         \n",
      "_________________________________________________________________\n",
      "conv2d_24 (Conv2D)           (None, 75, 75, 64)        18496     \n",
      "_________________________________________________________________\n",
      "max_pooling2d_21 (MaxPooling (None, 37, 37, 64)        0         \n",
      "_________________________________________________________________\n",
      "conv2d_25 (Conv2D)           (None, 37, 37, 128)       73856     \n",
      "_________________________________________________________________\n",
      "max_pooling2d_22 (MaxPooling (None, 18, 18, 128)       0         \n",
      "_________________________________________________________________\n",
      "flatten_8 (Flatten)          (None, 41472)             0         \n",
      "_________________________________________________________________\n",
      "dense_21 (Dense)             (None, 512)               21234176  \n",
      "_________________________________________________________________\n",
      "dropout_13 (Dropout)         (None, 512)               0         \n",
      "_________________________________________________________________\n",
      "dense_22 (Dense)             (None, 512)               262656    \n",
      "_________________________________________________________________\n",
      "dropout_14 (Dropout)         (None, 512)               0         \n",
      "_________________________________________________________________\n",
      "dense_23 (Dense)             (None, 3)                 1539      \n",
      "=================================================================\n",
      "Total params: 21,591,043\n",
      "Trainable params: 21,591,043\n",
      "Non-trainable params: 0\n",
      "_________________________________________________________________\n"
     ]
    }
   ],
   "source": [
    "model.summary()"
   ]
  },
  {
   "cell_type": "code",
   "execution_count": 71,
   "metadata": {
    "id": "rgyRzCVy9mIw"
   },
   "outputs": [],
   "source": [
    "import tensorflow as tf\n",
    "def scheduler(epoch, lr):\n",
    "  if epoch < 25:\n",
    "     return lr\n",
    "  else:\n",
    "     return lr * tf.math.exp(-0.1)\n",
    "  \n",
    "callback = tf.keras.callbacks.LearningRateScheduler(scheduler)"
   ]
  },
  {
   "cell_type": "code",
   "execution_count": 74,
   "metadata": {
    "colab": {
     "base_uri": "https://localhost:8080/",
     "height": 1000
    },
    "id": "CY3DvcYj6zoO",
    "outputId": "64a50adc-d870-4f71-b7cc-1f42bf17379e"
   },
   "outputs": [
    {
     "name": "stderr",
     "output_type": "stream",
     "text": [
      "/usr/local/lib/python3.6/dist-packages/keras_preprocessing/image/image_data_generator.py:720: UserWarning: This ImageDataGenerator specifies `featurewise_center`, but it hasn't been fit on any training data. Fit it first by calling `.fit(numpy_data)`.\n",
      "  warnings.warn('This ImageDataGenerator specifies '\n",
      "/usr/local/lib/python3.6/dist-packages/keras_preprocessing/image/image_data_generator.py:728: UserWarning: This ImageDataGenerator specifies `featurewise_std_normalization`, but it hasn't been fit on any training data. Fit it first by calling `.fit(numpy_data)`.\n",
      "  warnings.warn('This ImageDataGenerator specifies '\n"
     ]
    },
    {
     "name": "stdout",
     "output_type": "stream",
     "text": [
      "Epoch 1/50\n",
      "15/15 [==============================] - 23s 2s/step - loss: 1.1238 - accuracy: 0.3313 - val_loss: 1.0989 - val_accuracy: 0.3229\n",
      "Epoch 2/50\n",
      "15/15 [==============================] - 22s 1s/step - loss: 1.0977 - accuracy: 0.3689 - val_loss: 1.1234 - val_accuracy: 0.3333\n",
      "Epoch 3/50\n",
      "15/15 [==============================] - 21s 1s/step - loss: 1.1045 - accuracy: 0.3267 - val_loss: 1.0944 - val_accuracy: 0.3646\n",
      "Epoch 4/50\n",
      "15/15 [==============================] - 22s 1s/step - loss: 1.1004 - accuracy: 0.3333 - val_loss: 1.0936 - val_accuracy: 0.3646\n",
      "Epoch 5/50\n",
      "15/15 [==============================] - 23s 2s/step - loss: 1.0918 - accuracy: 0.4521 - val_loss: 1.0839 - val_accuracy: 0.4896\n",
      "Epoch 6/50\n",
      "15/15 [==============================] - 23s 2s/step - loss: 1.0285 - accuracy: 0.4854 - val_loss: 0.9461 - val_accuracy: 0.5208\n",
      "Epoch 7/50\n",
      "15/15 [==============================] - 23s 2s/step - loss: 0.8465 - accuracy: 0.6042 - val_loss: 0.7964 - val_accuracy: 0.6562\n",
      "Epoch 8/50\n",
      "15/15 [==============================] - 23s 2s/step - loss: 0.7812 - accuracy: 0.6667 - val_loss: 0.6859 - val_accuracy: 0.6458\n",
      "Epoch 9/50\n",
      "15/15 [==============================] - 22s 1s/step - loss: 0.7266 - accuracy: 0.7022 - val_loss: 0.8199 - val_accuracy: 0.5938\n",
      "Epoch 10/50\n",
      "15/15 [==============================] - 23s 2s/step - loss: 0.6465 - accuracy: 0.7021 - val_loss: 0.4513 - val_accuracy: 0.8229\n",
      "Epoch 11/50\n",
      "15/15 [==============================] - 23s 2s/step - loss: 0.5198 - accuracy: 0.7979 - val_loss: 0.3726 - val_accuracy: 0.8438\n",
      "Epoch 12/50\n",
      "15/15 [==============================] - 22s 1s/step - loss: 0.4219 - accuracy: 0.8289 - val_loss: 0.4540 - val_accuracy: 0.8229\n",
      "Epoch 13/50\n",
      "15/15 [==============================] - 23s 2s/step - loss: 0.3158 - accuracy: 0.8896 - val_loss: 0.2813 - val_accuracy: 0.8646\n",
      "Epoch 14/50\n",
      "15/15 [==============================] - 22s 1s/step - loss: 0.3517 - accuracy: 0.8911 - val_loss: 0.3025 - val_accuracy: 0.8542\n",
      "Epoch 15/50\n",
      "15/15 [==============================] - 22s 1s/step - loss: 0.2815 - accuracy: 0.9200 - val_loss: 0.7108 - val_accuracy: 0.6979\n",
      "Epoch 16/50\n",
      "15/15 [==============================] - 23s 2s/step - loss: 0.4024 - accuracy: 0.8562 - val_loss: 0.3631 - val_accuracy: 0.8750\n",
      "Epoch 17/50\n",
      "15/15 [==============================] - 22s 1s/step - loss: 0.3544 - accuracy: 0.8911 - val_loss: 0.3568 - val_accuracy: 0.9062\n",
      "Epoch 18/50\n",
      "15/15 [==============================] - 23s 2s/step - loss: 0.2721 - accuracy: 0.9104 - val_loss: 0.4575 - val_accuracy: 0.8021\n",
      "Epoch 19/50\n",
      "15/15 [==============================] - 23s 2s/step - loss: 0.2750 - accuracy: 0.9146 - val_loss: 0.1471 - val_accuracy: 0.9583\n",
      "Epoch 20/50\n",
      "15/15 [==============================] - 23s 2s/step - loss: 0.2591 - accuracy: 0.9187 - val_loss: 0.2642 - val_accuracy: 0.9167\n",
      "Epoch 21/50\n",
      "15/15 [==============================] - 23s 2s/step - loss: 0.2283 - accuracy: 0.9271 - val_loss: 0.3358 - val_accuracy: 0.8542\n",
      "Epoch 22/50\n",
      "15/15 [==============================] - 21s 1s/step - loss: 0.2463 - accuracy: 0.9356 - val_loss: 0.1964 - val_accuracy: 0.9375\n",
      "Epoch 23/50\n",
      "15/15 [==============================] - 23s 2s/step - loss: 0.2437 - accuracy: 0.9167 - val_loss: 0.1476 - val_accuracy: 0.9271\n",
      "Epoch 24/50\n",
      "15/15 [==============================] - 23s 2s/step - loss: 0.1632 - accuracy: 0.9583 - val_loss: 0.2820 - val_accuracy: 0.9479\n",
      "Epoch 25/50\n",
      "15/15 [==============================] - 22s 1s/step - loss: 0.2291 - accuracy: 0.9311 - val_loss: 0.2374 - val_accuracy: 0.9271\n",
      "Epoch 26/50\n",
      "15/15 [==============================] - 23s 2s/step - loss: 0.1805 - accuracy: 0.9438 - val_loss: 0.1507 - val_accuracy: 0.9583\n",
      "Epoch 27/50\n",
      "15/15 [==============================] - 23s 2s/step - loss: 0.2374 - accuracy: 0.9208 - val_loss: 0.1669 - val_accuracy: 0.9479\n",
      "Epoch 28/50\n",
      "15/15 [==============================] - 24s 2s/step - loss: 0.1275 - accuracy: 0.9604 - val_loss: 0.1711 - val_accuracy: 0.9479\n",
      "Epoch 29/50\n",
      "15/15 [==============================] - 23s 2s/step - loss: 0.1580 - accuracy: 0.9563 - val_loss: 0.1032 - val_accuracy: 0.9479\n",
      "Epoch 30/50\n",
      "15/15 [==============================] - 23s 2s/step - loss: 0.1558 - accuracy: 0.9479 - val_loss: 0.0602 - val_accuracy: 0.9896\n",
      "Epoch 31/50\n",
      "15/15 [==============================] - 23s 2s/step - loss: 0.1175 - accuracy: 0.9625 - val_loss: 0.1552 - val_accuracy: 0.9583\n",
      "Epoch 32/50\n",
      "15/15 [==============================] - 23s 2s/step - loss: 0.1353 - accuracy: 0.9708 - val_loss: 0.1375 - val_accuracy: 0.9375\n",
      "Epoch 33/50\n",
      "15/15 [==============================] - 23s 2s/step - loss: 0.1210 - accuracy: 0.9667 - val_loss: 0.1323 - val_accuracy: 0.9583\n",
      "Epoch 34/50\n",
      "15/15 [==============================] - 23s 2s/step - loss: 0.1265 - accuracy: 0.9708 - val_loss: 0.1410 - val_accuracy: 0.9583\n",
      "Epoch 35/50\n",
      "15/15 [==============================] - 23s 2s/step - loss: 0.1021 - accuracy: 0.9625 - val_loss: 0.1645 - val_accuracy: 0.9375\n",
      "Epoch 36/50\n",
      "15/15 [==============================] - 23s 2s/step - loss: 0.1137 - accuracy: 0.9688 - val_loss: 0.3571 - val_accuracy: 0.9062\n",
      "Epoch 37/50\n",
      "15/15 [==============================] - 22s 1s/step - loss: 0.1102 - accuracy: 0.9711 - val_loss: 0.0781 - val_accuracy: 0.9792\n",
      "Epoch 38/50\n",
      "15/15 [==============================] - 21s 1s/step - loss: 0.1409 - accuracy: 0.9600 - val_loss: 0.1230 - val_accuracy: 0.9688\n",
      "Epoch 39/50\n",
      "15/15 [==============================] - 23s 2s/step - loss: 0.0815 - accuracy: 0.9812 - val_loss: 0.0579 - val_accuracy: 0.9896\n",
      "Epoch 40/50\n",
      "15/15 [==============================] - 23s 2s/step - loss: 0.1269 - accuracy: 0.9583 - val_loss: 0.0867 - val_accuracy: 0.9688\n",
      "Epoch 41/50\n",
      "15/15 [==============================] - 23s 2s/step - loss: 0.1048 - accuracy: 0.9708 - val_loss: 0.0327 - val_accuracy: 0.9896\n",
      "Epoch 42/50\n",
      "15/15 [==============================] - 23s 2s/step - loss: 0.0986 - accuracy: 0.9800 - val_loss: 0.0783 - val_accuracy: 0.9688\n",
      "Epoch 43/50\n",
      "15/15 [==============================] - 23s 2s/step - loss: 0.0988 - accuracy: 0.9688 - val_loss: 0.1091 - val_accuracy: 0.9792\n",
      "Epoch 44/50\n",
      "15/15 [==============================] - 23s 2s/step - loss: 0.1172 - accuracy: 0.9667 - val_loss: 0.0769 - val_accuracy: 0.9688\n",
      "Epoch 45/50\n",
      "15/15 [==============================] - 23s 2s/step - loss: 0.1050 - accuracy: 0.9646 - val_loss: 0.0615 - val_accuracy: 0.9688\n",
      "Epoch 46/50\n",
      "15/15 [==============================] - 23s 2s/step - loss: 0.0905 - accuracy: 0.9729 - val_loss: 0.0490 - val_accuracy: 0.9792\n",
      "Epoch 47/50\n",
      "15/15 [==============================] - 23s 2s/step - loss: 0.0694 - accuracy: 0.9792 - val_loss: 0.2526 - val_accuracy: 0.9271\n",
      "Epoch 48/50\n",
      "15/15 [==============================] - 21s 1s/step - loss: 0.1274 - accuracy: 0.9600 - val_loss: 0.1340 - val_accuracy: 0.9479\n",
      "Epoch 49/50\n",
      "15/15 [==============================] - 22s 1s/step - loss: 0.1042 - accuracy: 0.9689 - val_loss: 0.1088 - val_accuracy: 0.9792\n",
      "Epoch 50/50\n",
      "15/15 [==============================] - 23s 2s/step - loss: 0.0872 - accuracy: 0.9812 - val_loss: 0.1440 - val_accuracy: 0.9583\n"
     ]
    }
   ],
   "source": [
    "from tensorflow import keras\n",
    "\n",
    "opt = keras.optimizers.Adam(learning_rate=0.01)\n",
    "model.compile(optimizer='adam',\n",
    "              loss='categorical_crossentropy',\n",
    "             metrics=['accuracy'])\n",
    "\n",
    "history = model.fit(train_generator,\n",
    "    steps_per_epoch = 15,      \n",
    "    epochs = 50,\n",
    "    validation_data = validation_generator,\n",
    "     validation_steps = 3,\n",
    "     callbacks=[callback]\n",
    ")"
   ]
  },
  {
   "cell_type": "markdown",
   "metadata": {
    "id": "2iuilvi3fdhg"
   },
   "source": []
  },
  {
   "cell_type": "code",
   "execution_count": 84,
   "metadata": {
    "colab": {
     "base_uri": "https://localhost:8080/",
     "height": 413,
     "resources": {
      "http://localhost:8080/nbextensions/google.colab/files.js": {
       "data": "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",
       "headers": [
        [
         "content-type",
         "application/javascript"
        ]
       ],
       "ok": true,
       "status": 200,
       "status_text": ""
      }
     }
    },
    "id": "DGgPju5k68xp",
    "outputId": "b46b3aaa-13a9-4579-9589-601865aca594"
   },
   "outputs": [
    {
     "data": {
      "text/html": [
       "\n",
       "     <input type=\"file\" id=\"files-49993312-b2f3-4cd7-b30d-920726a97f31\" name=\"files[]\" multiple disabled\n",
       "        style=\"border:none\" />\n",
       "     <output id=\"result-49993312-b2f3-4cd7-b30d-920726a97f31\">\n",
       "      Upload widget is only available when the cell has been executed in the\n",
       "      current browser session. Please rerun this cell to enable.\n",
       "      </output>\n",
       "      <script src=\"/nbextensions/google.colab/files.js\"></script> "
      ],
      "text/plain": [
       "<IPython.core.display.HTML object>"
      ]
     },
     "metadata": {
      "tags": []
     },
     "output_type": "display_data"
    },
    {
     "name": "stdout",
     "output_type": "stream",
     "text": [
      "Saving batu (12).png to batu (12).png\n"
     ]
    },
    {
     "name": "stderr",
     "output_type": "stream",
     "text": [
      "/usr/local/lib/python3.6/dist-packages/keras_preprocessing/image/utils.py:107: UserWarning: grayscale is deprecated. Please use color_mode = \"grayscale\"\n",
      "  warnings.warn('grayscale is deprecated. Please use '\n"
     ]
    },
    {
     "name": "stdout",
     "output_type": "stream",
     "text": [
      "(150, 150, 1)\n",
      "[[0. 1. 0.]]\n",
      "Rock\n"
     ]
    },
    {
     "data": {
      "image/png": "[encoded data removed]",
      "text/plain": [
       "<Figure size 432x288 with 1 Axes>"
      ]
     },
     "metadata": {
      "needs_background": "light",
      "tags": []
     },
     "output_type": "display_data"
    }
   ],
   "source": [
    "import numpy as np\n",
    "from google.colab import files\n",
    "from keras.preprocessing import image\n",
    "import matplotlib.pyplot as plt\n",
    "import matplotlib.image as mpimg\n",
    "%matplotlib inline\n",
    "\n",
    "uploaded = files.upload()\n",
    "\n",
    "for fn in uploaded.keys():\n",
    "  path = fn\n",
    "  img = image.load_img(path, target_size=(150,150), grayscale=True);\n",
    "  imgplot = plt.imshow(img, \"gray\")\n",
    "  x = image.img_to_array(img)\n",
    "  x = np.expand_dims(x, axis=0)\n",
    "\n",
    "  images = np.vstack([x])\n",
    "  classes = model.predict(images)\n",
    "\n",
    "  print(classes)\n",
    "  paper = \"[1. 0. 0.]\"\n",
    "  rock = \"[0. 1. 0.]\"\n",
    "  scissors = \"[0. 0. 1.]\"\n",
    "  \n",
    "  if str(classes[0]) == paper:\n",
    "   print('Paper')\n",
    "  elif str(classes[0]) == rock:\n",
    "   print('Rock')\n",
    "  else:\n",
    "   print('Scissors')"
   ]
  },
  {
   "cell_type": "code",
   "execution_count": 29,
   "metadata": {
    "id": "WHJMQzT8GWfl"
   },
   "outputs": [],
   "source": []
  }
 ],
 "metadata": {
  "colab": {
   "name": "Submission",
   "provenance": []
  },
  "kernelspec": {
   "display_name": "Python 3",
   "language": "python",
   "name": "python3"
  },
  "language_info": {
   "codemirror_mode": {
    "name": "ipython",
    "version": 3
   },
   "file_extension": ".py",
   "mimetype": "text/x-python",
   "name": "python",
   "nbconvert_exporter": "python",
   "pygments_lexer": "ipython3",
   "version": "3.6.10"
  }
 },
 "nbformat": 4,
 "nbformat_minor": 1
}
