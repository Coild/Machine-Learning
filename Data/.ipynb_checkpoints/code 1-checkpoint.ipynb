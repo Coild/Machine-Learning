{
 "cells": [
  {
   "cell_type": "code",
   "execution_count": 11,
   "metadata": {},
   "outputs": [],
   "source": [
    "import pandas\n",
    "import numpy as np\n",
    "import cv2\n",
    "import os"
   ]
  },
  {
   "cell_type": "code",
   "execution_count": 12,
   "metadata": {},
   "outputs": [],
   "source": [
    "def kelas (file):\n",
    "    if 'ha' in file: dot=1\n",
    "    if 'na' in file: dot=2\n",
    "    if 'ca' in file: dot=3\n",
    "    if 'ra' in file: dot=4\n",
    "    if 'ka' in file: dot=5\n",
    "    if 'da' in file: dot=6\n",
    "    if 'ta' in file: dot=7\n",
    "    if 'sa' in file: dot=8\n",
    "    if 'wa' in file: dot=9\n",
    "    if 'la' in file: dot=10\n",
    "    if 'ma' in file: dot=11\n",
    "    if 'ga' in file: dot=12\n",
    "    if 'ba' in file: dot=13\n",
    "    if 'nga' in file: dot=14\n",
    "    if 'pa' in file: dot=15\n",
    "    if 'ja' in file: dot=16\n",
    "    if 'ya' in file: dot=17\n",
    "    if 'nya' in file: dot=18\n",
    "    return (dot-1)\n",
    "\n",
    "def minmax (img):#normalisasi min max\n",
    "    x,y = img.shape\n",
    "    balik = np.zeros(img.shape)\n",
    "    maks  = max(img.flatten())\n",
    "    mins = min(img.flatten())\n",
    "    for i in range(x):\n",
    "        for j in range (y):\n",
    "            balik[i,j]=(img[i,j]-mins)/(maks-mins)\n",
    "    return balik"
   ]
  },
  {
   "cell_type": "code",
   "execution_count": 13,
   "metadata": {},
   "outputs": [],
   "source": [
    "# import matplotlib.pyplot as plt\n",
    "\n",
    "# img= cv2.imread('D:\\\\data\\\\ba\\\\ba(1).png.png')\n",
    "# x =urai(img)\n",
    "# print (x[1:10,1,1])"
   ]
  },
  {
   "cell_type": "code",
   "execution_count": 14,
   "metadata": {},
   "outputs": [],
   "source": [
    "filepath = \"D:\\\\data\"\n",
    "\n",
    "ID = []\n",
    "dt =[]\n",
    "\n",
    "for a in os.listdir(filepath):\n",
    "    c = 1\n",
    "    for b in os.listdir(filepath + \"\\\\\" + str(a)):\n",
    "        img= cv2.imread(filepath + \"\\\\\" + str(a) + \"\\\\\" + str(b),0)#grayscale\n",
    "        x = cv2.resize(img,(32,32))#resize\n",
    "        x = minmax(x)\n",
    "        dt.append(x)\n",
    "        ID.append(kelas (b))"
   ]
  },
  {
   "cell_type": "code",
   "execution_count": 15,
   "metadata": {},
   "outputs": [
    {
     "name": "stdout",
     "output_type": "stream",
     "text": [
      "(10800, 32, 32)\n"
     ]
    }
   ],
   "source": [
    "print(np.array(dt).shape)\n",
    "from sklearn.model_selection import train_test_split\n",
    "\n",
    "x1,x2,y1,y2= train_test_split(dt,ID,test_size=0.2)"
   ]
  },
  {
   "cell_type": "code",
   "execution_count": 16,
   "metadata": {},
   "outputs": [
    {
     "name": "stdout",
     "output_type": "stream",
     "text": [
      "(8640, 32, 32) (2160, 32, 32)\n"
     ]
    }
   ],
   "source": [
    "dtrain = np.array(x1)\n",
    "dlabel = np.array(y1)\n",
    "ttrain = np.array(x2)\n",
    "tlabel = np.array(y2)\n",
    "print(dtrain.shape, ttrain.shape)"
   ]
  },
  {
   "cell_type": "code",
   "execution_count": 21,
   "metadata": {},
   "outputs": [
    {
     "data": {
      "text/plain": [
       "(8640, 32, 32, 1)"
      ]
     },
     "execution_count": 21,
     "metadata": {},
     "output_type": "execute_result"
    }
   ],
   "source": [
    "fdtrain = np.zeros ((8640,32,32,1))\n",
    "fdtrain[:,:,:,0] = dtrain\n",
    "fttrain = np.zeros ((2160,32,32,1))\n",
    "fttrain[:,:,:,0] = ttrain\n",
    "fdtrain.shape"
   ]
  },
  {
   "cell_type": "markdown",
   "metadata": {},
   "source": [
    "# import tensorflow as tf\n",
    "\n",
    "from tensorflow.keras import datasets, layers, models\n",
    "import matplotlib.pyplot as plt"
   ]
  },
  {
   "cell_type": "code",
   "execution_count": 17,
   "metadata": {},
   "outputs": [],
   "source": [
    "from tensorflow.keras import datasets, layers, models\n",
    "import matplotlib.pyplot as plt"
   ]
  },
  {
   "cell_type": "code",
   "execution_count": 18,
   "metadata": {},
   "outputs": [],
   "source": [
    "model = models.Sequential()\n",
    "model.add(layers.Conv2D(32, (3, 3), activation='relu', input_shape=(32, 32, 1)))\n",
    "model.add(layers.MaxPooling2D((2, 2)))\n",
    "model.add(layers.Conv2D(64, (3, 3), activation='relu'))\n",
    "model.add(layers.MaxPooling2D((2, 2)))\n",
    "model.add(layers.Conv2D(64, (3, 3), activation='relu'))\n",
    "model.add(layers.Flatten())\n",
    "model.add(layers.Dense(64, activation='relu'))\n",
    "model.add(layers.Dense(18, activation='softmax'))"
   ]
  },
  {
   "cell_type": "code",
   "execution_count": 19,
   "metadata": {},
   "outputs": [
    {
     "name": "stdout",
     "output_type": "stream",
     "text": [
      "Model: \"sequential_2\"\n",
      "_________________________________________________________________\n",
      "Layer (type)                 Output Shape              Param #   \n",
      "=================================================================\n",
      "conv2d_6 (Conv2D)            (None, 30, 30, 32)        320       \n",
      "_________________________________________________________________\n",
      "max_pooling2d_4 (MaxPooling2 (None, 15, 15, 32)        0         \n",
      "_________________________________________________________________\n",
      "conv2d_7 (Conv2D)            (None, 13, 13, 64)        18496     \n",
      "_________________________________________________________________\n",
      "max_pooling2d_5 (MaxPooling2 (None, 6, 6, 64)          0         \n",
      "_________________________________________________________________\n",
      "conv2d_8 (Conv2D)            (None, 4, 4, 64)          36928     \n",
      "_________________________________________________________________\n",
      "flatten_2 (Flatten)          (None, 1024)              0         \n",
      "_________________________________________________________________\n",
      "dense_4 (Dense)              (None, 64)                65600     \n",
      "_________________________________________________________________\n",
      "dense_5 (Dense)              (None, 18)                1170      \n",
      "=================================================================\n",
      "Total params: 122,514\n",
      "Trainable params: 122,514\n",
      "Non-trainable params: 0\n",
      "_________________________________________________________________\n"
     ]
    }
   ],
   "source": [
    "model.summary()"
   ]
  },
  {
   "cell_type": "code",
   "execution_count": 40,
   "metadata": {},
   "outputs": [],
   "source": [
    "from keras.callbacks import Callback\n",
    "from sklearn.metrics import confusion_matrix, f1_score, precision_score, recall_score\n",
    "class Metrics(Callback):\n",
    "    \n",
    "    def on_train_begin(self, logs={}):\n",
    "        self.val_accuracy = []\n",
    "        self.val_recalls = []\n",
    "        self.val_precisions = []\n",
    "\n",
    "    def on_epoch_end(self, batch, logs={}):\n",
    "        val_predict = model.predict_classes(fttrain, verbose=0)\n",
    "        val_targ = tlabel\n",
    "        \n",
    "        _val_recall = recall_score(val_targ, val_predict, average='weighted')\n",
    "        _val_precision = precision_score(val_targ, val_predict, average='weighted')\n",
    "        _val_accuracy = accuracy_score(val_targ, val_predict)\n",
    "        \n",
    "        self.val_recalls.append(_val_recall)\n",
    "        self.val_precisions.append(_val_precision)\n",
    "        self.val_accuracy.append(_val_accuracy)\n",
    "        print (\" * val_accuracy: %f — val_precision: %f — val_recall %f\" %(_val_accuracy, _val_precision, _val_recall))\n",
    "        return\n",
    "\n",
    "metrics = Metrics()"
   ]
  },
  {
   "cell_type": "code",
   "execution_count": 42,
   "metadata": {},
   "outputs": [
    {
     "name": "stdout",
     "output_type": "stream",
     "text": [
      "Train on 8640 samples, validate on 2160 samples\n",
      "Epoch 1/8\n",
      "8640/8640 [==============================] - 18s 2ms/sample - loss: 0.0206 - accuracy: 0.9937 - val_loss: 0.2426 - val_accuracy: 0.9639\n",
      "Epoch 2/8\n",
      "8640/8640 [==============================] - 15s 2ms/sample - loss: 0.0074 - accuracy: 0.9980 - val_loss: 0.2694 - val_accuracy: 0.9616\n",
      "Epoch 3/8\n",
      "8640/8640 [==============================] - 16s 2ms/sample - loss: 0.0051 - accuracy: 0.9985 - val_loss: 0.2512 - val_accuracy: 0.9667\n",
      "Epoch 4/8\n",
      "8640/8640 [==============================] - 16s 2ms/sample - loss: 0.0225 - accuracy: 0.9925 - val_loss: 0.2844 - val_accuracy: 0.9468\n",
      "Epoch 5/8\n",
      "8640/8640 [==============================] - 16s 2ms/sample - loss: 0.0222 - accuracy: 0.9921 - val_loss: 0.3418 - val_accuracy: 0.9537\n",
      "Epoch 6/8\n",
      "8640/8640 [==============================] - 15s 2ms/sample - loss: 0.0221 - accuracy: 0.9937 - val_loss: 0.2356 - val_accuracy: 0.9616\n",
      "Epoch 7/8\n",
      "8640/8640 [==============================] - 16s 2ms/sample - loss: 0.0157 - accuracy: 0.9949 - val_loss: 0.2277 - val_accuracy: 0.9639\n",
      "Epoch 8/8\n",
      "8640/8640 [==============================] - 16s 2ms/sample - loss: 0.0067 - accuracy: 0.9980 - val_loss: 0.2673 - val_accuracy: 0.9639\n"
     ]
    }
   ],
   "source": [
    "import keras\n",
    "model.compile(optimizer='adam',\n",
    "              loss='sparse_categorical_crossentropy',\n",
    "              metrics=['accuracy'])\n",
    "history = model.fit(fdtrain, dlabel, epochs=8, \n",
    "                    validation_data=(fttrain, tlabel))"
   ]
  },
  {
   "cell_type": "code",
   "execution_count": 25,
   "metadata": {},
   "outputs": [
    {
     "name": "stdout",
     "output_type": "stream",
     "text": [
      "2160/1 - 1s - loss: 0.1300 - accuracy: 0.9472\n"
     ]
    },
    {
     "data": {
      "image/png": "[encoded data removed]",
      "text/plain": [
       "<Figure size 432x288 with 1 Axes>"
      ]
     },
     "metadata": {
      "needs_background": "light"
     },
     "output_type": "display_data"
    }
   ],
   "source": [
    "plt.plot(history.history['accuracy'], label='accuracy')\n",
    "plt.plot(history.history['val_accuracy'], label = 'val_accuracy')\n",
    "plt.xlabel('Epoch')\n",
    "plt.ylabel('Accuracy')\n",
    "plt.ylim([0.5, 1])\n",
    "plt.legend(loc='lower right')\n",
    "\n",
    "test_loss, test_acc = model.evaluate(fttrain,  tlabel, verbose=2)"
   ]
  },
  {
   "cell_type": "code",
   "execution_count": 17,
   "metadata": {},
   "outputs": [
    {
     "data": {
      "text/plain": [
       "array([11,  7, 16, ...,  1,  5,  3], dtype=int64)"
      ]
     },
     "execution_count": 17,
     "metadata": {},
     "output_type": "execute_result"
    }
   ],
   "source": [
    "yhat_classes = model.predict_classes(fttrain, verbose=0)\n",
    "yhat_classes"
   ]
  },
  {
   "cell_type": "code",
   "execution_count": 19,
   "metadata": {},
   "outputs": [
    {
     "data": {
      "text/plain": [
       "array([[120,   0,   0],\n",
       "       [  0, 110,   0],\n",
       "       [  0,   2, 126]])"
      ]
     },
     "execution_count": 19,
     "metadata": {},
     "output_type": "execute_result"
    }
   ],
   "source": [
    "import tensorflow as tf\n",
    "\n",
    "y_pred=model.predict_classes(fttrain)\n",
    "con_mat = tf.math.confusion_matrix(labels=tlabel, predictions=y_pred).numpy()\n",
    "con_mat[:3,:3]"
   ]
  },
  {
   "cell_type": "code",
   "execution_count": 15,
   "metadata": {},
   "outputs": [],
   "source": [
    "from sklearn.metrics import accuracy_score\n",
    "from sklearn.metrics import precision_score\n",
    "from sklearn.metrics import recall_score"
   ]
  },
  {
   "cell_type": "code",
   "execution_count": 24,
   "metadata": {},
   "outputs": [
    {
     "name": "stdout",
     "output_type": "stream",
     "text": [
      "Accuracy: 0.952778\n",
      "Precision: 0.955351\n",
      "Recall: 0.952778\n"
     ]
    }
   ],
   "source": [
    "# accuracy: (tp + tn) / (p + n)\n",
    "accuracy = accuracy_score(tlabel, yhat_classes)\n",
    "print('Accuracy: %f' % accuracy)\n",
    "# precision tp / (tp + fp)\n",
    "precision = precision_score(tlabel, yhat_classes, average='weighted')\n",
    "print('Precision: %f' % precision)\n",
    "# recall: tp / (tp + fn)\n",
    "recall = recall_score(tlabel, yhat_classes, average='weighted')\n",
    "print('Recall: %f' % recall)"
   ]
  },
  {
   "cell_type": "code",
   "execution_count": null,
   "metadata": {},
   "outputs": [],
   "source": []
  }
 ],
 "metadata": {
  "kernelspec": {
   "display_name": "flow",
   "language": "python",
   "name": "flow"
  },
  "language_info": {
   "codemirror_mode": {
    "name": "ipython",
    "version": 3
   },
   "file_extension": ".py",
   "mimetype": "text/x-python",
   "name": "python",
   "nbconvert_exporter": "python",
   "pygments_lexer": "ipython3",
   "version": "3.6.10"
  }
 },
 "nbformat": 4,
 "nbformat_minor": 4
}
