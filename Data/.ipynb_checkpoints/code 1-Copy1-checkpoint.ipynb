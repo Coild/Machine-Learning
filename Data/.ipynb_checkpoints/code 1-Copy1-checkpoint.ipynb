{
 "cells": [
  {
   "cell_type": "code",
   "execution_count": 1,
   "metadata": {},
   "outputs": [],
   "source": [
    "import pandas\n",
    "import numpy as np\n",
    "import cv2\n",
    "import os"
   ]
  },
  {
   "cell_type": "code",
   "execution_count": 97,
   "metadata": {},
   "outputs": [],
   "source": [
    "    def kelas (file):\n",
    "        if 'ha' in file: dot=1\n",
    "        if 'na' in file: dot=2\n",
    "        if 'ca' in file: dot=3\n",
    "        if 'ra' in file: dot=4\n",
    "        if 'ka' in file: dot=5\n",
    "        if 'da' in file: dot=6\n",
    "        if 'ta' in file: dot=7\n",
    "        if 'sa' in file: dot=8\n",
    "        if 'wa' in file: dot=9\n",
    "        if 'la' in file: dot=10\n",
    "        if 'ma' in file: dot=11\n",
    "        if 'ga' in file: dot=12\n",
    "        if 'ba' in file: dot=13\n",
    "        if 'nga' in file: dot=14\n",
    "        if 'pa' in file: dot=15\n",
    "        if 'ja' in file: dot=16\n",
    "        if 'ya' in file: dot=17\n",
    "        if 'nya' in file: dot=18\n",
    "        return (dot-1)\n",
    "\n",
    "    def minmax (img):#normalisasi min max\n",
    "        x,y = img.shape\n",
    "        balik = np.zeros(img.shape)\n",
    "        maks  = max(img.flatten())\n",
    "        mins = min(img.flatten())\n",
    "        for i in range(x):\n",
    "            for j in range (y):\n",
    "                balik[i,j]=(img[i,j]-mins)/(maks-mins)\n",
    "        return balik"
   ]
  },
  {
   "cell_type": "code",
   "execution_count": 3,
   "metadata": {},
   "outputs": [],
   "source": [
    "filepath = \"D:\\\\cross\"\n",
    "\n",
    "traindata = []\n",
    "trainlabel =[]\n",
    "testdata =[]\n",
    "testlabel =[]\n",
    "for a in os.listdir(filepath):\n",
    "    c = 1\n",
    "    for b in os.listdir(filepath + \"\\\\\" + str(a)):\n",
    "        for nama in os.listdir(filepath + \"\\\\\" + str(a) + \"\\\\\" + str(b)):\n",
    "            if (int(a)<=2):\n",
    "                img= cv2.imread(filepath + \"\\\\\" + str(a) + \"\\\\\" + str(b)+ \"\\\\\" + str(nama),0)#grayscale\n",
    "                x = cv2.resize(img,(64,64))#resize\n",
    "                x = minmax(x)\n",
    "                testdata.append(x)\n",
    "                testlabel.append(kelas (nama))\n",
    "            else :\n",
    "                img= cv2.imread(filepath + \"\\\\\" + str(a) + \"\\\\\" + str(b)+ \"\\\\\" + str(nama),0)#grayscale\n",
    "                x = cv2.resize(img,(64,64))#resize\n",
    "                x = minmax(x)\n",
    "                traindata.append(x)\n",
    "                trainlabel.append(kelas (nama))"
   ]
  },
  {
   "cell_type": "code",
   "execution_count": 4,
   "metadata": {},
   "outputs": [],
   "source": [
    "# testlabel= np.array(testlabel)\n",
    "# trainlabel = np.array(trainlabel)"
   ]
  },
  {
   "cell_type": "code",
   "execution_count": 5,
   "metadata": {},
   "outputs": [],
   "source": [
    "# print(np.array(dt).shape)\n",
    "# from sklearn.model_selection import train_test_split\n",
    "\n",
    "# x1,x2,y1,y2= train_test_split(dt,ID,test_size=0.2)"
   ]
  },
  {
   "cell_type": "code",
   "execution_count": 6,
   "metadata": {},
   "outputs": [],
   "source": [
    "# dtrain = np.array(x1)\n",
    "# dlabel = np.array(y1)\n",
    "# ttrain = np.array(x2)\n",
    "# tlabel = np.array(y2)\n",
    "# print(dtrain.shape, ttrain.shape)"
   ]
  },
  {
   "cell_type": "code",
   "execution_count": 7,
   "metadata": {},
   "outputs": [],
   "source": [
    "# fdtrain = np.zeros ((8640,64,64,1))\n",
    "# fdtrain[:,:,:,0] = traindata\n",
    "# fttrain = np.zeros ((2160,64,64,1))\n",
    "# fttrain[:,:,:,0] = testdata\n",
    "# fdtrain.shape"
   ]
  },
  {
   "cell_type": "markdown",
   "metadata": {},
   "source": [
    "# TRAIN GENERATOR"
   ]
  },
  {
   "cell_type": "code",
   "execution_count": 8,
   "metadata": {},
   "outputs": [],
   "source": [
    "from tensorflow.keras.preprocessing.image import ImageDataGenerator\n",
    "\n",
    "train_datagen = ImageDataGenerator(\n",
    "                    rescale = 1./255,\n",
    "                    rotation_range = 20,\n",
    "                    horizontal_flip = False,\n",
    "                    \n",
    "                    fill_mode = 'wrap',\n",
    "                    validation_split=0.2)\n"
   ]
  },
  {
   "cell_type": "code",
   "execution_count": 9,
   "metadata": {},
   "outputs": [
    {
     "name": "stdout",
     "output_type": "stream",
     "text": [
      "Found 8640 images belonging to 18 classes.\n",
      "Found 2160 images belonging to 18 classes.\n"
     ]
    }
   ],
   "source": [
    "fpath = \"D:\\\\data\"\n",
    "train_generator = train_datagen.flow_from_directory(\n",
    "                  fpath,\n",
    "                  color_mode='grayscale',\n",
    "                  target_size = (128,128),\n",
    "                  subset='training')\n",
    "\n",
    "validation_generator = train_datagen.flow_from_directory(\n",
    "                  fpath,\n",
    "                  color_mode='grayscale',\n",
    "                  target_size = (128,128),\n",
    "                  subset='validation'\n",
    ")"
   ]
  },
  {
   "cell_type": "code",
   "execution_count": 10,
   "metadata": {},
   "outputs": [],
   "source": [
    "# np.array(train_generator).shape"
   ]
  },
  {
   "cell_type": "markdown",
   "metadata": {},
   "source": [
    "# import tensorflow as tf\n",
    "\n",
    "from tensorflow.keras import datasets, layers, models\n",
    "import matplotlib.pyplot as plt"
   ]
  },
  {
   "cell_type": "code",
   "execution_count": 11,
   "metadata": {},
   "outputs": [],
   "source": [
    "from tensorflow.keras import datasets, layers, models\n",
    "import matplotlib.pyplot as plt"
   ]
  },
  {
   "cell_type": "code",
   "execution_count": 91,
   "metadata": {},
   "outputs": [],
   "source": [
    "model = models.Sequential()\n",
    "model.add(layers.Conv2D(128, (5, 5), activation='relu',padding='same', input_shape=(64, 64,1)))\n",
    "model.add(layers.MaxPooling2D((2,2)))\n",
    "model.add(layers.Conv2D(128, (5, 5),padding='same', activation='relu'))\n",
    "model.add(layers.MaxPooling2D((2, 2)))\n",
    "model.add(layers.Conv2D(128, (5, 5),padding='same', activation='relu'))\n",
    "model.add(layers.Flatten())\n",
    "model.add(layers.Dense(32, activation='relu'))\n",
    "model.add(layers.Dropout(0.3))\n",
    "model.add(layers.Dense(18, activation='softmax'))"
   ]
  },
  {
   "cell_type": "code",
   "execution_count": 92,
   "metadata": {},
   "outputs": [
    {
     "name": "stdout",
     "output_type": "stream",
     "text": [
      "Model: \"sequential_23\"\n",
      "_________________________________________________________________\n",
      "Layer (type)                 Output Shape              Param #   \n",
      "=================================================================\n",
      "conv2d_69 (Conv2D)           (None, 64, 64, 128)       3328      \n",
      "_________________________________________________________________\n",
      "max_pooling2d_46 (MaxPooling (None, 32, 32, 128)       0         \n",
      "_________________________________________________________________\n",
      "conv2d_70 (Conv2D)           (None, 32, 32, 128)       409728    \n",
      "_________________________________________________________________\n",
      "max_pooling2d_47 (MaxPooling (None, 16, 16, 128)       0         \n",
      "_________________________________________________________________\n",
      "conv2d_71 (Conv2D)           (None, 16, 16, 128)       409728    \n",
      "_________________________________________________________________\n",
      "flatten_23 (Flatten)         (None, 32768)             0         \n",
      "_________________________________________________________________\n",
      "dense_57 (Dense)             (None, 32)                1048608   \n",
      "_________________________________________________________________\n",
      "dropout_24 (Dropout)         (None, 32)                0         \n",
      "_________________________________________________________________\n",
      "dense_58 (Dense)             (None, 18)                594       \n",
      "=================================================================\n",
      "Total params: 1,871,986\n",
      "Trainable params: 1,871,986\n",
      "Non-trainable params: 0\n",
      "_________________________________________________________________\n"
     ]
    }
   ],
   "source": [
    "model.summary()"
   ]
  },
  {
   "cell_type": "code",
   "execution_count": 93,
   "metadata": {},
   "outputs": [],
   "source": [
    "# from keras.callbacks import Callback\n",
    "# from sklearn.metrics import confusion_matrix, accuracy_score, precision_score, recall_score\n",
    "# class Metrics(Callback):\n",
    "    \n",
    "#     def on_train_begin(self, logs={}):\n",
    "#         self.val_accuracy = []\n",
    "#         self.val_recalls = []\n",
    "\n",
    "#         self.val_precisions = []\n",
    "        \n",
    "#     def on_epoch_begin(self, epoch, logs=None):\n",
    "#         pass\n",
    "\n",
    "#     def on_epoch_end(self, epoch, logs={}):\n",
    "#         val_predict = model.predict_classes(validation_generator, verbose=0)\n",
    "#         val_targ = validation_generator.class_indices\n",
    "        \n",
    "#         _val_recall = recall_score(val_targ, val_predict, average='weighted')\n",
    "#         _val_precision = precision_score(val_targ, val_predict, average='weighted')\n",
    "#         _val_accuracy = accuracy_score(val_targ, val_predict)\n",
    "        \n",
    "#         self.val_recalls.append(_val_recall)\n",
    "#         self.val_precisions.append(_val_precision)\n",
    "#         self.val_accuracy.append(_val_accuracy)\n",
    "        \n",
    "#         print (\"\\n\\n * val_accuracy: %f — val_precision: %f — val_recall %f\" %(_val_accuracy, _val_precision, _val_recall), \"\\n \\n\")\n",
    "#         return\n",
    "    \n",
    "    \n",
    "# met = Metrics()"
   ]
  },
  {
   "cell_type": "code",
   "execution_count": 96,
   "metadata": {},
   "outputs": [
    {
     "name": "stdout",
     "output_type": "stream",
     "text": [
      "Train for 100 steps, validate for 68 steps\n",
      "Epoch 1/100\n",
      "100/100 [==============================] - 396s 4s/step - loss: 0.0889 - accuracy: 0.9700 - precision_21: 0.9766 - recall_21: 0.9672 - val_loss: 0.2497 - val_accuracy: 0.9685 - val_precision_21: 0.9685 - val_recall_21: 0.9681\n",
      "Epoch 2/100\n",
      "100/100 [==============================] - 331s 3s/step - loss: 0.0687 - accuracy: 0.9734 - precision_21: 0.9786 - recall_21: 0.9700 - val_loss: 0.2391 - val_accuracy: 0.9639 - val_precision_21: 0.9643 - val_recall_21: 0.9639\n",
      "Epoch 3/100\n",
      "100/100 [==============================] - 331s 3s/step - loss: 0.0742 - accuracy: 0.9769 - precision_21: 0.9786 - recall_21: 0.9741 - val_loss: 0.2197 - val_accuracy: 0.9667 - val_precision_21: 0.9671 - val_recall_21: 0.9667\n",
      "Epoch 4/100\n",
      "100/100 [==============================] - 330s 3s/step - loss: 0.0824 - accuracy: 0.9747 - precision_21: 0.9835 - recall_21: 0.9706 - val_loss: 0.1878 - val_accuracy: 0.9713 - val_precision_21: 0.9731 - val_recall_21: 0.9704\n",
      "Epoch 5/100\n",
      "100/100 [==============================] - 330s 3s/step - loss: 0.0796 - accuracy: 0.9737 - precision_21: 0.9829 - recall_21: 0.9703 - val_loss: 0.2125 - val_accuracy: 0.9690 - val_precision_21: 0.9699 - val_recall_21: 0.9690\n",
      "Epoch 6/100\n",
      "100/100 [==============================] - 330s 3s/step - loss: 0.0526 - accuracy: 0.9794 - precision_21: 0.9852 - recall_21: 0.9781 - val_loss: 0.1564 - val_accuracy: 0.9731 - val_precision_21: 0.9745 - val_recall_21: 0.9731\n",
      "Epoch 7/100\n",
      "100/100 [==============================] - 355s 4s/step - loss: 0.0695 - accuracy: 0.9769 - precision_21: 0.9814 - recall_21: 0.9741 - val_loss: 0.2398 - val_accuracy: 0.9657 - val_precision_21: 0.9662 - val_recall_21: 0.9657\n",
      "Epoch 8/100\n",
      "100/100 [==============================] - 421s 4s/step - loss: 0.0766 - accuracy: 0.9731 - precision_21: 0.9777 - recall_21: 0.9709 - val_loss: 0.2709 - val_accuracy: 0.9634 - val_precision_21: 0.9639 - val_recall_21: 0.9630\n",
      "Epoch 9/100\n",
      "100/100 [==============================] - 331s 3s/step - loss: 0.0875 - accuracy: 0.9703 - precision_21: 0.9772 - recall_21: 0.9656 - val_loss: 0.2314 - val_accuracy: 0.9685 - val_precision_21: 0.9690 - val_recall_21: 0.9685\n",
      "Epoch 10/100\n",
      "100/100 [==============================] - 330s 3s/step - loss: 0.0768 - accuracy: 0.9725 - precision_21: 0.9795 - recall_21: 0.9691 - val_loss: 0.2176 - val_accuracy: 0.9722 - val_precision_21: 0.9722 - val_recall_21: 0.9713\n",
      "Epoch 11/100\n",
      "100/100 [==============================] - 332s 3s/step - loss: 0.0763 - accuracy: 0.9728 - precision_21: 0.9788 - recall_21: 0.9688 - val_loss: 0.2669 - val_accuracy: 0.9597 - val_precision_21: 0.9610 - val_recall_21: 0.9588\n",
      "Epoch 12/100\n",
      "100/100 [==============================] - 333s 3s/step - loss: 0.0614 - accuracy: 0.9809 - precision_21: 0.9868 - recall_21: 0.9781 - val_loss: 0.2565 - val_accuracy: 0.9644 - val_precision_21: 0.9643 - val_recall_21: 0.9625\n",
      "Epoch 13/100\n",
      "100/100 [==============================] - 333s 3s/step - loss: 0.0721 - accuracy: 0.9750 - precision_21: 0.9826 - recall_21: 0.9706 - val_loss: 0.2917 - val_accuracy: 0.9657 - val_precision_21: 0.9662 - val_recall_21: 0.9653\n",
      "Epoch 14/100\n",
      "100/100 [==============================] - 331s 3s/step - loss: 0.0772 - accuracy: 0.9744 - precision_21: 0.9813 - recall_21: 0.9684 - val_loss: 0.2408 - val_accuracy: 0.9630 - val_precision_21: 0.9647 - val_recall_21: 0.9630\n",
      "Epoch 15/100\n",
      "100/100 [==============================] - 332s 3s/step - loss: 0.0899 - accuracy: 0.9703 - precision_21: 0.9778 - recall_21: 0.9653 - val_loss: 0.2246 - val_accuracy: 0.9653 - val_precision_21: 0.9666 - val_recall_21: 0.9639\n",
      "Epoch 16/100\n",
      "100/100 [==============================] - 330s 3s/step - loss: 0.0727 - accuracy: 0.9747 - precision_21: 0.9786 - recall_21: 0.9716 - val_loss: 0.2355 - val_accuracy: 0.9699 - val_precision_21: 0.9704 - val_recall_21: 0.9699\n",
      "Epoch 17/100\n",
      "100/100 [==============================] - 331s 3s/step - loss: 0.0765 - accuracy: 0.9734 - precision_21: 0.9804 - recall_21: 0.9709 - val_loss: 0.2534 - val_accuracy: 0.9644 - val_precision_21: 0.9665 - val_recall_21: 0.9625\n",
      "Epoch 18/100\n",
      "100/100 [==============================] - 350s 3s/step - loss: 0.0660 - accuracy: 0.9769 - precision_21: 0.9836 - recall_21: 0.9731 - val_loss: 0.2115 - val_accuracy: 0.9699 - val_precision_21: 0.9708 - val_recall_21: 0.9685\n",
      "Epoch 19/100\n",
      "100/100 [==============================] - 400s 4s/step - loss: 0.0685 - accuracy: 0.9800 - precision_21: 0.9867 - recall_21: 0.9756 - val_loss: 0.2708 - val_accuracy: 0.9606 - val_precision_21: 0.9620 - val_recall_21: 0.9606\n",
      "Epoch 20/100\n",
      "100/100 [==============================] - 334s 3s/step - loss: 0.0928 - accuracy: 0.9703 - precision_21: 0.9770 - recall_21: 0.9672 - val_loss: 0.2608 - val_accuracy: 0.9551 - val_precision_21: 0.9555 - val_recall_21: 0.9537\n",
      "Epoch 21/100\n",
      "100/100 [==============================] - 331s 3s/step - loss: 0.0814 - accuracy: 0.9706 - precision_21: 0.9767 - recall_21: 0.9684 - val_loss: 0.2220 - val_accuracy: 0.9625 - val_precision_21: 0.9629 - val_recall_21: 0.9616\n",
      "Epoch 22/100\n",
      "100/100 [==============================] - 332s 3s/step - loss: 0.0828 - accuracy: 0.9725 - precision_21: 0.9792 - recall_21: 0.9688 - val_loss: 0.2357 - val_accuracy: 0.9639 - val_precision_21: 0.9652 - val_recall_21: 0.9634\n",
      "Epoch 23/100\n",
      "100/100 [==============================] - 331s 3s/step - loss: 0.0863 - accuracy: 0.9762 - precision_21: 0.9820 - recall_21: 0.9744 - val_loss: 0.2009 - val_accuracy: 0.9699 - val_precision_21: 0.9699 - val_recall_21: 0.9699\n",
      "Epoch 24/100\n",
      "100/100 [==============================] - 331s 3s/step - loss: 0.0846 - accuracy: 0.9734 - precision_21: 0.9810 - recall_21: 0.9688 - val_loss: 0.2314 - val_accuracy: 0.9662 - val_precision_21: 0.9666 - val_recall_21: 0.9653\n",
      "Epoch 25/100\n",
      "100/100 [==============================] - 333s 3s/step - loss: 0.0666 - accuracy: 0.9778 - precision_21: 0.9817 - recall_21: 0.9725 - val_loss: 0.2145 - val_accuracy: 0.9699 - val_precision_21: 0.9726 - val_recall_21: 0.9699\n",
      "Epoch 26/100\n",
      "100/100 [==============================] - 334s 3s/step - loss: 0.0623 - accuracy: 0.9797 - precision_21: 0.9839 - recall_21: 0.9762 - val_loss: 0.2313 - val_accuracy: 0.9671 - val_precision_21: 0.9671 - val_recall_21: 0.9667\n",
      "Epoch 27/100\n",
      "100/100 [==============================] - 332s 3s/step - loss: 0.0801 - accuracy: 0.9734 - precision_21: 0.9794 - recall_21: 0.9678 - val_loss: 0.2091 - val_accuracy: 0.9713 - val_precision_21: 0.9717 - val_recall_21: 0.9704\n",
      "Epoch 28/100\n",
      "100/100 [==============================] - 332s 3s/step - loss: 0.0731 - accuracy: 0.9759 - precision_21: 0.9810 - recall_21: 0.9700 - val_loss: 0.1972 - val_accuracy: 0.9704 - val_precision_21: 0.9708 - val_recall_21: 0.9690\n",
      "Epoch 29/100\n",
      "100/100 [==============================] - 397s 4s/step - loss: 0.0613 - accuracy: 0.9781 - precision_21: 0.9827 - recall_21: 0.9756 - val_loss: 0.2388 - val_accuracy: 0.9676 - val_precision_21: 0.9694 - val_recall_21: 0.9671\n",
      "Epoch 30/100\n",
      "100/100 [==============================] - 341s 3s/step - loss: 0.0748 - accuracy: 0.9756 - precision_21: 0.9826 - recall_21: 0.9731 - val_loss: 0.2312 - val_accuracy: 0.9671 - val_precision_21: 0.9680 - val_recall_21: 0.9667\n",
      "Epoch 31/100\n",
      "100/100 [==============================] - 334s 3s/step - loss: 0.0715 - accuracy: 0.9759 - precision_21: 0.9805 - recall_21: 0.9722 - val_loss: 0.1950 - val_accuracy: 0.9718 - val_precision_21: 0.9731 - val_recall_21: 0.9704\n",
      "Epoch 32/100\n",
      "100/100 [==============================] - 334s 3s/step - loss: 0.0811 - accuracy: 0.9712 - precision_21: 0.9776 - recall_21: 0.9684 - val_loss: 0.1889 - val_accuracy: 0.9690 - val_precision_21: 0.9708 - val_recall_21: 0.9685\n",
      "Epoch 33/100\n",
      "100/100 [==============================] - 333s 3s/step - loss: 0.0627 - accuracy: 0.9806 - precision_21: 0.9843 - recall_21: 0.9778 - val_loss: 0.1768 - val_accuracy: 0.9718 - val_precision_21: 0.9722 - val_recall_21: 0.9708\n",
      "Epoch 34/100\n",
      "100/100 [==============================] - 334s 3s/step - loss: 0.0822 - accuracy: 0.9706 - precision_21: 0.9763 - recall_21: 0.9663 - val_loss: 0.1939 - val_accuracy: 0.9657 - val_precision_21: 0.9666 - val_recall_21: 0.9648\n",
      "Epoch 35/100\n"
     ]
    },
    {
     "name": "stdout",
     "output_type": "stream",
     "text": [
      "100/100 [==============================] - 332s 3s/step - loss: 0.0708 - accuracy: 0.9781 - precision_21: 0.9823 - recall_21: 0.9734 - val_loss: 0.1888 - val_accuracy: 0.9681 - val_precision_21: 0.9685 - val_recall_21: 0.9681\n",
      "Epoch 36/100\n",
      "100/100 [==============================] - 334s 3s/step - loss: 0.0644 - accuracy: 0.9778 - precision_21: 0.9839 - recall_21: 0.9750 - val_loss: 0.1926 - val_accuracy: 0.9704 - val_precision_21: 0.9708 - val_recall_21: 0.9699\n",
      "Epoch 37/100\n",
      "100/100 [==============================] - 336s 3s/step - loss: 0.0691 - accuracy: 0.9753 - precision_21: 0.9814 - recall_21: 0.9741 - val_loss: 0.1840 - val_accuracy: 0.9755 - val_precision_21: 0.9768 - val_recall_21: 0.9745\n",
      "Epoch 38/100\n",
      "100/100 [==============================] - 335s 3s/step - loss: 0.0681 - accuracy: 0.9766 - precision_21: 0.9808 - recall_21: 0.9728 - val_loss: 0.2062 - val_accuracy: 0.9708 - val_precision_21: 0.9708 - val_recall_21: 0.9699\n",
      "Epoch 39/100\n",
      "100/100 [==============================] - 353s 4s/step - loss: 0.0592 - accuracy: 0.9803 - precision_21: 0.9849 - recall_21: 0.9769 - val_loss: 0.1838 - val_accuracy: 0.9750 - val_precision_21: 0.9754 - val_recall_21: 0.9745\n",
      "Epoch 40/100\n",
      "100/100 [==============================] - 414s 4s/step - loss: 0.0555 - accuracy: 0.9803 - precision_21: 0.9834 - recall_21: 0.9794 - val_loss: 0.2177 - val_accuracy: 0.9681 - val_precision_21: 0.9689 - val_recall_21: 0.9667\n",
      "Epoch 41/100\n",
      "100/100 [==============================] - 336s 3s/step - loss: 0.0705 - accuracy: 0.9762 - precision_21: 0.9817 - recall_21: 0.9725 - val_loss: 0.2213 - val_accuracy: 0.9750 - val_precision_21: 0.9754 - val_recall_21: 0.9741\n",
      "Epoch 42/100\n",
      "100/100 [==============================] - 333s 3s/step - loss: 0.0772 - accuracy: 0.9781 - precision_21: 0.9829 - recall_21: 0.9719 - val_loss: 0.2147 - val_accuracy: 0.9685 - val_precision_21: 0.9685 - val_recall_21: 0.9681\n",
      "Epoch 43/100\n",
      "100/100 [==============================] - 333s 3s/step - loss: 0.0700 - accuracy: 0.9784 - precision_21: 0.9849 - recall_21: 0.9756 - val_loss: 0.2180 - val_accuracy: 0.9657 - val_precision_21: 0.9671 - val_recall_21: 0.9657\n",
      "Epoch 44/100\n",
      "100/100 [==============================] - 334s 3s/step - loss: 0.0741 - accuracy: 0.9734 - precision_21: 0.9798 - recall_21: 0.9697 - val_loss: 0.2296 - val_accuracy: 0.9690 - val_precision_21: 0.9694 - val_recall_21: 0.9671\n",
      "Epoch 45/100\n",
      "100/100 [==============================] - 336s 3s/step - loss: 0.0639 - accuracy: 0.9762 - precision_21: 0.9790 - recall_21: 0.9747 - val_loss: 0.2370 - val_accuracy: 0.9685 - val_precision_21: 0.9690 - val_recall_21: 0.9685\n",
      "Epoch 46/100\n",
      "100/100 [==============================] - 336s 3s/step - loss: 0.0630 - accuracy: 0.9797 - precision_21: 0.9852 - recall_21: 0.9762 - val_loss: 0.2431 - val_accuracy: 0.9667 - val_precision_21: 0.9671 - val_recall_21: 0.9667\n",
      "Epoch 47/100\n",
      "100/100 [==============================] - 334s 3s/step - loss: 0.0877 - accuracy: 0.9728 - precision_21: 0.9764 - recall_21: 0.9681 - val_loss: 0.2133 - val_accuracy: 0.9648 - val_precision_21: 0.9656 - val_recall_21: 0.9630\n",
      "Epoch 48/100\n",
      "100/100 [==============================] - 336s 3s/step - loss: 0.0846 - accuracy: 0.9741 - precision_21: 0.9826 - recall_21: 0.9700 - val_loss: 0.2301 - val_accuracy: 0.9644 - val_precision_21: 0.9648 - val_recall_21: 0.9639\n",
      "Epoch 49/100\n",
      "100/100 [==============================] - 364s 4s/step - loss: 0.0662 - accuracy: 0.9784 - precision_21: 0.9845 - recall_21: 0.9731 - val_loss: 0.2334 - val_accuracy: 0.9690 - val_precision_21: 0.9690 - val_recall_21: 0.9685\n",
      "Epoch 50/100\n",
      "100/100 [==============================] - 407s 4s/step - loss: 0.0712 - accuracy: 0.9753 - precision_21: 0.9808 - recall_21: 0.9719 - val_loss: 0.2368 - val_accuracy: 0.9653 - val_precision_21: 0.9666 - val_recall_21: 0.9648\n",
      "Epoch 51/100\n",
      "100/100 [==============================] - 334s 3s/step - loss: 0.0636 - accuracy: 0.9800 - precision_21: 0.9839 - recall_21: 0.9762 - val_loss: 0.2360 - val_accuracy: 0.9681 - val_precision_21: 0.9685 - val_recall_21: 0.9676\n",
      "Epoch 52/100\n",
      "100/100 [==============================] - 334s 3s/step - loss: 0.0698 - accuracy: 0.9781 - precision_21: 0.9839 - recall_21: 0.9750 - val_loss: 0.2209 - val_accuracy: 0.9685 - val_precision_21: 0.9690 - val_recall_21: 0.9685\n",
      "Epoch 53/100\n",
      "100/100 [==============================] - 334s 3s/step - loss: 0.0660 - accuracy: 0.9769 - precision_21: 0.9826 - recall_21: 0.9734 - val_loss: 0.2361 - val_accuracy: 0.9671 - val_precision_21: 0.9676 - val_recall_21: 0.9671\n",
      "Epoch 54/100\n",
      "100/100 [==============================] - 334s 3s/step - loss: 0.0577 - accuracy: 0.9787 - precision_21: 0.9855 - recall_21: 0.9750 - val_loss: 0.2246 - val_accuracy: 0.9681 - val_precision_21: 0.9690 - val_recall_21: 0.9681\n",
      "Epoch 55/100\n",
      "100/100 [==============================] - 334s 3s/step - loss: 0.0613 - accuracy: 0.9787 - precision_21: 0.9845 - recall_21: 0.9744 - val_loss: 0.2444 - val_accuracy: 0.9657 - val_precision_21: 0.9671 - val_recall_21: 0.9653\n",
      "Epoch 56/100\n",
      "100/100 [==============================] - 335s 3s/step - loss: 0.0675 - accuracy: 0.9747 - precision_21: 0.9826 - recall_21: 0.9700 - val_loss: 0.2840 - val_accuracy: 0.9653 - val_precision_21: 0.9657 - val_recall_21: 0.9653\n",
      "Epoch 57/100\n",
      "100/100 [==============================] - 336s 3s/step - loss: 0.0488 - accuracy: 0.9825 - precision_21: 0.9859 - recall_21: 0.9800 - val_loss: 0.2762 - val_accuracy: 0.9708 - val_precision_21: 0.9708 - val_recall_21: 0.9708\n",
      "Epoch 58/100\n",
      "100/100 [==============================] - 333s 3s/step - loss: 0.0571 - accuracy: 0.9825 - precision_21: 0.9871 - recall_21: 0.9800 - val_loss: 0.2228 - val_accuracy: 0.9704 - val_precision_21: 0.9708 - val_recall_21: 0.9694\n",
      "Epoch 59/100\n",
      "100/100 [==============================] - 333s 3s/step - loss: 0.0586 - accuracy: 0.9791 - precision_21: 0.9833 - recall_21: 0.9756 - val_loss: 0.1957 - val_accuracy: 0.9694 - val_precision_21: 0.9712 - val_recall_21: 0.9694\n",
      "Epoch 60/100\n",
      "100/100 [==============================] - 335s 3s/step - loss: 0.0685 - accuracy: 0.9759 - precision_21: 0.9805 - recall_21: 0.9744 - val_loss: 0.2075 - val_accuracy: 0.9704 - val_precision_21: 0.9704 - val_recall_21: 0.9699\n",
      "Epoch 61/100\n",
      "100/100 [==============================] - 336s 3s/step - loss: 0.0820 - accuracy: 0.9731 - precision_21: 0.9795 - recall_21: 0.9688 - val_loss: 0.2038 - val_accuracy: 0.9662 - val_precision_21: 0.9679 - val_recall_21: 0.9644\n",
      "Epoch 62/100\n",
      "100/100 [==============================] - 334s 3s/step - loss: 0.0525 - accuracy: 0.9794 - precision_21: 0.9855 - recall_21: 0.9778 - val_loss: 0.2327 - val_accuracy: 0.9708 - val_precision_21: 0.9713 - val_recall_21: 0.9699\n",
      "Epoch 63/100\n",
      "100/100 [==============================] - 335s 3s/step - loss: 0.0475 - accuracy: 0.9844 - precision_21: 0.9874 - recall_21: 0.9819 - val_loss: 0.2097 - val_accuracy: 0.9718 - val_precision_21: 0.9718 - val_recall_21: 0.9718\n",
      "Epoch 64/100\n",
      "100/100 [==============================] - 335s 3s/step - loss: 0.0735 - accuracy: 0.9750 - precision_21: 0.9811 - recall_21: 0.9728 - val_loss: 0.2063 - val_accuracy: 0.9667 - val_precision_21: 0.9684 - val_recall_21: 0.9653\n",
      "Epoch 65/100\n",
      "100/100 [==============================] - 335s 3s/step - loss: 0.0641 - accuracy: 0.9787 - precision_21: 0.9827 - recall_21: 0.9775 - val_loss: 0.1895 - val_accuracy: 0.9736 - val_precision_21: 0.9741 - val_recall_21: 0.9736\n",
      "Epoch 66/100\n",
      "100/100 [==============================] - 334s 3s/step - loss: 0.0466 - accuracy: 0.9834 - precision_21: 0.9868 - recall_21: 0.9806 - val_loss: 0.2173 - val_accuracy: 0.9694 - val_precision_21: 0.9703 - val_recall_21: 0.9694\n",
      "Epoch 67/100\n",
      "100/100 [==============================] - 333s 3s/step - loss: 0.0627 - accuracy: 0.9803 - precision_21: 0.9855 - recall_21: 0.9775 - val_loss: 0.2116 - val_accuracy: 0.9713 - val_precision_21: 0.9713 - val_recall_21: 0.9708\n",
      "Epoch 68/100\n",
      "100/100 [==============================] - 333s 3s/step - loss: 0.0562 - accuracy: 0.9816 - precision_21: 0.9861 - recall_21: 0.9775 - val_loss: 0.1963 - val_accuracy: 0.9704 - val_precision_21: 0.9708 - val_recall_21: 0.9704\n",
      "Epoch 69/100\n"
     ]
    },
    {
     "name": "stdout",
     "output_type": "stream",
     "text": [
      "100/100 [==============================] - 331s 3s/step - loss: 0.0700 - accuracy: 0.9784 - precision_21: 0.9839 - recall_21: 0.9744 - val_loss: 0.2365 - val_accuracy: 0.9694 - val_precision_21: 0.9708 - val_recall_21: 0.9690\n",
      "Epoch 70/100\n",
      "100/100 [==============================] - 358s 4s/step - loss: 0.0596 - accuracy: 0.9794 - precision_21: 0.9846 - recall_21: 0.9766 - val_loss: 0.2473 - val_accuracy: 0.9699 - val_precision_21: 0.9699 - val_recall_21: 0.9685\n",
      "Epoch 71/100\n",
      "100/100 [==============================] - 419s 4s/step - loss: 0.0537 - accuracy: 0.9809 - precision_21: 0.9858 - recall_21: 0.9797 - val_loss: 0.2130 - val_accuracy: 0.9699 - val_precision_21: 0.9704 - val_recall_21: 0.9699\n",
      "Epoch 72/100\n",
      "100/100 [==============================] - 333s 3s/step - loss: 0.0465 - accuracy: 0.9803 - precision_21: 0.9834 - recall_21: 0.9791 - val_loss: 0.2271 - val_accuracy: 0.9718 - val_precision_21: 0.9722 - val_recall_21: 0.9708\n",
      "Epoch 73/100\n",
      "100/100 [==============================] - 332s 3s/step - loss: 0.0564 - accuracy: 0.9794 - precision_21: 0.9830 - recall_21: 0.9778 - val_loss: 0.2256 - val_accuracy: 0.9690 - val_precision_21: 0.9694 - val_recall_21: 0.9690\n",
      "Epoch 74/100\n",
      "100/100 [==============================] - 331s 3s/step - loss: 0.0795 - accuracy: 0.9762 - precision_21: 0.9798 - recall_21: 0.9716 - val_loss: 0.2243 - val_accuracy: 0.9722 - val_precision_21: 0.9727 - val_recall_21: 0.9722\n",
      "Epoch 75/100\n",
      "100/100 [==============================] - 332s 3s/step - loss: 0.0536 - accuracy: 0.9819 - precision_21: 0.9874 - recall_21: 0.9775 - val_loss: 0.2201 - val_accuracy: 0.9694 - val_precision_21: 0.9694 - val_recall_21: 0.9690\n",
      "Epoch 76/100\n",
      "100/100 [==============================] - 333s 3s/step - loss: 0.0553 - accuracy: 0.9822 - precision_21: 0.9865 - recall_21: 0.9800 - val_loss: 0.1732 - val_accuracy: 0.9681 - val_precision_21: 0.9707 - val_recall_21: 0.9676\n",
      "Epoch 77/100\n",
      "100/100 [==============================] - 333s 3s/step - loss: 0.0511 - accuracy: 0.9828 - precision_21: 0.9868 - recall_21: 0.9797 - val_loss: 0.1808 - val_accuracy: 0.9708 - val_precision_21: 0.9708 - val_recall_21: 0.9708\n",
      "Epoch 78/100\n",
      "100/100 [==============================] - 331s 3s/step - loss: 0.0499 - accuracy: 0.9862 - precision_21: 0.9899 - recall_21: 0.9831 - val_loss: 0.2028 - val_accuracy: 0.9727 - val_precision_21: 0.9727 - val_recall_21: 0.9722\n",
      "Epoch 79/100\n",
      "100/100 [==============================] - 332s 3s/step - loss: 0.0717 - accuracy: 0.9744 - precision_21: 0.9796 - recall_21: 0.9731 - val_loss: 0.1894 - val_accuracy: 0.9722 - val_precision_21: 0.9726 - val_recall_21: 0.9713\n",
      "Epoch 80/100\n",
      "100/100 [==============================] - 332s 3s/step - loss: 0.0554 - accuracy: 0.9812 - precision_21: 0.9855 - recall_21: 0.9784 - val_loss: 0.2546 - val_accuracy: 0.9634 - val_precision_21: 0.9634 - val_recall_21: 0.9634\n",
      "Epoch 81/100\n",
      "100/100 [==============================] - 365s 4s/step - loss: 0.0602 - accuracy: 0.9775 - precision_21: 0.9799 - recall_21: 0.9737 - val_loss: 0.2091 - val_accuracy: 0.9722 - val_precision_21: 0.9731 - val_recall_21: 0.9713\n",
      "Epoch 82/100\n",
      "100/100 [==============================] - 395s 4s/step - loss: 0.0630 - accuracy: 0.9794 - precision_21: 0.9827 - recall_21: 0.9744 - val_loss: 0.2336 - val_accuracy: 0.9662 - val_precision_21: 0.9667 - val_recall_21: 0.9662\n",
      "Epoch 83/100\n",
      "100/100 [==============================] - 331s 3s/step - loss: 0.0545 - accuracy: 0.9822 - precision_21: 0.9868 - recall_21: 0.9800 - val_loss: 0.2270 - val_accuracy: 0.9681 - val_precision_21: 0.9680 - val_recall_21: 0.9676\n",
      "Epoch 84/100\n",
      "100/100 [==============================] - 332s 3s/step - loss: 0.0526 - accuracy: 0.9822 - precision_21: 0.9883 - recall_21: 0.9800 - val_loss: 0.2154 - val_accuracy: 0.9713 - val_precision_21: 0.9722 - val_recall_21: 0.9713\n",
      "Epoch 85/100\n",
      "100/100 [==============================] - 333s 3s/step - loss: 0.0509 - accuracy: 0.9828 - precision_21: 0.9849 - recall_21: 0.9797 - val_loss: 0.2287 - val_accuracy: 0.9708 - val_precision_21: 0.9713 - val_recall_21: 0.9704\n",
      "Epoch 86/100\n",
      "100/100 [==============================] - 331s 3s/step - loss: 0.0542 - accuracy: 0.9822 - precision_21: 0.9868 - recall_21: 0.9781 - val_loss: 0.2102 - val_accuracy: 0.9736 - val_precision_21: 0.9745 - val_recall_21: 0.9736\n",
      "Epoch 87/100\n",
      "100/100 [==============================] - 334s 3s/step - loss: 0.0611 - accuracy: 0.9825 - precision_21: 0.9862 - recall_21: 0.9800 - val_loss: 0.1883 - val_accuracy: 0.9718 - val_precision_21: 0.9726 - val_recall_21: 0.9708\n",
      "Epoch 88/100\n",
      "100/100 [==============================] - 334s 3s/step - loss: 0.0557 - accuracy: 0.9803 - precision_21: 0.9846 - recall_21: 0.9794 - val_loss: 0.2259 - val_accuracy: 0.9694 - val_precision_21: 0.9703 - val_recall_21: 0.9694\n",
      "Epoch 89/100\n",
      "100/100 [==============================] - 331s 3s/step - loss: 0.0525 - accuracy: 0.9828 - precision_21: 0.9846 - recall_21: 0.9794 - val_loss: 0.2448 - val_accuracy: 0.9685 - val_precision_21: 0.9690 - val_recall_21: 0.9681\n",
      "Epoch 90/100\n",
      "100/100 [==============================] - 333s 3s/step - loss: 0.0589 - accuracy: 0.9778 - precision_21: 0.9827 - recall_21: 0.9744 - val_loss: 0.2439 - val_accuracy: 0.9699 - val_precision_21: 0.9699 - val_recall_21: 0.9699\n",
      "Epoch 91/100\n",
      "100/100 [==============================] - 333s 3s/step - loss: 0.0527 - accuracy: 0.9806 - precision_21: 0.9861 - recall_21: 0.9781 - val_loss: 0.2049 - val_accuracy: 0.9731 - val_precision_21: 0.9731 - val_recall_21: 0.9731\n",
      "Epoch 92/100\n",
      "100/100 [==============================] - 354s 4s/step - loss: 0.0477 - accuracy: 0.9834 - precision_21: 0.9877 - recall_21: 0.9803 - val_loss: 0.2144 - val_accuracy: 0.9708 - val_precision_21: 0.9708 - val_recall_21: 0.9708\n",
      "Epoch 93/100\n",
      "100/100 [==============================] - 401s 4s/step - loss: 0.0704 - accuracy: 0.9756 - precision_21: 0.9789 - recall_21: 0.9728 - val_loss: 0.2121 - val_accuracy: 0.9667 - val_precision_21: 0.9680 - val_recall_21: 0.9667\n",
      "Epoch 94/100\n",
      "100/100 [==============================] - 334s 3s/step - loss: 0.0671 - accuracy: 0.9772 - precision_21: 0.9818 - recall_21: 0.9753 - val_loss: 0.1831 - val_accuracy: 0.9690 - val_precision_21: 0.9712 - val_recall_21: 0.9681\n",
      "Epoch 95/100\n",
      "100/100 [==============================] - 335s 3s/step - loss: 0.0508 - accuracy: 0.9806 - precision_21: 0.9837 - recall_21: 0.9784 - val_loss: 0.3333 - val_accuracy: 0.9579 - val_precision_21: 0.9591 - val_recall_21: 0.9565\n",
      "Epoch 96/100\n",
      "100/100 [==============================] - 334s 3s/step - loss: 0.0655 - accuracy: 0.9784 - precision_21: 0.9817 - recall_21: 0.9750 - val_loss: 0.2007 - val_accuracy: 0.9713 - val_precision_21: 0.9713 - val_recall_21: 0.9708\n",
      "Epoch 97/100\n",
      "100/100 [==============================] - 334s 3s/step - loss: 0.0557 - accuracy: 0.9825 - precision_21: 0.9865 - recall_21: 0.9803 - val_loss: 0.2363 - val_accuracy: 0.9713 - val_precision_21: 0.9717 - val_recall_21: 0.9708\n",
      "Epoch 98/100\n",
      "100/100 [==============================] - 334s 3s/step - loss: 0.0512 - accuracy: 0.9812 - precision_21: 0.9830 - recall_21: 0.9772 - val_loss: 0.2783 - val_accuracy: 0.9625 - val_precision_21: 0.9629 - val_recall_21: 0.9616\n",
      "Epoch 99/100\n",
      "100/100 [==============================] - 333s 3s/step - loss: 0.0516 - accuracy: 0.9828 - precision_21: 0.9852 - recall_21: 0.9806 - val_loss: 0.1954 - val_accuracy: 0.9718 - val_precision_21: 0.9731 - val_recall_21: 0.9718\n",
      "Epoch 100/100\n",
      "100/100 [==============================] - 334s 3s/step - loss: 0.0476 - accuracy: 0.9831 - precision_21: 0.9862 - recall_21: 0.9806 - val_loss: 0.2531 - val_accuracy: 0.9727 - val_precision_21: 0.9727 - val_recall_21: 0.9722\n",
      "waktu training adalah :  34220.621106147766  s\n"
     ]
    }
   ],
   "source": [
    "import tensorflow as tf\n",
    "from tensorflow import keras\n",
    "import time\n",
    "\n",
    "opt = keras.optimizers.Adam(learning_rate=0.2)\n",
    "model.compile(optimizer='adam',\n",
    "              loss='categorical_crossentropy',\n",
    "             metrics=['accuracy', tf.keras.metrics.Precision(),tf.keras.metrics.Recall()])\n",
    "mulai = time.time()\n",
    "history = model.fit(train_generator,\n",
    "    steps_per_epoch = 100,      \n",
    "    #batch_size=60,\n",
    "    epochs = 100,\n",
    "    validation_data = validation_generator\n",
    "    )\n",
    "print(\"waktu training adalah : \", time.time()-mulai , \" s\")"
   ]
  },
  {
   "cell_type": "code",
   "execution_count": null,
   "metadata": {},
   "outputs": [],
   "source": []
  },
  {
   "cell_type": "code",
   "execution_count": 16,
   "metadata": {},
   "outputs": [],
   "source": [
    "# plt.plot(history.history['accuracy'], label='accuracy')\n",
    "# plt.plot(history.history['val_accuracy'], label = 'val_accuracy')\n",
    "# plt.plot(np.array(history.history['val_recall_8']), label = 'val_recall')\n",
    "# plt.plot(np.array(history.history['val_precision_9']), label = 'val_precission')\n",
    "# plt.xlabel('Epoch')\n",
    "# plt.ylabel('Accuracy')\n",
    "# plt.ylim([0.5, 1.1])\n",
    "# plt.legend(loc='lower right')\n",
    "\n",
    "# test_loss, test_acc = model.evaluate(validation_generator,  validation_generator.label, verbose=2)"
   ]
  },
  {
   "cell_type": "markdown",
   "metadata": {},
   "source": [
    "# convert"
   ]
  },
  {
   "cell_type": "code",
   "execution_count": 17,
   "metadata": {},
   "outputs": [],
   "source": [
    "# import tensorflow as tf\n",
    "# print(tf.version.VERSION)\n",
    "\n",
    "# model_path = '../out/modeltf.h5'\n",
    "# model.save(model_path)"
   ]
  },
  {
   "cell_type": "code",
   "execution_count": 18,
   "metadata": {},
   "outputs": [],
   "source": [
    "# converter = tf.lite.TFLiteConverter.from_keras_model(model)\n",
    "# tflite_model = converter.convert()\n",
    "# open(\"../out/convert_try.tflite\", \"wb\").write(tflite_model)"
   ]
  },
  {
   "cell_type": "code",
   "execution_count": 19,
   "metadata": {},
   "outputs": [],
   "source": [
    "# # yhat_classes = model.predict_classes(fttrain, verbose=0)\n",
    "# # yhat_classes\n",
    "# new_model = tf.keras.models.load_model(model_path)\n",
    "# new_model.summary()"
   ]
  },
  {
   "cell_type": "code",
   "execution_count": 41,
   "metadata": {},
   "outputs": [],
   "source": [
    "# new_model.predict(train_generator)"
   ]
  },
  {
   "cell_type": "code",
   "execution_count": null,
   "metadata": {},
   "outputs": [],
   "source": [
    "# import tensorflow as tf\n",
    "\n",
    "# y_pred=model.predict_classes(fttrain)\n",
    "# con_mat = tf.math.confusion_matrix(labels=tlabel, predictions=y_pred).numpy()\n",
    "# con_mat[:3,:3]"
   ]
  },
  {
   "cell_type": "code",
   "execution_count": null,
   "metadata": {},
   "outputs": [],
   "source": [
    "# from sklearn.metrics import accuracy_score\n",
    "# from sklearn.metrics import precision_score\n",
    "# from sklearn.metrics import recall_score"
   ]
  },
  {
   "cell_type": "code",
   "execution_count": null,
   "metadata": {},
   "outputs": [],
   "source": [
    "# # accuracy: (tp + tn) / (p + n)\n",
    "# accuracy = accuracy_score(tlabel, yhat_classes)\n",
    "# print('Accuracy: %f' % accuracy)\n",
    "# # precision tp / (tp + fp)\n",
    "# precision = precision_score(tlabel, yhat_classes, average='weighted')\n",
    "# print('Precision: %f' % precision)\n",
    "# # recall: tp / (tp + fn)\n",
    "# recall = recall_score(tlabel, yhat_classes, average='weighted')\n",
    "# print('Recall: %f' % recall)"
   ]
  },
  {
   "cell_type": "code",
   "execution_count": null,
   "metadata": {},
   "outputs": [],
   "source": []
  }
 ],
 "metadata": {
  "kernelspec": {
   "display_name": "flow",
   "language": "python",
   "name": "flow"
  },
  "language_info": {
   "codemirror_mode": {
    "name": "ipython",
    "version": 3
   },
   "file_extension": ".py",
   "mimetype": "text/x-python",
   "name": "python",
   "nbconvert_exporter": "python",
   "pygments_lexer": "ipython3",
   "version": "3.6.10"
  }
 },
 "nbformat": 4,
 "nbformat_minor": 4
}
