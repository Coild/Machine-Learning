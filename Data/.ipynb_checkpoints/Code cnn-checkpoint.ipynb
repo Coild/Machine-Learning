{
 "cells": [
  {
   "cell_type": "code",
   "execution_count": 22,
   "metadata": {},
   "outputs": [],
   "source": [
    "import pandas\n",
    "import numpy as np\n",
    "import cv2\n",
    "import os"
   ]
  },
  {
   "cell_type": "code",
   "execution_count": 23,
   "metadata": {},
   "outputs": [],
   "source": [
    "#     def kelas (file):\n",
    "#         if 'ha' in file: dot=1\n",
    "#         if 'na' in file: dot=2\n",
    "#         if 'ca' in file: dot=3\n",
    "#         if 'ra' in file: dot=4\n",
    "#         if 'ka' in file: dot=5\n",
    "#         if 'da' in file: dot=6\n",
    "#         if 'ta' in file: dot=7\n",
    "#         if 'sa' in file: dot=8\n",
    "#         if 'wa' in file: dot=9\n",
    "#         if 'la' in file: dot=10\n",
    "#         if 'ma' in file: dot=11\n",
    "#         if 'ga' in file: dot=12\n",
    "#         if 'ba' in file: dot=13\n",
    "#         if 'nga' in file: dot=14\n",
    "#         if 'pa' in file: dot=15\n",
    "#         if 'ja' in file: dot=16\n",
    "#         if 'ya' in file: dot=17\n",
    "#         if 'nya' in file: dot=18\n",
    "#         return (dot-1)\n",
    "\n",
    "#     def minmax (img):#normalisasi min max\n",
    "#         x,y = img.shape\n",
    "#         balik = np.zeros(img.shape)\n",
    "#         maks  = max(img.flatten())\n",
    "#         mins = min(img.flatten())\n",
    "#         for i in range(x):\n",
    "#             for j in range (y):\n",
    "#                 balik[i,j]=(img[i,j]-mins)/(maks-mins)\n",
    "#         return balik"
   ]
  },
  {
   "cell_type": "code",
   "execution_count": 24,
   "metadata": {},
   "outputs": [],
   "source": [
    "# filepath = \"D:\\\\cross\"\n",
    "\n",
    "# traindata = []\n",
    "# trainlabel =[]\n",
    "# testdata =[]\n",
    "# testlabel =[]\n",
    "# for a in os.listdir(filepath):\n",
    "#     c = 1\n",
    "#     for b in os.listdir(filepath + \"\\\\\" + str(a)):\n",
    "#         for nama in os.listdir(filepath + \"\\\\\" + str(a) + \"\\\\\" + str(b)):\n",
    "#             if (int(a)<=2):\n",
    "#                 img= cv2.imread(filepath + \"\\\\\" + str(a) + \"\\\\\" + str(b)+ \"\\\\\" + str(nama),0)#grayscale\n",
    "#                 x = cv2.resize(img,(64,64))#resize\n",
    "#                 x = minmax(x)\n",
    "#                 testdata.append(x)\n",
    "#                 testlabel.append(kelas (nama))\n",
    "#             else :\n",
    "#                 img= cv2.imread(filepath + \"\\\\\" + str(a) + \"\\\\\" + str(b)+ \"\\\\\" + str(nama),0)#grayscale\n",
    "#                 x = cv2.resize(img,(64,64))#resize\n",
    "#                 x = minmax(x)\n",
    "#                 traindata.append(x)\n",
    "#                 trainlabel.append(kelas (nama))"
   ]
  },
  {
   "cell_type": "code",
   "execution_count": 25,
   "metadata": {},
   "outputs": [],
   "source": [
    "# testlabel= np.array(testlabel)\n",
    "# trainlabel = np.array(trainlabel)"
   ]
  },
  {
   "cell_type": "code",
   "execution_count": 26,
   "metadata": {},
   "outputs": [],
   "source": [
    "# print(np.array(dt).shape)\n",
    "# from sklearn.model_selection import train_test_split\n",
    "\n",
    "# x1,x2,y1,y2= train_test_split(dt,ID,test_size=0.2)"
   ]
  },
  {
   "cell_type": "code",
   "execution_count": 27,
   "metadata": {},
   "outputs": [],
   "source": [
    "# dtrain = np.array(x1)\n",
    "# dlabel = np.array(y1)\n",
    "# ttrain = np.array(x2)\n",
    "# tlabel = np.array(y2)\n",
    "# print(dtrain.shape, ttrain.shape)"
   ]
  },
  {
   "cell_type": "code",
   "execution_count": 28,
   "metadata": {},
   "outputs": [],
   "source": [
    "# fdtrain = np.zeros ((8640,64,64,1))\n",
    "# fdtrain[:,:,:,0] = traindata\n",
    "# fttrain = np.zeros ((2160,64,64,1))\n",
    "# fttrain[:,:,:,0] = testdata\n",
    "# fdtrain.shape"
   ]
  },
  {
   "cell_type": "markdown",
   "metadata": {},
   "source": [
    "# TRAIN GENERATOR"
   ]
  },
  {
   "cell_type": "code",
   "execution_count": 29,
   "metadata": {},
   "outputs": [],
   "source": [
    "from tensorflow.keras.preprocessing.image import ImageDataGenerator\n",
    "\n",
    "train_datagen = ImageDataGenerator(\n",
    "                    rescale = 1./255,\n",
    "                    rotation_range = 20,\n",
    "                    horizontal_flip = False,\n",
    "                    \n",
    "                    fill_mode = 'wrap',\n",
    "                    validation_split=0.2)\n"
   ]
  },
  {
   "cell_type": "code",
   "execution_count": 52,
   "metadata": {},
   "outputs": [
    {
     "name": "stdout",
     "output_type": "stream",
     "text": [
      "Found 8640 images belonging to 18 classes.\n",
      "Found 2160 images belonging to 18 classes.\n"
     ]
    }
   ],
   "source": [
    "fpath = \"D:\\\\data\"\n",
    "train_generator = train_datagen.flow_from_directory(\n",
    "                  fpath,\n",
    "                  color_mode='grayscale',\n",
    "                  target_size = (128,128),\n",
    "                  subset='training')\n",
    "\n",
    "validation_generator = train_datagen.flow_from_directory(\n",
    "                  fpath,\n",
    "                  color_mode='grayscale',\n",
    "                  target_size = (128,128),\n",
    "                  subset='validation'\n",
    ")"
   ]
  },
  {
   "cell_type": "code",
   "execution_count": 42,
   "metadata": {},
   "outputs": [],
   "source": [
    "# np.array(train_generator).shape"
   ]
  },
  {
   "cell_type": "markdown",
   "metadata": {},
   "source": [
    "# import tensorflow as tf\n",
    "\n",
    "from tensorflow.keras import datasets, layers, models\n",
    "import matplotlib.pyplot as plt"
   ]
  },
  {
   "cell_type": "code",
   "execution_count": 32,
   "metadata": {},
   "outputs": [],
   "source": [
    "from tensorflow.keras import datasets, layers, models\n",
    "import matplotlib.pyplot as plt"
   ]
  },
  {
   "cell_type": "code",
   "execution_count": 53,
   "metadata": {},
   "outputs": [],
   "source": [
    "model = models.Sequential()\n",
    "model.add(layers.Conv2D(128, (5, 5), activation='relu',padding='same', input_shape=(128,128,1)))\n",
    "model.add(layers.MaxPooling2D((2,2)))\n",
    "model.add(layers.Conv2D(128, (5, 5),padding='same', activation='relu'))\n",
    "model.add(layers.MaxPooling2D((2, 2)))\n",
    "model.add(layers.Conv2D(128, (5, 5),padding='same', activation='relu'))\n",
    "model.add(layers.Flatten())\n",
    "model.add(layers.Dense(128, activation='relu'))\n",
    "model.add(layers.Dropout(0.2))\n",
    "model.add(layers.Dense(18, activation='softmax'))"
   ]
  },
  {
   "cell_type": "code",
   "execution_count": 54,
   "metadata": {},
   "outputs": [
    {
     "name": "stdout",
     "output_type": "stream",
     "text": [
      "Model: \"sequential_7\"\n",
      "_________________________________________________________________\n",
      "Layer (type)                 Output Shape              Param #   \n",
      "=================================================================\n",
      "conv2d_21 (Conv2D)           (None, 128, 128, 128)     3328      \n",
      "_________________________________________________________________\n",
      "max_pooling2d_14 (MaxPooling (None, 64, 64, 128)       0         \n",
      "_________________________________________________________________\n",
      "conv2d_22 (Conv2D)           (None, 64, 64, 128)       409728    \n",
      "_________________________________________________________________\n",
      "max_pooling2d_15 (MaxPooling (None, 32, 32, 128)       0         \n",
      "_________________________________________________________________\n",
      "conv2d_23 (Conv2D)           (None, 32, 32, 128)       409728    \n",
      "_________________________________________________________________\n",
      "flatten_7 (Flatten)          (None, 131072)            0         \n",
      "_________________________________________________________________\n",
      "dense_14 (Dense)             (None, 128)               16777344  \n",
      "_________________________________________________________________\n",
      "dropout_7 (Dropout)          (None, 128)               0         \n",
      "_________________________________________________________________\n",
      "dense_15 (Dense)             (None, 18)                2322      \n",
      "=================================================================\n",
      "Total params: 17,602,450\n",
      "Trainable params: 17,602,450\n",
      "Non-trainable params: 0\n",
      "_________________________________________________________________\n"
     ]
    }
   ],
   "source": [
    "model.summary()"
   ]
  },
  {
   "cell_type": "code",
   "execution_count": 55,
   "metadata": {},
   "outputs": [],
   "source": [
    "# from keras.callbacks import Callback\n",
    "# from sklearn.metrics import confusion_matrix, accuracy_score, precision_score, recall_score\n",
    "# class Metrics(Callback):\n",
    "    \n",
    "#     def on_train_begin(self, logs={}):\n",
    "#         self.val_accuracy = []\n",
    "#         self.val_recalls = []\n",
    "\n",
    "#         self.val_precisions = []\n",
    "        \n",
    "#     def on_epoch_begin(self, epoch, logs=None):\n",
    "#         pass\n",
    "\n",
    "#     def on_epoch_end(self, epoch, logs={}):\n",
    "#         val_predict = model.predict_classes(validation_generator, verbose=0)\n",
    "#         val_targ = validation_generator.class_indices\n",
    "        \n",
    "#         _val_recall = recall_score(val_targ, val_predict, average='weighted')\n",
    "#         _val_precision = precision_score(val_targ, val_predict, average='weighted')\n",
    "#         _val_accuracy = accuracy_score(val_targ, val_predict)\n",
    "        \n",
    "#         self.val_recalls.append(_val_recall)\n",
    "#         self.val_precisions.append(_val_precision)\n",
    "#         self.val_accuracy.append(_val_accuracy)\n",
    "        \n",
    "#         print (\"\\n\\n * val_accuracy: %f — val_precision: %f — val_recall %f\" %(_val_accuracy, _val_precision, _val_recall), \"\\n \\n\")\n",
    "#         return\n",
    "    \n",
    "    \n",
    "# met = Metrics()"
   ]
  },
  {
   "cell_type": "code",
   "execution_count": 57,
   "metadata": {},
   "outputs": [
    {
     "name": "stdout",
     "output_type": "stream",
     "text": [
      "Train for 100 steps, validate for 68 steps\n",
      "Epoch 1/100\n",
      "100/100 [==============================] - 941s 9s/step - loss: 2.5297 - accuracy: 0.2550 - precision_7: 0.5773 - recall_7: 0.0828 - val_loss: 1.2536 - val_accuracy: 0.5977 - val_precision_7: 0.7856 - val_recall_7: 0.3088\n",
      "Epoch 2/100\n",
      "100/100 [==============================] - 1048s 10s/step - loss: 1.0794 - accuracy: 0.6594 - precision_7: 0.8007 - recall_7: 0.5272 - val_loss: 0.5148 - val_accuracy: 0.8389 - val_precision_7: 0.8900 - val_recall_7: 0.7866\n",
      "Epoch 3/100\n",
      "100/100 [==============================] - 968s 10s/step - loss: 0.6664 - accuracy: 0.7909 - precision_7: 0.8624 - recall_7: 0.7188 - val_loss: 0.3824 - val_accuracy: 0.8648 - val_precision_7: 0.8976 - val_recall_7: 0.8361\n",
      "Epoch 4/100\n",
      "100/100 [==============================] - 965s 10s/step - loss: 0.5026 - accuracy: 0.8363 - precision_7: 0.8839 - recall_7: 0.7875 - val_loss: 0.3073 - val_accuracy: 0.8972 - val_precision_7: 0.9251 - val_recall_7: 0.8750\n",
      "Epoch 5/100\n",
      "100/100 [==============================] - 1053s 11s/step - loss: 0.4570 - accuracy: 0.8634 - precision_7: 0.9083 - recall_7: 0.8266 - val_loss: 0.2647 - val_accuracy: 0.9236 - val_precision_7: 0.9398 - val_recall_7: 0.9106\n",
      "Epoch 6/100\n",
      "100/100 [==============================] - 961s 10s/step - loss: 0.3157 - accuracy: 0.9013 - precision_7: 0.9291 - recall_7: 0.8766 - val_loss: 0.2730 - val_accuracy: 0.9204 - val_precision_7: 0.9292 - val_recall_7: 0.9120\n",
      "Epoch 7/100\n",
      "100/100 [==============================] - 959s 10s/step - loss: 0.3376 - accuracy: 0.8991 - precision_7: 0.9270 - recall_7: 0.8731 - val_loss: 0.2644 - val_accuracy: 0.9218 - val_precision_7: 0.9320 - val_recall_7: 0.9144\n",
      "Epoch 8/100\n",
      "100/100 [==============================] - 1022s 10s/step - loss: 0.2952 - accuracy: 0.9178 - precision_7: 0.9398 - recall_7: 0.8972 - val_loss: 0.2322 - val_accuracy: 0.9306 - val_precision_7: 0.9406 - val_recall_7: 0.9167\n",
      "Epoch 9/100\n",
      "100/100 [==============================] - 1072s 11s/step - loss: 0.2392 - accuracy: 0.9262 - precision_7: 0.9420 - recall_7: 0.9078 - val_loss: 0.2812 - val_accuracy: 0.9079 - val_precision_7: 0.9180 - val_recall_7: 0.9023\n",
      "Epoch 10/100\n",
      "100/100 [==============================] - 954s 10s/step - loss: 0.2204 - accuracy: 0.9356 - precision_7: 0.9484 - recall_7: 0.9253 - val_loss: 0.2116 - val_accuracy: 0.9319 - val_precision_7: 0.9410 - val_recall_7: 0.9236\n",
      "Epoch 11/100\n",
      "100/100 [==============================] - 935s 9s/step - loss: 0.2327 - accuracy: 0.9309 - precision_7: 0.9425 - recall_7: 0.9175 - val_loss: 0.2696 - val_accuracy: 0.9190 - val_precision_7: 0.9270 - val_recall_7: 0.9111\n",
      "Epoch 12/100\n",
      "100/100 [==============================] - 962s 10s/step - loss: 0.1844 - accuracy: 0.9416 - precision_7: 0.9530 - recall_7: 0.9306 - val_loss: 0.2328 - val_accuracy: 0.9347 - val_precision_7: 0.9485 - val_recall_7: 0.9292\n",
      "Epoch 13/100\n",
      "100/100 [==============================] - 1011s 10s/step - loss: 0.1931 - accuracy: 0.9409 - precision_7: 0.9534 - recall_7: 0.9325 - val_loss: 0.2361 - val_accuracy: 0.9306 - val_precision_7: 0.9385 - val_recall_7: 0.9259\n",
      "Epoch 14/100\n",
      "100/100 [==============================] - 955s 10s/step - loss: 0.2184 - accuracy: 0.9425 - precision_7: 0.9543 - recall_7: 0.9322 - val_loss: 0.2108 - val_accuracy: 0.9269 - val_precision_7: 0.9360 - val_recall_7: 0.9213\n",
      "Epoch 15/100\n",
      "100/100 [==============================] - 981s 10s/step - loss: 0.1504 - accuracy: 0.9553 - precision_7: 0.9631 - recall_7: 0.9456 - val_loss: 0.2240 - val_accuracy: 0.9315 - val_precision_7: 0.9371 - val_recall_7: 0.9250\n",
      "Epoch 16/100\n",
      "100/100 [==============================] - 1060s 11s/step - loss: 0.1520 - accuracy: 0.9550 - precision_7: 0.9625 - recall_7: 0.9459 - val_loss: 0.2821 - val_accuracy: 0.9264 - val_precision_7: 0.9318 - val_recall_7: 0.9231\n",
      "Epoch 17/100\n",
      "100/100 [==============================] - 935s 9s/step - loss: 0.1390 - accuracy: 0.9597 - precision_7: 0.9649 - recall_7: 0.9534 - val_loss: 0.2052 - val_accuracy: 0.9338 - val_precision_7: 0.9413 - val_recall_7: 0.9278\n",
      "Epoch 18/100\n",
      "100/100 [==============================] - 943s 9s/step - loss: 0.1443 - accuracy: 0.9547 - precision_7: 0.9607 - recall_7: 0.9475 - val_loss: 0.2274 - val_accuracy: 0.9329 - val_precision_7: 0.9370 - val_recall_7: 0.9296\n",
      "Epoch 19/100\n",
      "100/100 [==============================] - 1059s 11s/step - loss: 0.1504 - accuracy: 0.9559 - precision_7: 0.9613 - recall_7: 0.9466 - val_loss: 0.3039 - val_accuracy: 0.9185 - val_precision_7: 0.9221 - val_recall_7: 0.9157\n",
      "Epoch 20/100\n",
      "100/100 [==============================] - 1073s 11s/step - loss: 0.1629 - accuracy: 0.9491 - precision_7: 0.9577 - recall_7: 0.9409 - val_loss: 0.2887 - val_accuracy: 0.9190 - val_precision_7: 0.9273 - val_recall_7: 0.9148\n",
      "Epoch 21/100\n",
      "100/100 [==============================] - 1066s 11s/step - loss: 0.1365 - accuracy: 0.9581 - precision_7: 0.9652 - recall_7: 0.9525 - val_loss: 0.2360 - val_accuracy: 0.9338 - val_precision_7: 0.9401 - val_recall_7: 0.9306\n",
      "Epoch 22/100\n",
      "100/100 [==============================] - 978s 10s/step - loss: 0.1292 - accuracy: 0.9591 - precision_7: 0.9640 - recall_7: 0.9550 - val_loss: 0.2496 - val_accuracy: 0.9306 - val_precision_7: 0.9333 - val_recall_7: 0.9269\n",
      "Epoch 23/100\n",
      "100/100 [==============================] - 969s 10s/step - loss: 0.1302 - accuracy: 0.9675 - precision_7: 0.9722 - recall_7: 0.9609 - val_loss: 0.2123 - val_accuracy: 0.9407 - val_precision_7: 0.9466 - val_recall_7: 0.9356\n",
      "Epoch 24/100\n",
      "100/100 [==============================] - 987s 10s/step - loss: 0.1063 - accuracy: 0.9681 - precision_7: 0.9729 - recall_7: 0.9641 - val_loss: 0.2479 - val_accuracy: 0.9278 - val_precision_7: 0.9297 - val_recall_7: 0.9250\n",
      "Epoch 25/100\n",
      "100/100 [==============================] - 985s 10s/step - loss: 0.1267 - accuracy: 0.9631 - precision_7: 0.9663 - recall_7: 0.9578 - val_loss: 0.2062 - val_accuracy: 0.9417 - val_precision_7: 0.9492 - val_recall_7: 0.9352\n",
      "Epoch 26/100\n",
      "100/100 [==============================] - 962s 10s/step - loss: 0.1160 - accuracy: 0.9631 - precision_7: 0.9687 - recall_7: 0.9584 - val_loss: 0.2707 - val_accuracy: 0.9190 - val_precision_7: 0.9239 - val_recall_7: 0.9167\n",
      "Epoch 27/100\n",
      "100/100 [==============================] - 947s 9s/step - loss: 0.1142 - accuracy: 0.9644 - precision_7: 0.9694 - recall_7: 0.9597 - val_loss: 0.2332 - val_accuracy: 0.9505 - val_precision_7: 0.9534 - val_recall_7: 0.9481\n",
      "Epoch 28/100\n",
      "100/100 [==============================] - 921s 9s/step - loss: 0.0951 - accuracy: 0.9712 - precision_7: 0.9748 - recall_7: 0.9672 - val_loss: 0.1922 - val_accuracy: 0.9449 - val_precision_7: 0.9452 - val_recall_7: 0.9426\n",
      "Epoch 29/100\n",
      "100/100 [==============================] - 957s 10s/step - loss: 0.1020 - accuracy: 0.9666 - precision_7: 0.9711 - recall_7: 0.9647 - val_loss: 0.1833 - val_accuracy: 0.9500 - val_precision_7: 0.9534 - val_recall_7: 0.9472\n",
      "Epoch 30/100\n",
      "100/100 [==============================] - 1082s 11s/step - loss: 0.1040 - accuracy: 0.9716 - precision_7: 0.9745 - recall_7: 0.9666 - val_loss: 0.1799 - val_accuracy: 0.9537 - val_precision_7: 0.9536 - val_recall_7: 0.9514\n",
      "Epoch 31/100\n",
      "100/100 [==============================] - 1091s 11s/step - loss: 0.0874 - accuracy: 0.9722 - precision_7: 0.9736 - recall_7: 0.9694 - val_loss: 0.3430 - val_accuracy: 0.9245 - val_precision_7: 0.9282 - val_recall_7: 0.9218\n",
      "Epoch 32/100\n",
      "100/100 [==============================] - 951s 10s/step - loss: 0.1233 - accuracy: 0.9606 - precision_7: 0.9650 - recall_7: 0.9559 - val_loss: 0.3059 - val_accuracy: 0.9259 - val_precision_7: 0.9267 - val_recall_7: 0.9250\n",
      "Epoch 33/100\n",
      "100/100 [==============================] - 980s 10s/step - loss: 0.0925 - accuracy: 0.9700 - precision_7: 0.9741 - recall_7: 0.9653 - val_loss: 0.2373 - val_accuracy: 0.9440 - val_precision_7: 0.9478 - val_recall_7: 0.9417\n",
      "Epoch 34/100\n",
      "100/100 [==============================] - 964s 10s/step - loss: 0.0782 - accuracy: 0.9756 - precision_7: 0.9792 - recall_7: 0.9728 - val_loss: 0.2588 - val_accuracy: 0.9477 - val_precision_7: 0.9485 - val_recall_7: 0.9468\n",
      "Epoch 35/100\n",
      "100/100 [==============================] - 965s 10s/step - loss: 0.1141 - accuracy: 0.9669 - precision_7: 0.9722 - recall_7: 0.9625 - val_loss: 0.1714 - val_accuracy: 0.9579 - val_precision_7: 0.9627 - val_recall_7: 0.9569\n",
      "Epoch 36/100\n",
      "100/100 [==============================] - 983s 10s/step - loss: 0.0831 - accuracy: 0.9734 - precision_7: 0.9749 - recall_7: 0.9716 - val_loss: 0.1542 - val_accuracy: 0.9565 - val_precision_7: 0.9600 - val_recall_7: 0.9556\n",
      "Epoch 37/100\n",
      "100/100 [==============================] - 1116s 11s/step - loss: 0.0840 - accuracy: 0.9741 - precision_7: 0.9774 - recall_7: 0.9712 - val_loss: 0.2207 - val_accuracy: 0.9421 - val_precision_7: 0.9438 - val_recall_7: 0.9412\n",
      "Epoch 38/100\n",
      "100/100 [==============================] - 1037s 10s/step - loss: 0.0895 - accuracy: 0.9741 - precision_7: 0.9762 - recall_7: 0.9731 - val_loss: 0.2116 - val_accuracy: 0.9463 - val_precision_7: 0.9493 - val_recall_7: 0.9444\n",
      "Epoch 39/100\n",
      "100/100 [==============================] - 945s 9s/step - loss: 0.0841 - accuracy: 0.9741 - precision_7: 0.9761 - recall_7: 0.9709 - val_loss: 0.2276 - val_accuracy: 0.9380 - val_precision_7: 0.9413 - val_recall_7: 0.9352\n",
      "Epoch 40/100\n",
      "100/100 [==============================] - 954s 10s/step - loss: 0.0745 - accuracy: 0.9756 - precision_7: 0.9780 - recall_7: 0.9737 - val_loss: 0.1805 - val_accuracy: 0.9477 - val_precision_7: 0.9511 - val_recall_7: 0.9458\n",
      "Epoch 41/100\n",
      "100/100 [==============================] - 977s 10s/step - loss: 0.0828 - accuracy: 0.9781 - precision_7: 0.9808 - recall_7: 0.9753 - val_loss: 0.1865 - val_accuracy: 0.9435 - val_precision_7: 0.9500 - val_recall_7: 0.9403\n",
      "Epoch 42/100\n",
      "100/100 [==============================] - 1061s 11s/step - loss: 0.0630 - accuracy: 0.9800 - precision_7: 0.9812 - recall_7: 0.9791 - val_loss: 0.1817 - val_accuracy: 0.9491 - val_precision_7: 0.9521 - val_recall_7: 0.9481\n",
      "Epoch 43/100\n",
      "100/100 [==============================] - 1028s 10s/step - loss: 0.0497 - accuracy: 0.9825 - precision_7: 0.9846 - recall_7: 0.9816 - val_loss: 0.2398 - val_accuracy: 0.9486 - val_precision_7: 0.9507 - val_recall_7: 0.9468\n",
      "Epoch 44/100\n",
      "100/100 [==============================] - 1087s 11s/step - loss: 0.0630 - accuracy: 0.9819 - precision_7: 0.9831 - recall_7: 0.9809 - val_loss: 0.2010 - val_accuracy: 0.9551 - val_precision_7: 0.9581 - val_recall_7: 0.9537\n",
      "Epoch 45/100\n",
      "100/100 [==============================] - 983s 10s/step - loss: 0.0776 - accuracy: 0.9756 - precision_7: 0.9777 - recall_7: 0.9747 - val_loss: 0.1893 - val_accuracy: 0.9519 - val_precision_7: 0.9558 - val_recall_7: 0.9500\n",
      "Epoch 46/100\n",
      "100/100 [==============================] - 963s 10s/step - loss: 0.0623 - accuracy: 0.9812 - precision_7: 0.9843 - recall_7: 0.9787 - val_loss: 0.1633 - val_accuracy: 0.9593 - val_precision_7: 0.9610 - val_recall_7: 0.9574\n",
      "Epoch 47/100\n",
      "100/100 [==============================] - 943s 9s/step - loss: 0.0599 - accuracy: 0.9819 - precision_7: 0.9837 - recall_7: 0.9803 - val_loss: 0.2997 - val_accuracy: 0.9389 - val_precision_7: 0.9409 - val_recall_7: 0.9361\n",
      "Epoch 48/100\n",
      "100/100 [==============================] - 995s 10s/step - loss: 0.0854 - accuracy: 0.9744 - precision_7: 0.9758 - recall_7: 0.9719 - val_loss: 0.1748 - val_accuracy: 0.9625 - val_precision_7: 0.9633 - val_recall_7: 0.9611\n",
      "Epoch 49/100\n",
      "100/100 [==============================] - 996s 10s/step - loss: 0.0733 - accuracy: 0.9766 - precision_7: 0.9786 - recall_7: 0.9728 - val_loss: 0.1620 - val_accuracy: 0.9519 - val_precision_7: 0.9557 - val_recall_7: 0.9491\n",
      "Epoch 50/100\n",
      "100/100 [==============================] - 945s 9s/step - loss: 0.0620 - accuracy: 0.9803 - precision_7: 0.9818 - recall_7: 0.9784 - val_loss: 0.1837 - val_accuracy: 0.9620 - val_precision_7: 0.9634 - val_recall_7: 0.9616\n",
      "Epoch 51/100\n",
      "100/100 [==============================] - 931s 9s/step - loss: 0.0579 - accuracy: 0.9809 - precision_7: 0.9834 - recall_7: 0.9800 - val_loss: 0.2492 - val_accuracy: 0.9431 - val_precision_7: 0.9443 - val_recall_7: 0.9417\n",
      "Epoch 52/100\n",
      "100/100 [==============================] - 968s 10s/step - loss: 0.0560 - accuracy: 0.9834 - precision_7: 0.9846 - recall_7: 0.9816 - val_loss: 0.2381 - val_accuracy: 0.9495 - val_precision_7: 0.9517 - val_recall_7: 0.9477\n",
      "Epoch 53/100\n",
      "100/100 [==============================] - 1050s 11s/step - loss: 0.0606 - accuracy: 0.9787 - precision_7: 0.9796 - recall_7: 0.9772 - val_loss: 0.2652 - val_accuracy: 0.9403 - val_precision_7: 0.9424 - val_recall_7: 0.9398\n",
      "Epoch 54/100\n",
      "100/100 [==============================] - 984s 10s/step - loss: 0.0604 - accuracy: 0.9787 - precision_7: 0.9806 - recall_7: 0.9772 - val_loss: 0.1883 - val_accuracy: 0.9630 - val_precision_7: 0.9643 - val_recall_7: 0.9620\n",
      "Epoch 55/100\n",
      "100/100 [==============================] - 996s 10s/step - loss: 0.0491 - accuracy: 0.9822 - precision_7: 0.9840 - recall_7: 0.9800 - val_loss: 0.3492 - val_accuracy: 0.9352 - val_precision_7: 0.9377 - val_recall_7: 0.9343\n",
      "Epoch 56/100\n",
      "100/100 [==============================] - 1020s 10s/step - loss: 0.0636 - accuracy: 0.9819 - precision_7: 0.9825 - recall_7: 0.9803 - val_loss: 0.2174 - val_accuracy: 0.9546 - val_precision_7: 0.9564 - val_recall_7: 0.9542\n",
      "Epoch 57/100\n",
      "100/100 [==============================] - 967s 10s/step - loss: 0.0629 - accuracy: 0.9825 - precision_7: 0.9831 - recall_7: 0.9803 - val_loss: 0.1728 - val_accuracy: 0.9593 - val_precision_7: 0.9614 - val_recall_7: 0.9583\n",
      "Epoch 58/100\n",
      "100/100 [==============================] - 950s 9s/step - loss: 0.0627 - accuracy: 0.9837 - precision_7: 0.9853 - recall_7: 0.9822 - val_loss: 0.2353 - val_accuracy: 0.9509 - val_precision_7: 0.9522 - val_recall_7: 0.9495\n",
      "Epoch 59/100\n",
      "100/100 [==============================] - 1005s 10s/step - loss: 0.0514 - accuracy: 0.9828 - precision_7: 0.9846 - recall_7: 0.9816 - val_loss: 0.1879 - val_accuracy: 0.9495 - val_precision_7: 0.9504 - val_recall_7: 0.9491\n",
      "Epoch 60/100\n",
      "100/100 [==============================] - 982s 10s/step - loss: 0.0532 - accuracy: 0.9834 - precision_7: 0.9849 - recall_7: 0.9809 - val_loss: 0.1397 - val_accuracy: 0.9644 - val_precision_7: 0.9652 - val_recall_7: 0.9625\n",
      "Epoch 61/100\n",
      "100/100 [==============================] - 955s 10s/step - loss: 0.0534 - accuracy: 0.9837 - precision_7: 0.9856 - recall_7: 0.9831 - val_loss: 0.1766 - val_accuracy: 0.9542 - val_precision_7: 0.9568 - val_recall_7: 0.9532\n",
      "Epoch 62/100\n",
      "100/100 [==============================] - 946s 9s/step - loss: 0.0670 - accuracy: 0.9812 - precision_7: 0.9825 - recall_7: 0.9800 - val_loss: 0.1536 - val_accuracy: 0.9565 - val_precision_7: 0.9595 - val_recall_7: 0.9546\n",
      "Epoch 63/100\n",
      "100/100 [==============================] - 956s 10s/step - loss: 0.0661 - accuracy: 0.9772 - precision_7: 0.9796 - recall_7: 0.9759 - val_loss: 0.1369 - val_accuracy: 0.9667 - val_precision_7: 0.9666 - val_recall_7: 0.9653\n",
      "Epoch 64/100\n",
      "100/100 [==============================] - 1007s 10s/step - loss: 0.0698 - accuracy: 0.9800 - precision_7: 0.9809 - recall_7: 0.9784 - val_loss: 0.1922 - val_accuracy: 0.9528 - val_precision_7: 0.9532 - val_recall_7: 0.9523\n",
      "Epoch 65/100\n",
      "100/100 [==============================] - 981s 10s/step - loss: 0.0393 - accuracy: 0.9869 - precision_7: 0.9875 - recall_7: 0.9847 - val_loss: 0.1914 - val_accuracy: 0.9574 - val_precision_7: 0.9596 - val_recall_7: 0.9569\n",
      "Epoch 66/100\n",
      "100/100 [==============================] - 974s 10s/step - loss: 0.0575 - accuracy: 0.9825 - precision_7: 0.9846 - recall_7: 0.9812 - val_loss: 0.2181 - val_accuracy: 0.9421 - val_precision_7: 0.9486 - val_recall_7: 0.9403\n",
      "Epoch 67/100\n",
      "100/100 [==============================] - 992s 10s/step - loss: 0.0550 - accuracy: 0.9809 - precision_7: 0.9818 - recall_7: 0.9791 - val_loss: 0.1961 - val_accuracy: 0.9556 - val_precision_7: 0.9564 - val_recall_7: 0.9546\n",
      "Epoch 68/100\n",
      "100/100 [==============================] - 946s 9s/step - loss: 0.0436 - accuracy: 0.9866 - precision_7: 0.9875 - recall_7: 0.9853 - val_loss: 0.1880 - val_accuracy: 0.9583 - val_precision_7: 0.9600 - val_recall_7: 0.9560\n",
      "Epoch 69/100\n",
      "100/100 [==============================] - 948s 9s/step - loss: 0.0481 - accuracy: 0.9862 - precision_7: 0.9872 - recall_7: 0.9850 - val_loss: 0.1552 - val_accuracy: 0.9639 - val_precision_7: 0.9643 - val_recall_7: 0.9634\n"
     ]
    },
    {
     "name": "stdout",
     "output_type": "stream",
     "text": [
      "Epoch 70/100\n",
      "100/100 [==============================] - 996s 10s/step - loss: 0.0473 - accuracy: 0.9825 - precision_7: 0.9846 - recall_7: 0.9816 - val_loss: 0.2620 - val_accuracy: 0.9556 - val_precision_7: 0.9559 - val_recall_7: 0.9542\n",
      "Epoch 71/100\n",
      "100/100 [==============================] - 962s 10s/step - loss: 0.0624 - accuracy: 0.9825 - precision_7: 0.9831 - recall_7: 0.9816 - val_loss: 0.1964 - val_accuracy: 0.9532 - val_precision_7: 0.9541 - val_recall_7: 0.9532\n",
      "Epoch 72/100\n",
      "100/100 [==============================] - 933s 9s/step - loss: 0.0474 - accuracy: 0.9837 - precision_7: 0.9843 - recall_7: 0.9819 - val_loss: 0.2012 - val_accuracy: 0.9519 - val_precision_7: 0.9531 - val_recall_7: 0.9509\n",
      "Epoch 73/100\n",
      "100/100 [==============================] - 947s 9s/step - loss: 0.0419 - accuracy: 0.9850 - precision_7: 0.9856 - recall_7: 0.9847 - val_loss: 0.2073 - val_accuracy: 0.9532 - val_precision_7: 0.9549 - val_recall_7: 0.9514\n",
      "Epoch 74/100\n",
      "100/100 [==============================] - 960s 10s/step - loss: 0.0589 - accuracy: 0.9819 - precision_7: 0.9828 - recall_7: 0.9806 - val_loss: 0.2067 - val_accuracy: 0.9542 - val_precision_7: 0.9550 - val_recall_7: 0.9528\n",
      "Epoch 75/100\n",
      "100/100 [==============================] - 1010s 10s/step - loss: 0.0463 - accuracy: 0.9841 - precision_7: 0.9856 - recall_7: 0.9831 - val_loss: 0.1794 - val_accuracy: 0.9602 - val_precision_7: 0.9615 - val_recall_7: 0.9588\n",
      "Epoch 76/100\n",
      "100/100 [==============================] - 945s 9s/step - loss: 0.0330 - accuracy: 0.9884 - precision_7: 0.9887 - recall_7: 0.9881 - val_loss: 0.1402 - val_accuracy: 0.9667 - val_precision_7: 0.9680 - val_recall_7: 0.9662\n",
      "Epoch 77/100\n",
      "100/100 [==============================] - 948s 9s/step - loss: 0.0421 - accuracy: 0.9878 - precision_7: 0.9878 - recall_7: 0.9872 - val_loss: 0.2494 - val_accuracy: 0.9347 - val_precision_7: 0.9394 - val_recall_7: 0.9333\n",
      "Epoch 78/100\n",
      "100/100 [==============================] - 1057s 11s/step - loss: 0.0472 - accuracy: 0.9859 - precision_7: 0.9865 - recall_7: 0.9850 - val_loss: 0.1902 - val_accuracy: 0.9532 - val_precision_7: 0.9545 - val_recall_7: 0.9523\n",
      "Epoch 79/100\n",
      "100/100 [==============================] - 978s 10s/step - loss: 0.0326 - accuracy: 0.9881 - precision_7: 0.9887 - recall_7: 0.9881 - val_loss: 0.2484 - val_accuracy: 0.9556 - val_precision_7: 0.9577 - val_recall_7: 0.9542\n",
      "Epoch 80/100\n",
      "100/100 [==============================] - 966s 10s/step - loss: 0.0547 - accuracy: 0.9834 - precision_7: 0.9840 - recall_7: 0.9828 - val_loss: 0.1819 - val_accuracy: 0.9528 - val_precision_7: 0.9557 - val_recall_7: 0.9491\n",
      "Epoch 81/100\n",
      "100/100 [==============================] - 1018s 10s/step - loss: 0.0459 - accuracy: 0.9869 - precision_7: 0.9878 - recall_7: 0.9856 - val_loss: 0.1759 - val_accuracy: 0.9616 - val_precision_7: 0.9624 - val_recall_7: 0.9606\n",
      "Epoch 82/100\n",
      "100/100 [==============================] - 1049s 10s/step - loss: 0.0311 - accuracy: 0.9887 - precision_7: 0.9891 - recall_7: 0.9884 - val_loss: 0.2217 - val_accuracy: 0.9611 - val_precision_7: 0.9615 - val_recall_7: 0.9602\n",
      "Epoch 83/100\n",
      "100/100 [==============================] - 938s 9s/step - loss: 0.0549 - accuracy: 0.9822 - precision_7: 0.9834 - recall_7: 0.9822 - val_loss: 0.1568 - val_accuracy: 0.9542 - val_precision_7: 0.9568 - val_recall_7: 0.9537\n",
      "Epoch 84/100\n",
      "100/100 [==============================] - 937s 9s/step - loss: 0.0328 - accuracy: 0.9897 - precision_7: 0.9906 - recall_7: 0.9881 - val_loss: 0.2191 - val_accuracy: 0.9532 - val_precision_7: 0.9545 - val_recall_7: 0.9523\n",
      "Epoch 85/100\n",
      "100/100 [==============================] - 1004s 10s/step - loss: 0.0317 - accuracy: 0.9884 - precision_7: 0.9890 - recall_7: 0.9878 - val_loss: 0.2270 - val_accuracy: 0.9565 - val_precision_7: 0.9582 - val_recall_7: 0.9560\n",
      "Epoch 86/100\n",
      "100/100 [==============================] - 1007s 10s/step - loss: 0.0404 - accuracy: 0.9891 - precision_7: 0.9894 - recall_7: 0.9887 - val_loss: 0.2704 - val_accuracy: 0.9449 - val_precision_7: 0.9458 - val_recall_7: 0.9444\n",
      "Epoch 87/100\n",
      "100/100 [==============================] - 982s 10s/step - loss: 0.0409 - accuracy: 0.9878 - precision_7: 0.9878 - recall_7: 0.9872 - val_loss: 0.1983 - val_accuracy: 0.9588 - val_precision_7: 0.9597 - val_recall_7: 0.9588\n",
      "Epoch 88/100\n",
      "100/100 [==============================] - 1137s 11s/step - loss: 0.0509 - accuracy: 0.9837 - precision_7: 0.9844 - recall_7: 0.9828 - val_loss: 0.1506 - val_accuracy: 0.9593 - val_precision_7: 0.9606 - val_recall_7: 0.9593\n",
      "Epoch 89/100\n",
      "100/100 [==============================] - 1015s 10s/step - loss: 0.0414 - accuracy: 0.9878 - precision_7: 0.9881 - recall_7: 0.9872 - val_loss: 0.2027 - val_accuracy: 0.9509 - val_precision_7: 0.9553 - val_recall_7: 0.9500\n",
      "Epoch 90/100\n",
      "100/100 [==============================] - 968s 10s/step - loss: 0.0330 - accuracy: 0.9881 - precision_7: 0.9894 - recall_7: 0.9875 - val_loss: 0.1629 - val_accuracy: 0.9644 - val_precision_7: 0.9652 - val_recall_7: 0.9639\n",
      "Epoch 91/100\n",
      "100/100 [==============================] - 938s 9s/step - loss: 0.0541 - accuracy: 0.9859 - precision_7: 0.9872 - recall_7: 0.9844 - val_loss: 0.1571 - val_accuracy: 0.9657 - val_precision_7: 0.9674 - val_recall_7: 0.9625\n",
      "Epoch 92/100\n",
      "100/100 [==============================] - 971s 10s/step - loss: 0.0261 - accuracy: 0.9909 - precision_7: 0.9922 - recall_7: 0.9906 - val_loss: 0.2001 - val_accuracy: 0.9569 - val_precision_7: 0.9587 - val_recall_7: 0.9560\n",
      "Epoch 93/100\n",
      "100/100 [==============================] - 998s 10s/step - loss: 0.0310 - accuracy: 0.9909 - precision_7: 0.9916 - recall_7: 0.9903 - val_loss: 0.1534 - val_accuracy: 0.9588 - val_precision_7: 0.9601 - val_recall_7: 0.9574\n",
      "Epoch 94/100\n",
      "100/100 [==============================] - 953s 10s/step - loss: 0.0272 - accuracy: 0.9912 - precision_7: 0.9916 - recall_7: 0.9909 - val_loss: 0.1773 - val_accuracy: 0.9588 - val_precision_7: 0.9623 - val_recall_7: 0.9583\n",
      "Epoch 95/100\n",
      "100/100 [==============================] - 961s 10s/step - loss: 0.0387 - accuracy: 0.9897 - precision_7: 0.9900 - recall_7: 0.9887 - val_loss: 0.2242 - val_accuracy: 0.9532 - val_precision_7: 0.9541 - val_recall_7: 0.9523\n",
      "Epoch 96/100\n",
      "100/100 [==============================] - 1148s 11s/step - loss: 0.0549 - accuracy: 0.9859 - precision_7: 0.9869 - recall_7: 0.9856 - val_loss: 0.1537 - val_accuracy: 0.9593 - val_precision_7: 0.9610 - val_recall_7: 0.9579\n",
      "Epoch 97/100\n",
      "100/100 [==============================] - 1033s 10s/step - loss: 0.0319 - accuracy: 0.9878 - precision_7: 0.9887 - recall_7: 0.9875 - val_loss: 0.2199 - val_accuracy: 0.9630 - val_precision_7: 0.9634 - val_recall_7: 0.9620\n",
      "Epoch 98/100\n",
      "100/100 [==============================] - 1000s 10s/step - loss: 0.0332 - accuracy: 0.9906 - precision_7: 0.9906 - recall_7: 0.9894 - val_loss: 0.2884 - val_accuracy: 0.9500 - val_precision_7: 0.9504 - val_recall_7: 0.9495\n",
      "Epoch 99/100\n",
      "100/100 [==============================] - 1161s 12s/step - loss: 0.0385 - accuracy: 0.9872 - precision_7: 0.9881 - recall_7: 0.9872 - val_loss: 0.2044 - val_accuracy: 0.9644 - val_precision_7: 0.9656 - val_recall_7: 0.9625\n",
      "Epoch 100/100\n",
      "100/100 [==============================] - 1052s 11s/step - loss: 0.0371 - accuracy: 0.9875 - precision_7: 0.9884 - recall_7: 0.9862 - val_loss: 0.1975 - val_accuracy: 0.9602 - val_precision_7: 0.9606 - val_recall_7: 0.9602\n",
      "waktu training adalah :  99352.2453994751  s\n"
     ]
    }
   ],
   "source": [
    "import tensorflow as tf\n",
    "from tensorflow import keras\n",
    "import time\n",
    "\n",
    "opt = keras.optimizers.Adam(learning_rate=0.01)\n",
    "model.compile(optimizer='adam',\n",
    "              loss='categorical_crossentropy',\n",
    "             metrics=['accuracy', tf.keras.metrics.Precision(),tf.keras.metrics.Recall()])\n",
    "mulai = time.time()\n",
    "history = model.fit(train_generator,\n",
    "    steps_per_epoch = 100,      \n",
    "    #batch_size=60,\n",
    "    epochs = 100,\n",
    "    validation_data = validation_generator\n",
    "    )\n",
    "print(\"waktu training adalah : \", time.time()-mulai , \" s\")"
   ]
  },
  {
   "cell_type": "code",
   "execution_count": null,
   "metadata": {},
   "outputs": [],
   "source": [
    "# train_generator = train_datagen.flow_from_directory(\n",
    "#                   fpath,\n",
    "#                   color_mode='grayscale',\n",
    "#                   target_size = (96,96),\n",
    "#                   subset='training')"
   ]
  },
  {
   "cell_type": "code",
   "execution_count": 58,
   "metadata": {},
   "outputs": [
    {
     "data": {
      "text/plain": [
       "<matplotlib.legend.Legend at 0x1bfa6be1048>"
      ]
     },
     "execution_count": 58,
     "metadata": {},
     "output_type": "execute_result"
    },
    {
     "data": {
      "image/png": "[encoded data removed]",
      "text/plain": [
       "<Figure size 432x288 with 1 Axes>"
      ]
     },
     "metadata": {
      "needs_background": "light"
     },
     "output_type": "display_data"
    }
   ],
   "source": [
    "plt.plot(history.history['accuracy'], label='accuracy')\n",
    "plt.plot(history.history['val_accuracy'], label = 'val_accuracy')\n",
    "plt.plot(np.array(history.history['val_recall_7']), label = 'val_recall')\n",
    "plt.plot(np.array(history.history['val_precision_7']), label = 'val_precission')\n",
    "plt.xlabel('Epoch')\n",
    "plt.ylabel('Accuracy')\n",
    "plt.ylim([0.5, 1.1])\n",
    "plt.legend(loc='lower right')\n",
    "\n",
    "# test_loss, test_acc = model.evaluate(validation_generator,  validation_generator.label, verbose=2)"
   ]
  },
  {
   "cell_type": "markdown",
   "metadata": {},
   "source": [
    "# convert"
   ]
  },
  {
   "cell_type": "code",
   "execution_count": null,
   "metadata": {},
   "outputs": [],
   "source": [
    "# import tensorflow as tf\n",
    "# print(tf.version.VERSION)\n",
    "\n",
    "# model_path = '../out/modeltf.h5'\n",
    "# model.save(model_path)"
   ]
  },
  {
   "cell_type": "code",
   "execution_count": null,
   "metadata": {},
   "outputs": [],
   "source": [
    "# converter = tf.lite.TFLiteConverter.from_keras_model(model)\n",
    "# tflite_model = converter.convert()\n",
    "# open(\"../out/convert_try.tflite\", \"wb\").write(tflite_model)"
   ]
  },
  {
   "cell_type": "code",
   "execution_count": null,
   "metadata": {},
   "outputs": [],
   "source": [
    "# # yhat_classes = model.predict_classes(fttrain, verbose=0)\n",
    "# # yhat_classes\n",
    "# new_model = tf.keras.models.load_model(model_path)\n",
    "# new_model.summary()"
   ]
  },
  {
   "cell_type": "code",
   "execution_count": null,
   "metadata": {},
   "outputs": [],
   "source": [
    "# new_model.predict(train_generator)"
   ]
  },
  {
   "cell_type": "code",
   "execution_count": null,
   "metadata": {},
   "outputs": [],
   "source": [
    "# import tensorflow as tf\n",
    "\n",
    "# y_pred=model.predict_classes(fttrain)\n",
    "# con_mat = tf.math.confusion_matrix(labels=tlabel, predictions=y_pred).numpy()\n",
    "# con_mat[:3,:3]"
   ]
  },
  {
   "cell_type": "code",
   "execution_count": null,
   "metadata": {},
   "outputs": [],
   "source": [
    "# from sklearn.metrics import accuracy_score\n",
    "# from sklearn.metrics import precision_score\n",
    "# from sklearn.metrics import recall_score"
   ]
  },
  {
   "cell_type": "code",
   "execution_count": null,
   "metadata": {},
   "outputs": [],
   "source": [
    "# # accuracy: (tp + tn) / (p + n)\n",
    "# accuracy = accuracy_score(tlabel, yhat_classes)\n",
    "# print('Accuracy: %f' % accuracy)\n",
    "# # precision tp / (tp + fp)\n",
    "# precision = precision_score(tlabel, yhat_classes, average='weighted')\n",
    "# print('Precision: %f' % precision)\n",
    "# # recall: tp / (tp + fn)\n",
    "# recall = recall_score(tlabel, yhat_classes, average='weighted')\n",
    "# print('Recall: %f' % recall)"
   ]
  },
  {
   "cell_type": "code",
   "execution_count": null,
   "metadata": {},
   "outputs": [],
   "source": []
  }
 ],
 "metadata": {
  "kernelspec": {
   "display_name": "flow",
   "language": "python",
   "name": "flow"
  },
  "language_info": {
   "codemirror_mode": {
    "name": "ipython",
    "version": 3
   },
   "file_extension": ".py",
   "mimetype": "text/x-python",
   "name": "python",
   "nbconvert_exporter": "python",
   "pygments_lexer": "ipython3",
   "version": "3.6.10"
  }
 },
 "nbformat": 4,
 "nbformat_minor": 4
}
