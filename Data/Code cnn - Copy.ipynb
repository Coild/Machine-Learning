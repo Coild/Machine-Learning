{
 "cells": [
  {
   "cell_type": "code",
   "execution_count": 1,
   "metadata": {},
   "outputs": [],
   "source": [
    "import pandas\n",
    "import numpy as np\n",
    "import cv2\n",
    "import os"
   ]
  },
  {
   "cell_type": "code",
   "execution_count": 23,
   "metadata": {},
   "outputs": [],
   "source": [
    "#     def kelas (file):\n",
    "#         if 'ha' in file: dot=1\n",
    "#         if 'na' in file: dot=2\n",
    "#         if 'ca' in file: dot=3\n",
    "#         if 'ra' in file: dot=4\n",
    "#         if 'ka' in file: dot=5\n",
    "#         if 'da' in file: dot=6\n",
    "#         if 'ta' in file: dot=7\n",
    "#         if 'sa' in file: dot=8\n",
    "#         if 'wa' in file: dot=9\n",
    "#         if 'la' in file: dot=10\n",
    "#         if 'ma' in file: dot=11\n",
    "#         if 'ga' in file: dot=12\n",
    "#         if 'ba' in file: dot=13\n",
    "#         if 'nga' in file: dot=14\n",
    "#         if 'pa' in file: dot=15\n",
    "#         if 'ja' in file: dot=16\n",
    "#         if 'ya' in file: dot=17\n",
    "#         if 'nya' in file: dot=18\n",
    "#         return (dot-1)\n",
    "\n",
    "#     def minmax (img):#normalisasi min max\n",
    "#         x,y = img.shape\n",
    "#         balik = np.zeros(img.shape)\n",
    "#         maks  = max(img.flatten())\n",
    "#         mins = min(img.flatten())\n",
    "#         for i in range(x):\n",
    "#             for j in range (y):\n",
    "#                 balik[i,j]=(img[i,j]-mins)/(maks-mins)\n",
    "#         return balik"
   ]
  },
  {
   "cell_type": "code",
   "execution_count": 24,
   "metadata": {},
   "outputs": [],
   "source": [
    "# filepath = \"D:\\\\cross\"\n",
    "\n",
    "# traindata = []\n",
    "# trainlabel =[]\n",
    "# testdata =[]\n",
    "# testlabel =[]\n",
    "# for a in os.listdir(filepath):\n",
    "#     c = 1\n",
    "#     for b in os.listdir(filepath + \"\\\\\" + str(a)):\n",
    "#         for nama in os.listdir(filepath + \"\\\\\" + str(a) + \"\\\\\" + str(b)):\n",
    "#             if (int(a)<=2):\n",
    "#                 img= cv2.imread(filepath + \"\\\\\" + str(a) + \"\\\\\" + str(b)+ \"\\\\\" + str(nama),0)#grayscale\n",
    "#                 x = cv2.resize(img,(64,64))#resize\n",
    "#                 x = minmax(x)\n",
    "#                 testdata.append(x)\n",
    "#                 testlabel.append(kelas (nama))\n",
    "#             else :\n",
    "#                 img= cv2.imread(filepath + \"\\\\\" + str(a) + \"\\\\\" + str(b)+ \"\\\\\" + str(nama),0)#grayscale\n",
    "#                 x = cv2.resize(img,(64,64))#resize\n",
    "#                 x = minmax(x)\n",
    "#                 traindata.append(x)\n",
    "#                 trainlabel.append(kelas (nama))"
   ]
  },
  {
   "cell_type": "code",
   "execution_count": 25,
   "metadata": {},
   "outputs": [],
   "source": [
    "# testlabel= np.array(testlabel)\n",
    "# trainlabel = np.array(trainlabel)"
   ]
  },
  {
   "cell_type": "code",
   "execution_count": 26,
   "metadata": {},
   "outputs": [],
   "source": [
    "# print(np.array(dt).shape)\n",
    "# from sklearn.model_selection import train_test_split\n",
    "\n",
    "# x1,x2,y1,y2= train_test_split(dt,ID,test_size=0.2)"
   ]
  },
  {
   "cell_type": "code",
   "execution_count": 27,
   "metadata": {},
   "outputs": [],
   "source": [
    "# dtrain = np.array(x1)\n",
    "# dlabel = np.array(y1)\n",
    "# ttrain = np.array(x2)\n",
    "# tlabel = np.array(y2)\n",
    "# print(dtrain.shape, ttrain.shape)"
   ]
  },
  {
   "cell_type": "code",
   "execution_count": 28,
   "metadata": {},
   "outputs": [],
   "source": [
    "# fdtrain = np.zeros ((8640,64,64,1))\n",
    "# fdtrain[:,:,:,0] = traindata\n",
    "# fttrain = np.zeros ((2160,64,64,1))\n",
    "# fttrain[:,:,:,0] = testdata\n",
    "# fdtrain.shape"
   ]
  },
  {
   "cell_type": "markdown",
   "metadata": {},
   "source": [
    "# TRAIN GENERATOR"
   ]
  },
  {
   "cell_type": "code",
   "execution_count": 2,
   "metadata": {},
   "outputs": [],
   "source": [
    "from tensorflow.keras.preprocessing.image import ImageDataGenerator\n",
    "\n",
    "train_datagen = ImageDataGenerator(\n",
    "                    rescale = 1./255,\n",
    "                    horizontal_flip = False,\n",
    "                    fill_mode = 'wrap',\n",
    "                    validation_split=0.2)\n"
   ]
  },
  {
   "cell_type": "code",
   "execution_count": 3,
   "metadata": {},
   "outputs": [
    {
     "name": "stdout",
     "output_type": "stream",
     "text": [
      "Found 8640 images belonging to 18 classes.\n",
      "Found 2160 images belonging to 18 classes.\n"
     ]
    }
   ],
   "source": [
    "fpath = \"D:\\\\data\"\n",
    "train_generator = train_datagen.flow_from_directory(\n",
    "                  fpath,\n",
    "                  #color_mode='grayscale',\n",
    "                  target_size = (64,64),\n",
    "                  subset='training')\n",
    "\n",
    "validation_generator = train_datagen.flow_from_directory(\n",
    "                  fpath,\n",
    "                  #color_mode='grayscale',\n",
    "                  target_size = (64,64),\n",
    "                  subset='validation'\n",
    ")"
   ]
  },
  {
   "cell_type": "code",
   "execution_count": 42,
   "metadata": {},
   "outputs": [],
   "source": [
    "# np.array(train_generator).shape"
   ]
  },
  {
   "cell_type": "markdown",
   "metadata": {},
   "source": [
    "# import tensorflow as tf\n",
    "\n",
    "from tensorflow.keras import datasets, layers, models\n",
    "import matplotlib.pyplot as plt"
   ]
  },
  {
   "cell_type": "code",
   "execution_count": 4,
   "metadata": {},
   "outputs": [],
   "source": [
    "from tensorflow.keras import datasets, layers, models\n",
    "import matplotlib.pyplot as plt"
   ]
  },
  {
   "cell_type": "code",
   "execution_count": 5,
   "metadata": {},
   "outputs": [],
   "source": [
    "model = models.Sequential()\n",
    "model.add(layers.Conv2D(128, (5, 5), activation='relu',padding='same', input_shape=(64,64,3)))\n",
    "model.add(layers.MaxPooling2D((2,2)))\n",
    "model.add(layers.Conv2D(128, (5, 5),padding='same', activation='relu'))\n",
    "model.add(layers.MaxPooling2D((2, 2)))\n",
    "model.add(layers.Conv2D(128, (5, 5),padding='same', activation='relu'))\n",
    "model.add(layers.Flatten())\n",
    "model.add(layers.Dense(128, activation='relu'))\n",
    "model.add(layers.Dropout(0.2))\n",
    "model.add(layers.Dense(18, activation='softmax'))"
   ]
  },
  {
   "cell_type": "code",
   "execution_count": 6,
   "metadata": {},
   "outputs": [
    {
     "name": "stdout",
     "output_type": "stream",
     "text": [
      "Model: \"sequential\"\n",
      "_________________________________________________________________\n",
      "Layer (type)                 Output Shape              Param #   \n",
      "=================================================================\n",
      "conv2d (Conv2D)              (None, 64, 64, 128)       9728      \n",
      "_________________________________________________________________\n",
      "max_pooling2d (MaxPooling2D) (None, 32, 32, 128)       0         \n",
      "_________________________________________________________________\n",
      "conv2d_1 (Conv2D)            (None, 32, 32, 128)       409728    \n",
      "_________________________________________________________________\n",
      "max_pooling2d_1 (MaxPooling2 (None, 16, 16, 128)       0         \n",
      "_________________________________________________________________\n",
      "conv2d_2 (Conv2D)            (None, 16, 16, 128)       409728    \n",
      "_________________________________________________________________\n",
      "flatten (Flatten)            (None, 32768)             0         \n",
      "_________________________________________________________________\n",
      "dense (Dense)                (None, 128)               4194432   \n",
      "_________________________________________________________________\n",
      "dropout (Dropout)            (None, 128)               0         \n",
      "_________________________________________________________________\n",
      "dense_1 (Dense)              (None, 18)                2322      \n",
      "=================================================================\n",
      "Total params: 5,025,938\n",
      "Trainable params: 5,025,938\n",
      "Non-trainable params: 0\n",
      "_________________________________________________________________\n"
     ]
    }
   ],
   "source": [
    "model.summary()"
   ]
  },
  {
   "cell_type": "code",
   "execution_count": 7,
   "metadata": {},
   "outputs": [],
   "source": [
    "# from keras.callbacks import Callback\n",
    "# from sklearn.metrics import confusion_matrix, accuracy_score, precision_score, recall_score\n",
    "# class Metrics(Callback):\n",
    "    \n",
    "#     def on_train_begin(self, logs={}):\n",
    "#         self.val_accuracy = []\n",
    "#         self.val_recalls = []\n",
    "\n",
    "#         self.val_precisions = []\n",
    "        \n",
    "#     def on_epoch_begin(self, epoch, logs=None):\n",
    "#         pass\n",
    "\n",
    "#     def on_epoch_end(self, epoch, logs={}):\n",
    "#         val_predict = model.predict_classes(validation_generator, verbose=0)\n",
    "#         val_targ = validation_generator.class_indices\n",
    "        \n",
    "#         _val_recall = recall_score(val_targ, val_predict, average='weighted')\n",
    "#         _val_precision = precision_score(val_targ, val_predict, average='weighted')\n",
    "#         _val_accuracy = accuracy_score(val_targ, val_predict)\n",
    "        \n",
    "#         self.val_recalls.append(_val_recall)\n",
    "#         self.val_precisions.append(_val_precision)\n",
    "#         self.val_accuracy.append(_val_accuracy)\n",
    "        \n",
    "#         print (\"\\n\\n * val_accuracy: %f — val_precision: %f — val_recall %f\" %(_val_accuracy, _val_precision, _val_recall), \"\\n \\n\")\n",
    "#         return\n",
    "    \n",
    "    \n",
    "# met = Metrics()"
   ]
  },
  {
   "cell_type": "code",
   "execution_count": 7,
   "metadata": {},
   "outputs": [
    {
     "name": "stdout",
     "output_type": "stream",
     "text": [
      "Train for 100 steps, validate for 68 steps\n",
      "Epoch 1/10\n",
      "100/100 [==============================] - 404s 4s/step - loss: 2.3916 - accuracy: 0.2447 - precision: 0.5642 - recall: 0.0769 - val_loss: 1.0817 - val_accuracy: 0.6583 - val_precision: 0.7728 - val_recall: 0.4236\n",
      "Epoch 2/10\n",
      "100/100 [==============================] - 524s 5s/step - loss: 1.1291 - accuracy: 0.6328 - precision: 0.7873 - recall: 0.4834 - val_loss: 0.5379 - val_accuracy: 0.8250 - val_precision: 0.8745 - val_recall: 0.7551\n",
      "Epoch 3/10\n",
      "100/100 [==============================] - 550s 6s/step - loss: 0.7192 - accuracy: 0.7725 - precision: 0.8562 - recall: 0.7053 - val_loss: 0.4274 - val_accuracy: 0.8657 - val_precision: 0.8911 - val_recall: 0.8296\n",
      "Epoch 4/10\n",
      "100/100 [==============================] - 629s 6s/step - loss: 0.5279 - accuracy: 0.8338 - precision: 0.8908 - recall: 0.7875 - val_loss: 0.4140 - val_accuracy: 0.8625 - val_precision: 0.8945 - val_recall: 0.8282\n",
      "Epoch 5/10\n",
      "100/100 [==============================] - 750s 7s/step - loss: 0.4059 - accuracy: 0.8716 - precision: 0.9083 - recall: 0.8322 - val_loss: 0.2569 - val_accuracy: 0.9241 - val_precision: 0.9349 - val_recall: 0.9171\n",
      "Epoch 6/10\n",
      "100/100 [==============================] - 616s 6s/step - loss: 0.3592 - accuracy: 0.8878 - precision: 0.9160 - recall: 0.8625 - val_loss: 0.2740 - val_accuracy: 0.9106 - val_precision: 0.9255 - val_recall: 0.9032\n",
      "Epoch 7/10\n",
      "100/100 [==============================] - 413s 4s/step - loss: 0.3335 - accuracy: 0.8972 - precision: 0.9230 - recall: 0.8728 - val_loss: 0.2221 - val_accuracy: 0.9380 - val_precision: 0.9420 - val_recall: 0.9324\n",
      "Epoch 8/10\n",
      "100/100 [==============================] - 333s 3s/step - loss: 0.2935 - accuracy: 0.9103 - precision: 0.9317 - recall: 0.8903 - val_loss: 0.2328 - val_accuracy: 0.9338 - val_precision: 0.9430 - val_recall: 0.9264\n",
      "Epoch 9/10\n",
      "100/100 [==============================] - 403s 4s/step - loss: 0.2463 - accuracy: 0.9253 - precision: 0.9462 - recall: 0.9075 - val_loss: 0.2287 - val_accuracy: 0.9259 - val_precision: 0.9374 - val_recall: 0.9222\n",
      "Epoch 10/10\n",
      "100/100 [==============================] - 274s 3s/step - loss: 0.2397 - accuracy: 0.9297 - precision: 0.9440 - recall: 0.9122 - val_loss: 0.2269 - val_accuracy: 0.9366 - val_precision: 0.9402 - val_recall: 0.9324\n",
      "waktu training adalah :  5180.775778055191  s\n"
     ]
    }
   ],
   "source": [
    "import tensorflow as tf\n",
    "from tensorflow import keras\n",
    "import time\n",
    "\n",
    "opt = keras.optimizers.Adam(learning_rate=0.01)\n",
    "model.compile(optimizer='adam',\n",
    "              loss='categorical_crossentropy',\n",
    "             metrics=['accuracy', tf.keras.metrics.Precision(),tf.keras.metrics.Recall()])\n",
    "mulai = time.time()\n",
    "history = model.fit(train_generator,\n",
    "    steps_per_epoch = 100,      \n",
    "    #batch_size=60,\n",
    "    epochs = 10,\n",
    "    validation_data = validation_generator\n",
    "    )\n",
    "print(\"waktu training adalah : \", time.time()-mulai , \" s\")"
   ]
  },
  {
   "cell_type": "code",
   "execution_count": null,
   "metadata": {},
   "outputs": [],
   "source": [
    "# train_generator = train_datagen.flow_from_directory(\n",
    "#                   fpath,\n",
    "#                   color_mode='grayscale',\n",
    "#                   target_size = (96,96),\n",
    "#                   subset='training')"
   ]
  },
  {
   "cell_type": "code",
   "execution_count": 58,
   "metadata": {},
   "outputs": [
    {
     "data": {
      "text/plain": [
       "<matplotlib.legend.Legend at 0x1bfa6be1048>"
      ]
     },
     "execution_count": 58,
     "metadata": {},
     "output_type": "execute_result"
    },
    {
     "data": {
      "image/png": "[encoded data removed]",
      "text/plain": [
       "<Figure size 432x288 with 1 Axes>"
      ]
     },
     "metadata": {
      "needs_background": "light"
     },
     "output_type": "display_data"
    }
   ],
   "source": [
    "plt.plot(history.history['accuracy'], label='accuracy')\n",
    "plt.plot(history.history['val_accuracy'], label = 'val_accuracy')\n",
    "plt.plot(np.array(history.history['val_recall_7']), label = 'val_recall')\n",
    "plt.plot(np.array(history.history['val_precision_7']), label = 'val_precission')\n",
    "plt.xlabel('Epoch')\n",
    "plt.ylabel('Accuracy')\n",
    "plt.ylim([0.5, 1.1])\n",
    "plt.legend(loc='lower right')\n",
    "\n",
    "# test_loss, test_acc = model.evaluate(validation_generator,  validation_generator.label, verbose=2)"
   ]
  },
  {
   "cell_type": "markdown",
   "metadata": {},
   "source": [
    "# convert"
   ]
  },
  {
   "cell_type": "code",
   "execution_count": 2,
   "metadata": {},
   "outputs": [
    {
     "name": "stdout",
     "output_type": "stream",
     "text": [
      "2.0.0\n"
     ]
    }
   ],
   "source": [
    "import tensorflow as tf\n",
    "print(tf.version.VERSION)\n",
    "\n",
    "# model_path = '../out/modeltf.h5'\n",
    "# model.save(model_path)"
   ]
  },
  {
   "cell_type": "code",
   "execution_count": 8,
   "metadata": {},
   "outputs": [
    {
     "data": {
      "text/plain": [
       "20106504"
      ]
     },
     "execution_count": 8,
     "metadata": {},
     "output_type": "execute_result"
    }
   ],
   "source": [
    "converter = tf.lite.TFLiteConverter.from_keras_model(model)\n",
    "tflite_model = converter.convert()\n",
    "open(\"../out/convert_rgb.tflite\", \"wb\").write(tflite_model)"
   ]
  },
  {
   "cell_type": "code",
   "execution_count": 1,
   "metadata": {},
   "outputs": [
    {
     "name": "stdout",
     "output_type": "stream",
     "text": [
      "Model: \"sequential\"\n",
      "_________________________________________________________________\n",
      "Layer (type)                 Output Shape              Param #   \n",
      "=================================================================\n",
      "conv2d (Conv2D)              (None, 64, 64, 64)        4864      \n",
      "_________________________________________________________________\n",
      "max_pooling2d (MaxPooling2D) (None, 32, 32, 64)        0         \n",
      "_________________________________________________________________\n",
      "conv2d_1 (Conv2D)            (None, 32, 32, 64)        102464    \n",
      "_________________________________________________________________\n",
      "max_pooling2d_1 (MaxPooling2 (None, 16, 16, 64)        0         \n",
      "_________________________________________________________________\n",
      "conv2d_2 (Conv2D)            (None, 16, 16, 64)        102464    \n",
      "_________________________________________________________________\n",
      "max_pooling2d_2 (MaxPooling2 (None, 8, 8, 64)          0         \n",
      "_________________________________________________________________\n",
      "flatten (Flatten)            (None, 4096)              0         \n",
      "_________________________________________________________________\n",
      "dense (Dense)                (None, 128)               524416    \n",
      "_________________________________________________________________\n",
      "dense_1 (Dense)              (None, 128)               16512     \n",
      "_________________________________________________________________\n",
      "dense_2 (Dense)              (None, 128)               16512     \n",
      "_________________________________________________________________\n",
      "dropout (Dropout)            (None, 128)               0         \n",
      "_________________________________________________________________\n",
      "dense_3 (Dense)              (None, 18)                2322      \n",
      "=================================================================\n",
      "Total params: 769,554\n",
      "Trainable params: 769,554\n",
      "Non-trainable params: 0\n",
      "_________________________________________________________________\n"
     ]
    }
   ],
   "source": [
    "# # yhat_classes = model.predict_classes(fttrain, verbose=0)\n",
    "# # yhat_classes\n",
    "import tensorflow as tf\n",
    "new_model = tf.keras.models.load_model('../RGB/100epoch.h5')\n",
    "new_model.summary()"
   ]
  },
  {
   "cell_type": "code",
   "execution_count": 5,
   "metadata": {},
   "outputs": [
    {
     "name": "stdout",
     "output_type": "stream",
     "text": [
      "waktu training adalah :  95.15513634681702  s\n",
      "waktu testing adalah :  15.257386922836304  s\n"
     ]
    }
   ],
   "source": [
    "import time\n",
    "mulai = time.time()\n",
    "a = new_model.predict(train_generator)\n",
    "print(\"waktu training adalah : \", time.time()-mulai , \" s\")\n",
    "mulai = time.time()\n",
    "b = new_model.predict(validation_generator)\n",
    "print(\"waktu testing adalah : \", time.time()-mulai , \" s\")"
   ]
  },
  {
   "cell_type": "code",
   "execution_count": 6,
   "metadata": {},
   "outputs": [
    {
     "name": "stdout",
     "output_type": "stream",
     "text": [
      "[[3.13875118e-31 0.00000000e+00 0.00000000e+00 ... 3.01117399e-36\n",
      "  0.00000000e+00 4.25353247e-38]\n",
      " [0.00000000e+00 0.00000000e+00 0.00000000e+00 ... 0.00000000e+00\n",
      "  3.02369438e-23 0.00000000e+00]\n",
      " [4.07398182e-14 2.53684172e-13 5.65528246e-09 ... 3.11817655e-11\n",
      "  1.00245925e-05 2.36464330e-04]\n",
      " ...\n",
      " [1.39295695e-22 1.00000000e+00 7.09695200e-26 ... 1.93680751e-23\n",
      "  1.45627667e-19 2.89075902e-31]\n",
      " [3.77392415e-34 7.53835687e-30 2.85509208e-20 ... 2.08017846e-20\n",
      "  3.94960094e-24 1.00000000e+00]\n",
      " [0.00000000e+00 3.96664948e-23 1.00000000e+00 ... 6.93065320e-17\n",
      "  3.35239182e-24 2.72576423e-18]]\n",
      "[[0.0000000e+00 0.0000000e+00 0.0000000e+00 ... 0.0000000e+00\n",
      "  7.8799884e-24 0.0000000e+00]\n",
      " [2.0586160e-31 1.3203130e-25 3.8234802e-20 ... 4.7076424e-14\n",
      "  3.3428508e-25 2.9671323e-17]\n",
      " [3.8362553e-09 9.9999976e-01 7.5898151e-12 ... 4.8139975e-10\n",
      "  2.1943918e-09 9.2664002e-14]\n",
      " ...\n",
      " [1.9334145e-09 1.1586326e-21 3.2097291e-24 ... 4.9954264e-18\n",
      "  4.3707889e-18 4.9681455e-22]\n",
      " [1.0000000e+00 1.8806266e-34 0.0000000e+00 ... 1.7654034e-21\n",
      "  3.4559760e-37 3.9455791e-32]\n",
      " [0.0000000e+00 0.0000000e+00 0.0000000e+00 ... 0.0000000e+00\n",
      "  0.0000000e+00 0.0000000e+00]]\n"
     ]
    }
   ],
   "source": [
    "print(a)\n",
    "print(b)"
   ]
  },
  {
   "cell_type": "code",
   "execution_count": 6,
   "metadata": {},
   "outputs": [
    {
     "name": "stdout",
     "output_type": "stream",
     "text": [
      "[[0. 0. 0. 0. 0. 0. 0. 0. 0. 0. 0. 0. 0. 0. 0. 0. 0. 1.]]\n"
     ]
    },
    {
     "data": {
      "image/png": "[encoded data removed]",
      "text/plain": [
       "<Figure size 432x288 with 1 Axes>"
      ]
     },
     "metadata": {
      "needs_background": "light"
     },
     "output_type": "display_data"
    }
   ],
   "source": [
    "# new_model.predict(train_generator)\n",
    "from keras.preprocessing import image\n",
    "import matplotlib.pyplot as plt\n",
    "import numpy as np\n",
    "\n",
    "img = image.load_img(\"D:\\\\data\\\\ya\\\\ya(1).png.png\", target_size=(64,64));\n",
    "imgplot = plt.imshow(img)\n",
    "x = image.img_to_array(img)\n",
    "x = np.expand_dims(x, axis=0)\n",
    "#x.shape()\n",
    "\n",
    "classes = new_model.predict(x)\n",
    "print (classes)"
   ]
  },
  {
   "cell_type": "code",
   "execution_count": 7,
   "metadata": {},
   "outputs": [],
   "source": [
    "def huruf (nilai) :\n",
    "    balik=0;\n",
    "    nilai = np.array(nilai)\n",
    "#     print (nilai.shape())\n",
    "    \n",
    "    for i in range (18):\n",
    "        if (nilai[0][i]==1): \n",
    "            balik=i;\n",
    "     \n",
    "    if (balik==0): \n",
    "            huruf= \"ba\"\n",
    "    if (balik==1): \n",
    "        huruf= \"ca\";\n",
    "    if (balik==2): \n",
    "        huruf= \"da\";\n",
    "    if (balik==3): \n",
    "        huruf= \"ga\";\n",
    "    if (balik==4): \n",
    "        huruf= \"ha\";\n",
    "    if (balik==5): \n",
    "        huruf= \"ja\";\n",
    "    if (balik==6): \n",
    "        huruf= \"ka\";\n",
    "    if (balik==7): \n",
    "        huruf= \"la\";\n",
    "    if (balik==8): \n",
    "        huruf= \"ma\";\n",
    "    if (balik==9): \n",
    "        huruf= \"na\";\n",
    "    if (balik==10): \n",
    "        huruf= \"nga\";\n",
    "    if (balik==11): \n",
    "        huruf= \"nya\";\n",
    "    if (balik==12): \n",
    "        huruf= \"pa\";\n",
    "    if (balik==13): \n",
    "        huruf= \"ra\";\n",
    "    if (balik==14): \n",
    "        huruf= \"sa\";\n",
    "    if (balik==15): \n",
    "        huruf= \"ta\";\n",
    "    if (balik==16): \n",
    "        huruf= \"wa\";\n",
    "    if (balik==17): \n",
    "        huruf= \"ya\";\n",
    "    return huruf;\n"
   ]
  },
  {
   "cell_type": "code",
   "execution_count": 26,
   "metadata": {},
   "outputs": [
    {
     "name": "stdout",
     "output_type": "stream",
     "text": [
      "[[0. 0. 0. 0. 0. 0. 0. 0. 1. 0. 0. 0. 0. 0. 0. 0. 0. 0.]]\n",
      "ma 8\n"
     ]
    },
    {
     "data": {
      "image/png": "[encoded data removed]",
      "text/plain": [
       "<Figure size 432x288 with 1 Axes>"
      ]
     },
     "metadata": {
      "needs_background": "light"
     },
     "output_type": "display_data"
    }
   ],
   "source": [
    "img = image.load_img(\"E:\\\\Tugas Akhir\\\\Testing\\\\Gambar\\\\Dimas Yudistira\\\\Huruf56.png\", target_size=(64,64));\n",
    "imgplot = plt.imshow(img, \"gray\")\n",
    "x = image.img_to_array(img)\n",
    "#x=x/255\n",
    "x = np.expand_dims(x, axis=0)\n",
    "def mac(yo):\n",
    "    balik =0;\n",
    "    for i in range(18):\n",
    "        if (yo[0,balik]<yo[0,i]):\n",
    "            balik =i;\n",
    "    return balik;\n",
    "classes = new_model.predict(x)\n",
    "#classes =np.round(classes)\n",
    "print (classes)\n",
    "print (huruf(classes), mac(classes))"
   ]
  },
  {
   "cell_type": "code",
   "execution_count": 58,
   "metadata": {},
   "outputs": [
    {
     "name": "stdout",
     "output_type": "stream",
     "text": [
      "Huruf10.png  =  da\n",
      "Huruf11.png  =  ha\n",
      "Huruf12.png  =  na\n",
      "Huruf13.png  =  na\n",
      "Huruf14.png  =  na\n",
      "Huruf15.png  =  da\n",
      "Huruf16.png  =  na\n",
      "Huruf17.png  =  ja\n",
      "Huruf18.png  =  da\n",
      "Huruf19.png  =  ja\n",
      "Huruf20.png  =  ja\n",
      "Huruf21.png  =  na\n",
      "Huruf25.png  =  ja\n",
      "Huruf26.png  =  ja\n",
      "Huruf27.png  =  ra\n",
      "Huruf28.png  =  ja\n",
      "Huruf29.png  =  ja\n",
      "Huruf30.png  =  ca\n",
      "Huruf31.png  =  ka\n",
      "Huruf32.png  =  ka\n",
      "Huruf33.png  =  ka\n",
      "Huruf34.png  =  ka\n",
      "Huruf35.png  =  da\n",
      "Huruf36.png  =  ya\n",
      "Huruf37.png  =  da\n",
      "Huruf38.png  =  na\n",
      "Huruf39.png  =  da\n",
      "Huruf40.png  =  ta\n",
      "Huruf41.png  =  ta\n",
      "Huruf42.png  =  ta\n",
      "Huruf43.png  =  ta\n",
      "Huruf44.png  =  ta\n",
      "Huruf45.png  =  ca\n",
      "Huruf46.png  =  na\n",
      "Huruf47.png  =  sa\n",
      "Huruf48.png  =  ca\n",
      "Huruf49.png  =  na\n",
      "Huruf50.png  =  la\n",
      "Huruf51.png  =  ga\n",
      "Huruf52.png  =  ja\n",
      "Huruf53.png  =  la\n",
      "Huruf54.png  =  ja\n",
      "Huruf55.png  =  ma\n",
      "Huruf56.png  =  ma\n",
      "Huruf57.png  =  ja\n",
      "Huruf58.png  =  nga\n",
      "Huruf59.png  =  da\n",
      "Huruf60.png  =  ja\n",
      "Huruf61.png  =  nga\n",
      "Huruf62.png  =  ja\n",
      "Huruf63.png  =  nga\n",
      "Huruf64.png  =  nga\n",
      "Huruf65.png  =  ga\n",
      "Huruf66.png  =  ga\n",
      "Huruf67.png  =  ga\n",
      "Huruf68.png  =  nga\n",
      "Huruf69.png  =  ba\n",
      "Huruf7.png  =  ha\n",
      "Huruf70.png  =  ga\n",
      "Huruf71.png  =  ba\n",
      "Huruf72.png  =  nga\n",
      "Huruf73.png  =  nga\n",
      "Huruf74.png  =  nga\n",
      "Huruf75.png  =  ga\n",
      "Huruf76.png  =  nga\n",
      "Huruf77.png  =  ya\n",
      "Huruf78.png  =  da\n",
      "Huruf79.png  =  da\n",
      "Huruf8.png  =  ha\n",
      "Huruf80.png  =  da\n",
      "Huruf81.png  =  ya\n",
      "Huruf82.png  =  ja\n",
      "Huruf83.png  =  ja\n",
      "Huruf84.png  =  na\n",
      "Huruf85.png  =  ja\n",
      "Huruf86.png  =  ja\n",
      "Huruf87.png  =  ja\n",
      "Huruf88.png  =  ya\n",
      "Huruf89.png  =  ya\n",
      "Huruf9.png  =  ha\n",
      "Huruf90.png  =  da\n",
      "Huruf91.png  =  da\n",
      "Huruf92.png  =  da\n",
      "Huruf93.png  =  ja\n",
      "Huruf94.png  =  nya\n",
      "Huruf95.png  =  nga\n",
      "Huruf96.png  =  nya\n",
      "Huruf97.png  =  nya\n"
     ]
    },
    {
     "data": {
      "image/png": "[encoded data removed]",
      "text/plain": [
       "<Figure size 432x288 with 1 Axes>"
      ]
     },
     "metadata": {
      "needs_background": "light"
     },
     "output_type": "display_data"
    }
   ],
   "source": [
    "import os\n",
    "filepath=\"E:\\\\Tugas Akhir\\\\Testing\\\\Fix\\\\ega\\\\\"\n",
    "for a in os.listdir(filepath):\n",
    "    img = image.load_img(filepath+a, target_size=(64,64));\n",
    "    imgplot = plt.imshow(img, \"gray\")\n",
    "    x = image.img_to_array(img)\n",
    "    #x=x/255\n",
    "    x = np.expand_dims(x, axis=0)\n",
    "\n",
    "    classes = new_model.predict(x)\n",
    "    classes =np.round(classes)\n",
    "#     print (classes)\n",
    "    print (a , \" = \",huruf(classes))\n",
    "    "
   ]
  },
  {
   "cell_type": "code",
   "execution_count": 28,
   "metadata": {
    "scrolled": true
   },
   "outputs": [
    {
     "data": {
      "text/plain": [
       "'ca'"
      ]
     },
     "execution_count": 28,
     "metadata": {},
     "output_type": "execute_result"
    },
    {
     "data": {
      "image/png": "[encoded data removed]",
      "text/plain": [
       "<Figure size 432x288 with 1 Axes>"
      ]
     },
     "metadata": {
      "needs_background": "light"
     },
     "output_type": "display_data"
    }
   ],
   "source": [
    "img = image.load_img(\"D:\\\\android image\\\\Huruf17.png\", target_size=(64,64), grayscale=True);\n",
    "#img =  image.load_img(\"D:\\\\data\\\\ca\\\\ca(1).png.png\", target_size=(64,64), grayscale=True);\n",
    "img = image.img_to_array(img)\n",
    "imgplot = plt.imshow(img, \"gray\")\n",
    "img = np.expand_dims(img, axis=0)\n",
    "\n",
    "# img2 =  image.load_img(\"D:\\\\data\\\\na\\\\na(1).png.png\", target_size=(64,64), grayscale=True);\n",
    "# img2 = np.expand_dims(img2, axis=0)\n",
    "# img2 = np.expand_dims(img2, axis=0)\n",
    "\n",
    "hasil = new_model.predict(img)\n",
    "\n",
    "a= np.unique(img);\n",
    "# b= np.unique(img2);\n",
    "huruf(hasil)"
   ]
  },
  {
   "cell_type": "code",
   "execution_count": 36,
   "metadata": {},
   "outputs": [
    {
     "name": "stdout",
     "output_type": "stream",
     "text": [
      "[[[255.]\n",
      "  [255.]\n",
      "  [255.]\n",
      "  ...\n",
      "  [255.]\n",
      "  [255.]\n",
      "  [255.]]\n",
      "\n",
      " [[255.]\n",
      "  [255.]\n",
      "  [255.]\n",
      "  ...\n",
      "  [255.]\n",
      "  [255.]\n",
      "  [255.]]\n",
      "\n",
      " [[255.]\n",
      "  [255.]\n",
      "  [255.]\n",
      "  ...\n",
      "  [255.]\n",
      "  [255.]\n",
      "  [255.]]\n",
      "\n",
      " ...\n",
      "\n",
      " [[255.]\n",
      "  [255.]\n",
      "  [255.]\n",
      "  ...\n",
      "  [255.]\n",
      "  [255.]\n",
      "  [255.]]\n",
      "\n",
      " [[255.]\n",
      "  [255.]\n",
      "  [255.]\n",
      "  ...\n",
      "  [255.]\n",
      "  [255.]\n",
      "  [255.]]\n",
      "\n",
      " [[255.]\n",
      "  [255.]\n",
      "  [255.]\n",
      "  ...\n",
      "  [255.]\n",
      "  [255.]\n",
      "  [255.]]]\n"
     ]
    }
   ],
   "source": [
    "img = image.load_img(\"D:\\\\android image\\\\Huruf17.png\", target_size=(64,64), grayscale=True);\n",
    "#img =  image.load_img(\"D:\\\\data\\\\ca\\\\ca(1).png.png\", target_size=(64,64), grayscale=True);\n",
    "img = image.img_to_array(img)\n",
    "print(img/225)"
   ]
  },
  {
   "cell_type": "code",
   "execution_count": null,
   "metadata": {},
   "outputs": [],
   "source": [
    "# import tensorflow as tf\n",
    "\n",
    "# y_pred=model.predict_classes(fttrain)\n",
    "# con_mat = tf.math.confusion_matrix(labels=tlabel, predictions=y_pred).numpy()\n",
    "# con_mat[:3,:3]"
   ]
  },
  {
   "cell_type": "code",
   "execution_count": 7,
   "metadata": {},
   "outputs": [],
   "source": [
    "from sklearn.metrics import accuracy_score\n",
    "from sklearn.metrics import precision_score\n",
    "from sklearn.metrics import recall_score"
   ]
  },
  {
   "cell_type": "code",
   "execution_count": 28,
   "metadata": {},
   "outputs": [
    {
     "data": {
      "text/plain": [
       "0.056875"
      ]
     },
     "execution_count": 28,
     "metadata": {},
     "output_type": "execute_result"
    }
   ],
   "source": [
    "def maks(data):\n",
    "    balik=0\n",
    "    for i in range(18):\n",
    "        if (data[balik]<data[i]):\n",
    "            balik=i\n",
    "    return balik\n",
    "hasil=0\n",
    "for i in range (8000):\n",
    "    if (maks(a[i])==train_generator.labels[i]):\n",
    "        hasil+=1\n",
    "hasil/8000"
   ]
  },
  {
   "cell_type": "code",
   "execution_count": 10,
   "metadata": {},
   "outputs": [],
   "source": [
    "# accuracy: (tp + tn) / (p + n)\n",
    "# accuracy = accuracy_score(a, train_generator.labels)\n",
    "# print('Accuracy: %f' % accuracy)\n",
    "# # precision tp / (tp + fp)\n",
    "# precision = precision_score(tlabel, yhat_classes, average='weighted')\n",
    "# print('Precision: %f' % precision)\n",
    "# # recall: tp / (tp + fn)\n",
    "# recall = recall_score(tlabel, yhat_classes, average='weighted')\n",
    "# print('Recall: %f' % recall)"
   ]
  },
  {
   "cell_type": "code",
   "execution_count": null,
   "metadata": {},
   "outputs": [],
   "source": []
  }
 ],
 "metadata": {
  "kernelspec": {
   "display_name": "flow",
   "language": "python",
   "name": "flow"
  },
  "language_info": {
   "codemirror_mode": {
    "name": "ipython",
    "version": 3
   },
   "file_extension": ".py",
   "mimetype": "text/x-python",
   "name": "python",
   "nbconvert_exporter": "python",
   "pygments_lexer": "ipython3",
   "version": "3.6.10"
  }
 },
 "nbformat": 4,
 "nbformat_minor": 4
}
